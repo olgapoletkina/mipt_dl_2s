{
  "nbformat": 4,
  "nbformat_minor": 0,
  "metadata": {
    "colab": {
      "provenance": [],
      "machine_shape": "hm",
      "gpuType": "L4"
    },
    "kernelspec": {
      "name": "python3",
      "display_name": "Python 3"
    },
    "language_info": {
      "name": "python"
    },
    "accelerator": "GPU"
  },
  "cells": [
    {
      "cell_type": "markdown",
      "source": [
        "# Загрузка библиотек"
      ],
      "metadata": {
        "id": "kVRql-TbylYl"
      }
    },
    {
      "cell_type": "code",
      "source": [
        "from google.colab import drive\n",
        "drive.mount('/content/drive')"
      ],
      "metadata": {
        "colab": {
          "base_uri": "https://localhost:8080/"
        },
        "id": "Xn6OIy2xKfWn",
        "outputId": "168c3b5f-a504-43d1-8199-21adc6f4d498"
      },
      "execution_count": 1,
      "outputs": [
        {
          "output_type": "stream",
          "name": "stdout",
          "text": [
            "Mounted at /content/drive\n"
          ]
        }
      ]
    },
    {
      "cell_type": "code",
      "source": [
        "import pandas as pd\n",
        "import numpy as np\n",
        "import matplotlib.pyplot as plt\n",
        "import seaborn as sns\n",
        "\n",
        "import warnings\n",
        "warnings.filterwarnings('ignore')\n",
        "\n",
        "from sklearn.model_selection import train_test_split\n",
        "from PIL import Image\n",
        "\n",
        "import torch\n",
        "import torch.nn as nn\n",
        "import torch.nn.functional as F\n",
        "from torch.utils.data import Dataset, DataLoader, TensorDataset, random_split\n",
        "from torchvision import transforms"
      ],
      "metadata": {
        "id": "aOWMOmTHLKwD"
      },
      "execution_count": 2,
      "outputs": []
    },
    {
      "cell_type": "markdown",
      "source": [
        "# Данные"
      ],
      "metadata": {
        "id": "4hZPyo77zZ5a"
      }
    },
    {
      "cell_type": "code",
      "source": [
        "train = pd.read_csv('/content/drive/MyDrive/MFTI/SEM_02/Deep_learning/fmnist_train.csv')\n",
        "test = pd.read_csv('/content/drive/MyDrive/MFTI/SEM_02/Deep_learning/fmnist_test.csv')\n",
        "subm = pd.read_csv('/content/drive/MyDrive/MFTI/SEM_02/Deep_learning/sample_submission.csv')"
      ],
      "metadata": {
        "id": "b0z_ClsnLiGl"
      },
      "execution_count": 3,
      "outputs": []
    },
    {
      "cell_type": "code",
      "source": [
        "train.head()"
      ],
      "metadata": {
        "colab": {
          "base_uri": "https://localhost:8080/",
          "height": 256
        },
        "id": "b15RuPiRLnvN",
        "outputId": "4bdc9f40-84c2-4247-8f4e-b099ac64e8be"
      },
      "execution_count": 4,
      "outputs": [
        {
          "output_type": "execute_result",
          "data": {
            "text/plain": [
              "   label  pixel1  pixel2  pixel3  pixel4  pixel5  pixel6  pixel7  pixel8  \\\n",
              "0      2       0       0       0       0       0       0       0       0   \n",
              "1      9       0       0       0       0       0       0       0       0   \n",
              "2      6       0       0       0       0       0       0       0       5   \n",
              "3      0       0       0       0       1       2       0       0       0   \n",
              "4      3       0       0       0       0       0       0       0       0   \n",
              "\n",
              "   pixel9  ...  pixel776  pixel777  pixel778  pixel779  pixel780  pixel781  \\\n",
              "0       0  ...       0.0       0.0       0.0       0.0       0.0       0.0   \n",
              "1       0  ...       0.0       0.0       0.0       0.0       0.0       0.0   \n",
              "2       0  ...       0.0       0.0      30.0      43.0       0.0       0.0   \n",
              "3       0  ...       0.0       0.0       0.0       0.0       1.0       0.0   \n",
              "4       0  ...       0.0       0.0       0.0       0.0       0.0       0.0   \n",
              "\n",
              "   pixel782  pixel783  pixel784  Id  \n",
              "0       0.0       0.0       0.0   0  \n",
              "1       0.0       0.0       0.0   1  \n",
              "2       0.0       0.0       0.0   2  \n",
              "3       0.0       0.0       0.0   3  \n",
              "4       0.0       0.0       0.0   4  \n",
              "\n",
              "[5 rows x 786 columns]"
            ],
            "text/html": [
              "\n",
              "  <div id=\"df-322d66ae-5951-47cb-a0ab-7050fbde74a1\" class=\"colab-df-container\">\n",
              "    <div>\n",
              "<style scoped>\n",
              "    .dataframe tbody tr th:only-of-type {\n",
              "        vertical-align: middle;\n",
              "    }\n",
              "\n",
              "    .dataframe tbody tr th {\n",
              "        vertical-align: top;\n",
              "    }\n",
              "\n",
              "    .dataframe thead th {\n",
              "        text-align: right;\n",
              "    }\n",
              "</style>\n",
              "<table border=\"1\" class=\"dataframe\">\n",
              "  <thead>\n",
              "    <tr style=\"text-align: right;\">\n",
              "      <th></th>\n",
              "      <th>label</th>\n",
              "      <th>pixel1</th>\n",
              "      <th>pixel2</th>\n",
              "      <th>pixel3</th>\n",
              "      <th>pixel4</th>\n",
              "      <th>pixel5</th>\n",
              "      <th>pixel6</th>\n",
              "      <th>pixel7</th>\n",
              "      <th>pixel8</th>\n",
              "      <th>pixel9</th>\n",
              "      <th>...</th>\n",
              "      <th>pixel776</th>\n",
              "      <th>pixel777</th>\n",
              "      <th>pixel778</th>\n",
              "      <th>pixel779</th>\n",
              "      <th>pixel780</th>\n",
              "      <th>pixel781</th>\n",
              "      <th>pixel782</th>\n",
              "      <th>pixel783</th>\n",
              "      <th>pixel784</th>\n",
              "      <th>Id</th>\n",
              "    </tr>\n",
              "  </thead>\n",
              "  <tbody>\n",
              "    <tr>\n",
              "      <th>0</th>\n",
              "      <td>2</td>\n",
              "      <td>0</td>\n",
              "      <td>0</td>\n",
              "      <td>0</td>\n",
              "      <td>0</td>\n",
              "      <td>0</td>\n",
              "      <td>0</td>\n",
              "      <td>0</td>\n",
              "      <td>0</td>\n",
              "      <td>0</td>\n",
              "      <td>...</td>\n",
              "      <td>0.0</td>\n",
              "      <td>0.0</td>\n",
              "      <td>0.0</td>\n",
              "      <td>0.0</td>\n",
              "      <td>0.0</td>\n",
              "      <td>0.0</td>\n",
              "      <td>0.0</td>\n",
              "      <td>0.0</td>\n",
              "      <td>0.0</td>\n",
              "      <td>0</td>\n",
              "    </tr>\n",
              "    <tr>\n",
              "      <th>1</th>\n",
              "      <td>9</td>\n",
              "      <td>0</td>\n",
              "      <td>0</td>\n",
              "      <td>0</td>\n",
              "      <td>0</td>\n",
              "      <td>0</td>\n",
              "      <td>0</td>\n",
              "      <td>0</td>\n",
              "      <td>0</td>\n",
              "      <td>0</td>\n",
              "      <td>...</td>\n",
              "      <td>0.0</td>\n",
              "      <td>0.0</td>\n",
              "      <td>0.0</td>\n",
              "      <td>0.0</td>\n",
              "      <td>0.0</td>\n",
              "      <td>0.0</td>\n",
              "      <td>0.0</td>\n",
              "      <td>0.0</td>\n",
              "      <td>0.0</td>\n",
              "      <td>1</td>\n",
              "    </tr>\n",
              "    <tr>\n",
              "      <th>2</th>\n",
              "      <td>6</td>\n",
              "      <td>0</td>\n",
              "      <td>0</td>\n",
              "      <td>0</td>\n",
              "      <td>0</td>\n",
              "      <td>0</td>\n",
              "      <td>0</td>\n",
              "      <td>0</td>\n",
              "      <td>5</td>\n",
              "      <td>0</td>\n",
              "      <td>...</td>\n",
              "      <td>0.0</td>\n",
              "      <td>0.0</td>\n",
              "      <td>30.0</td>\n",
              "      <td>43.0</td>\n",
              "      <td>0.0</td>\n",
              "      <td>0.0</td>\n",
              "      <td>0.0</td>\n",
              "      <td>0.0</td>\n",
              "      <td>0.0</td>\n",
              "      <td>2</td>\n",
              "    </tr>\n",
              "    <tr>\n",
              "      <th>3</th>\n",
              "      <td>0</td>\n",
              "      <td>0</td>\n",
              "      <td>0</td>\n",
              "      <td>0</td>\n",
              "      <td>1</td>\n",
              "      <td>2</td>\n",
              "      <td>0</td>\n",
              "      <td>0</td>\n",
              "      <td>0</td>\n",
              "      <td>0</td>\n",
              "      <td>...</td>\n",
              "      <td>0.0</td>\n",
              "      <td>0.0</td>\n",
              "      <td>0.0</td>\n",
              "      <td>0.0</td>\n",
              "      <td>1.0</td>\n",
              "      <td>0.0</td>\n",
              "      <td>0.0</td>\n",
              "      <td>0.0</td>\n",
              "      <td>0.0</td>\n",
              "      <td>3</td>\n",
              "    </tr>\n",
              "    <tr>\n",
              "      <th>4</th>\n",
              "      <td>3</td>\n",
              "      <td>0</td>\n",
              "      <td>0</td>\n",
              "      <td>0</td>\n",
              "      <td>0</td>\n",
              "      <td>0</td>\n",
              "      <td>0</td>\n",
              "      <td>0</td>\n",
              "      <td>0</td>\n",
              "      <td>0</td>\n",
              "      <td>...</td>\n",
              "      <td>0.0</td>\n",
              "      <td>0.0</td>\n",
              "      <td>0.0</td>\n",
              "      <td>0.0</td>\n",
              "      <td>0.0</td>\n",
              "      <td>0.0</td>\n",
              "      <td>0.0</td>\n",
              "      <td>0.0</td>\n",
              "      <td>0.0</td>\n",
              "      <td>4</td>\n",
              "    </tr>\n",
              "  </tbody>\n",
              "</table>\n",
              "<p>5 rows × 786 columns</p>\n",
              "</div>\n",
              "    <div class=\"colab-df-buttons\">\n",
              "\n",
              "  <div class=\"colab-df-container\">\n",
              "    <button class=\"colab-df-convert\" onclick=\"convertToInteractive('df-322d66ae-5951-47cb-a0ab-7050fbde74a1')\"\n",
              "            title=\"Convert this dataframe to an interactive table.\"\n",
              "            style=\"display:none;\">\n",
              "\n",
              "  <svg xmlns=\"http://www.w3.org/2000/svg\" height=\"24px\" viewBox=\"0 -960 960 960\">\n",
              "    <path d=\"M120-120v-720h720v720H120Zm60-500h600v-160H180v160Zm220 220h160v-160H400v160Zm0 220h160v-160H400v160ZM180-400h160v-160H180v160Zm440 0h160v-160H620v160ZM180-180h160v-160H180v160Zm440 0h160v-160H620v160Z\"/>\n",
              "  </svg>\n",
              "    </button>\n",
              "\n",
              "  <style>\n",
              "    .colab-df-container {\n",
              "      display:flex;\n",
              "      gap: 12px;\n",
              "    }\n",
              "\n",
              "    .colab-df-convert {\n",
              "      background-color: #E8F0FE;\n",
              "      border: none;\n",
              "      border-radius: 50%;\n",
              "      cursor: pointer;\n",
              "      display: none;\n",
              "      fill: #1967D2;\n",
              "      height: 32px;\n",
              "      padding: 0 0 0 0;\n",
              "      width: 32px;\n",
              "    }\n",
              "\n",
              "    .colab-df-convert:hover {\n",
              "      background-color: #E2EBFA;\n",
              "      box-shadow: 0px 1px 2px rgba(60, 64, 67, 0.3), 0px 1px 3px 1px rgba(60, 64, 67, 0.15);\n",
              "      fill: #174EA6;\n",
              "    }\n",
              "\n",
              "    .colab-df-buttons div {\n",
              "      margin-bottom: 4px;\n",
              "    }\n",
              "\n",
              "    [theme=dark] .colab-df-convert {\n",
              "      background-color: #3B4455;\n",
              "      fill: #D2E3FC;\n",
              "    }\n",
              "\n",
              "    [theme=dark] .colab-df-convert:hover {\n",
              "      background-color: #434B5C;\n",
              "      box-shadow: 0px 1px 3px 1px rgba(0, 0, 0, 0.15);\n",
              "      filter: drop-shadow(0px 1px 2px rgba(0, 0, 0, 0.3));\n",
              "      fill: #FFFFFF;\n",
              "    }\n",
              "  </style>\n",
              "\n",
              "    <script>\n",
              "      const buttonEl =\n",
              "        document.querySelector('#df-322d66ae-5951-47cb-a0ab-7050fbde74a1 button.colab-df-convert');\n",
              "      buttonEl.style.display =\n",
              "        google.colab.kernel.accessAllowed ? 'block' : 'none';\n",
              "\n",
              "      async function convertToInteractive(key) {\n",
              "        const element = document.querySelector('#df-322d66ae-5951-47cb-a0ab-7050fbde74a1');\n",
              "        const dataTable =\n",
              "          await google.colab.kernel.invokeFunction('convertToInteractive',\n",
              "                                                    [key], {});\n",
              "        if (!dataTable) return;\n",
              "\n",
              "        const docLinkHtml = 'Like what you see? Visit the ' +\n",
              "          '<a target=\"_blank\" href=https://colab.research.google.com/notebooks/data_table.ipynb>data table notebook</a>'\n",
              "          + ' to learn more about interactive tables.';\n",
              "        element.innerHTML = '';\n",
              "        dataTable['output_type'] = 'display_data';\n",
              "        await google.colab.output.renderOutput(dataTable, element);\n",
              "        const docLink = document.createElement('div');\n",
              "        docLink.innerHTML = docLinkHtml;\n",
              "        element.appendChild(docLink);\n",
              "      }\n",
              "    </script>\n",
              "  </div>\n",
              "\n",
              "\n",
              "    <div id=\"df-ae0bc009-469b-4b3c-af56-bea0723719ea\">\n",
              "      <button class=\"colab-df-quickchart\" onclick=\"quickchart('df-ae0bc009-469b-4b3c-af56-bea0723719ea')\"\n",
              "                title=\"Suggest charts\"\n",
              "                style=\"display:none;\">\n",
              "\n",
              "<svg xmlns=\"http://www.w3.org/2000/svg\" height=\"24px\"viewBox=\"0 0 24 24\"\n",
              "     width=\"24px\">\n",
              "    <g>\n",
              "        <path d=\"M19 3H5c-1.1 0-2 .9-2 2v14c0 1.1.9 2 2 2h14c1.1 0 2-.9 2-2V5c0-1.1-.9-2-2-2zM9 17H7v-7h2v7zm4 0h-2V7h2v10zm4 0h-2v-4h2v4z\"/>\n",
              "    </g>\n",
              "</svg>\n",
              "      </button>\n",
              "\n",
              "<style>\n",
              "  .colab-df-quickchart {\n",
              "      --bg-color: #E8F0FE;\n",
              "      --fill-color: #1967D2;\n",
              "      --hover-bg-color: #E2EBFA;\n",
              "      --hover-fill-color: #174EA6;\n",
              "      --disabled-fill-color: #AAA;\n",
              "      --disabled-bg-color: #DDD;\n",
              "  }\n",
              "\n",
              "  [theme=dark] .colab-df-quickchart {\n",
              "      --bg-color: #3B4455;\n",
              "      --fill-color: #D2E3FC;\n",
              "      --hover-bg-color: #434B5C;\n",
              "      --hover-fill-color: #FFFFFF;\n",
              "      --disabled-bg-color: #3B4455;\n",
              "      --disabled-fill-color: #666;\n",
              "  }\n",
              "\n",
              "  .colab-df-quickchart {\n",
              "    background-color: var(--bg-color);\n",
              "    border: none;\n",
              "    border-radius: 50%;\n",
              "    cursor: pointer;\n",
              "    display: none;\n",
              "    fill: var(--fill-color);\n",
              "    height: 32px;\n",
              "    padding: 0;\n",
              "    width: 32px;\n",
              "  }\n",
              "\n",
              "  .colab-df-quickchart:hover {\n",
              "    background-color: var(--hover-bg-color);\n",
              "    box-shadow: 0 1px 2px rgba(60, 64, 67, 0.3), 0 1px 3px 1px rgba(60, 64, 67, 0.15);\n",
              "    fill: var(--button-hover-fill-color);\n",
              "  }\n",
              "\n",
              "  .colab-df-quickchart-complete:disabled,\n",
              "  .colab-df-quickchart-complete:disabled:hover {\n",
              "    background-color: var(--disabled-bg-color);\n",
              "    fill: var(--disabled-fill-color);\n",
              "    box-shadow: none;\n",
              "  }\n",
              "\n",
              "  .colab-df-spinner {\n",
              "    border: 2px solid var(--fill-color);\n",
              "    border-color: transparent;\n",
              "    border-bottom-color: var(--fill-color);\n",
              "    animation:\n",
              "      spin 1s steps(1) infinite;\n",
              "  }\n",
              "\n",
              "  @keyframes spin {\n",
              "    0% {\n",
              "      border-color: transparent;\n",
              "      border-bottom-color: var(--fill-color);\n",
              "      border-left-color: var(--fill-color);\n",
              "    }\n",
              "    20% {\n",
              "      border-color: transparent;\n",
              "      border-left-color: var(--fill-color);\n",
              "      border-top-color: var(--fill-color);\n",
              "    }\n",
              "    30% {\n",
              "      border-color: transparent;\n",
              "      border-left-color: var(--fill-color);\n",
              "      border-top-color: var(--fill-color);\n",
              "      border-right-color: var(--fill-color);\n",
              "    }\n",
              "    40% {\n",
              "      border-color: transparent;\n",
              "      border-right-color: var(--fill-color);\n",
              "      border-top-color: var(--fill-color);\n",
              "    }\n",
              "    60% {\n",
              "      border-color: transparent;\n",
              "      border-right-color: var(--fill-color);\n",
              "    }\n",
              "    80% {\n",
              "      border-color: transparent;\n",
              "      border-right-color: var(--fill-color);\n",
              "      border-bottom-color: var(--fill-color);\n",
              "    }\n",
              "    90% {\n",
              "      border-color: transparent;\n",
              "      border-bottom-color: var(--fill-color);\n",
              "    }\n",
              "  }\n",
              "</style>\n",
              "\n",
              "      <script>\n",
              "        async function quickchart(key) {\n",
              "          const quickchartButtonEl =\n",
              "            document.querySelector('#' + key + ' button');\n",
              "          quickchartButtonEl.disabled = true;  // To prevent multiple clicks.\n",
              "          quickchartButtonEl.classList.add('colab-df-spinner');\n",
              "          try {\n",
              "            const charts = await google.colab.kernel.invokeFunction(\n",
              "                'suggestCharts', [key], {});\n",
              "          } catch (error) {\n",
              "            console.error('Error during call to suggestCharts:', error);\n",
              "          }\n",
              "          quickchartButtonEl.classList.remove('colab-df-spinner');\n",
              "          quickchartButtonEl.classList.add('colab-df-quickchart-complete');\n",
              "        }\n",
              "        (() => {\n",
              "          let quickchartButtonEl =\n",
              "            document.querySelector('#df-ae0bc009-469b-4b3c-af56-bea0723719ea button');\n",
              "          quickchartButtonEl.style.display =\n",
              "            google.colab.kernel.accessAllowed ? 'block' : 'none';\n",
              "        })();\n",
              "      </script>\n",
              "    </div>\n",
              "\n",
              "    </div>\n",
              "  </div>\n"
            ],
            "application/vnd.google.colaboratory.intrinsic+json": {
              "type": "dataframe",
              "variable_name": "train"
            }
          },
          "metadata": {},
          "execution_count": 4
        }
      ]
    },
    {
      "cell_type": "code",
      "source": [
        "print(train.info())\n",
        "print(test.info())\n",
        "print(subm.info())"
      ],
      "metadata": {
        "colab": {
          "base_uri": "https://localhost:8080/"
        },
        "id": "KMdDRu1XLuxs",
        "outputId": "8ae63dfb-f20c-45e3-968c-6a79ec1612a2"
      },
      "execution_count": 5,
      "outputs": [
        {
          "output_type": "stream",
          "name": "stdout",
          "text": [
            "<class 'pandas.core.frame.DataFrame'>\n",
            "RangeIndex: 17040 entries, 0 to 17039\n",
            "Columns: 786 entries, label to Id\n",
            "dtypes: float64(424), int64(362)\n",
            "memory usage: 102.2 MB\n",
            "None\n",
            "<class 'pandas.core.frame.DataFrame'>\n",
            "RangeIndex: 10000 entries, 0 to 9999\n",
            "Columns: 785 entries, pixel1 to Id\n",
            "dtypes: int64(785)\n",
            "memory usage: 59.9 MB\n",
            "None\n",
            "<class 'pandas.core.frame.DataFrame'>\n",
            "RangeIndex: 10000 entries, 0 to 9999\n",
            "Data columns (total 2 columns):\n",
            " #   Column  Non-Null Count  Dtype\n",
            "---  ------  --------------  -----\n",
            " 0   Id      10000 non-null  int64\n",
            " 1   label   10000 non-null  int64\n",
            "dtypes: int64(2)\n",
            "memory usage: 156.4 KB\n",
            "None\n"
          ]
        }
      ]
    },
    {
      "cell_type": "code",
      "source": [
        "X = train.drop(columns =['label', 'Id'])\n",
        "y = train['label'].values"
      ],
      "metadata": {
        "id": "0U5oZcJ8OWOL"
      },
      "execution_count": 6,
      "outputs": []
    },
    {
      "cell_type": "code",
      "source": [
        "pixel_columns = [col for col in train.columns if col.startswith('pixel')]\n",
        "X = train[pixel_columns].values.astype(np.uint8)\n",
        "y = train['label'].values\n",
        "\n",
        "X = X.reshape(-1, 28, 28)"
      ],
      "metadata": {
        "id": "OHoB5k-iPMYk"
      },
      "execution_count": 7,
      "outputs": []
    },
    {
      "cell_type": "markdown",
      "source": [
        "### Визуализация примера из данных"
      ],
      "metadata": {
        "id": "bXOgtji3zsyJ"
      }
    },
    {
      "cell_type": "code",
      "source": [
        "plt.imshow(X[0], cmap='gray')\n",
        "plt.title(f\"Label: {y[0]}\")\n",
        "plt.axis('off')\n",
        "plt.show()"
      ],
      "metadata": {
        "colab": {
          "base_uri": "https://localhost:8080/",
          "height": 428
        },
        "id": "OfqHuuNuPk_m",
        "outputId": "2ebd9413-b4e9-4c0c-ffc9-0041c654d86f"
      },
      "execution_count": 8,
      "outputs": [
        {
          "output_type": "display_data",
          "data": {
            "text/plain": [
              "<Figure size 640x480 with 1 Axes>"
            ],
            "image/png": "[encoded data removed]"
          },
          "metadata": {}
        }
      ]
    },
    {
      "cell_type": "markdown",
      "source": [
        "### Разделение данных на тренировочные и валидационные"
      ],
      "metadata": {
        "id": "QWnWkk2kz1sg"
      }
    },
    {
      "cell_type": "code",
      "source": [
        "X_train, X_val, y_train, y_val = train_test_split(X, y, test_size=0.2, stratify=y, random_state=42)"
      ],
      "metadata": {
        "id": "SyE6CxKqO9rr"
      },
      "execution_count": 9,
      "outputs": []
    },
    {
      "cell_type": "code",
      "source": [
        "print(X_train.shape)\n",
        "print(X_val.shape)\n",
        "print(y_train.shape)\n",
        "print(y_val.shape)"
      ],
      "metadata": {
        "colab": {
          "base_uri": "https://localhost:8080/"
        },
        "id": "6zB_HiQbPBg8",
        "outputId": "858fc23b-36c4-4c63-90fb-925864d3de79"
      },
      "execution_count": 10,
      "outputs": [
        {
          "output_type": "stream",
          "name": "stdout",
          "text": [
            "(13632, 28, 28)\n",
            "(3408, 28, 28)\n",
            "(13632,)\n",
            "(3408,)\n"
          ]
        }
      ]
    },
    {
      "cell_type": "markdown",
      "source": [
        "### Обработка для дальнейшего использования в обучении модели"
      ],
      "metadata": {
        "id": "T2rJcMXy0D1o"
      }
    },
    {
      "cell_type": "code",
      "source": [
        "transform = transforms.Compose([\n",
        "    transforms.ToTensor(),\n",
        "    transforms.Normalize((0.5,), (0.5,))\n",
        "])"
      ],
      "metadata": {
        "id": "8wa2922NQMOQ"
      },
      "execution_count": 11,
      "outputs": []
    },
    {
      "cell_type": "code",
      "source": [
        "def preprocess_images(X):\n",
        "    X_tensor = torch.stack([transform(Image.fromarray(img)) for img in X])\n",
        "    return X_tensor\n",
        "\n",
        "def create_dataloader(X, y, batch_size=64, shuffle=True):\n",
        "    X_tensor = preprocess_images(X)\n",
        "    y_tensor = torch.tensor(y, dtype=torch.long)\n",
        "    dataset = TensorDataset(X_tensor, y_tensor)\n",
        "    return DataLoader(dataset, batch_size=batch_size, shuffle=shuffle)"
      ],
      "metadata": {
        "id": "1o1JnpzJQjmJ"
      },
      "execution_count": 12,
      "outputs": []
    },
    {
      "cell_type": "code",
      "source": [
        "train_loader = create_dataloader(X_train, y_train)\n",
        "val_loader = create_dataloader(X_val, y_val, shuffle=False)"
      ],
      "metadata": {
        "id": "LneiMzeyQtAK"
      },
      "execution_count": 13,
      "outputs": []
    },
    {
      "cell_type": "markdown",
      "source": [
        "# Модель"
      ],
      "metadata": {
        "id": "xydltRgZ0NGY"
      }
    },
    {
      "cell_type": "code",
      "source": [
        "class SimpleCNN(nn.Module):\n",
        "    def __init__(self):\n",
        "        super(SimpleCNN, self).__init__()\n",
        "        self.conv1 = nn.Conv2d(1, 32, kernel_size=3)   # (28-3+1)=26\n",
        "        self.pool = nn.MaxPool2d(2, 2)                 # 13x13\n",
        "        self.conv2 = nn.Conv2d(32, 64, kernel_size=3)  # (13-3+1)=11 → pool → 5x5\n",
        "        self.fc1 = nn.Linear(64 * 5 * 5, 128)\n",
        "        self.fc2 = nn.Linear(128, 10)\n",
        "\n",
        "    def forward(self, x):\n",
        "        x = self.pool(F.relu(self.conv1(x)))   # → (N, 32, 13, 13)\n",
        "        x = self.pool(F.relu(self.conv2(x)))   # → (N, 64, 5, 5)\n",
        "        x = x.view(-1, 64 * 5 * 5)\n",
        "        x = F.relu(self.fc1(x))\n",
        "        x = self.fc2(x)\n",
        "        return x"
      ],
      "metadata": {
        "id": "PZjWsiNrRbP9"
      },
      "execution_count": 14,
      "outputs": []
    },
    {
      "cell_type": "markdown",
      "source": [
        "### Параметры"
      ],
      "metadata": {
        "id": "pDbGsZd50P8Y"
      }
    },
    {
      "cell_type": "code",
      "source": [
        "device = torch.device(\"cuda\" if torch.cuda.is_available() else \"cpu\")\n",
        "\n",
        "model = SimpleCNN().to(device)\n",
        "\n",
        "criterion = nn.CrossEntropyLoss()\n",
        "optimizer = torch.optim.Adam(model.parameters(), lr=0.001)\n",
        "\n",
        "num_epochs = 15"
      ],
      "metadata": {
        "id": "EYkK3o06RkBF"
      },
      "execution_count": 15,
      "outputs": []
    },
    {
      "cell_type": "markdown",
      "source": [
        "### Обучение"
      ],
      "metadata": {
        "id": "T0IlMcYl0VfP"
      }
    },
    {
      "cell_type": "code",
      "source": [
        "for epoch in range(num_epochs):\n",
        "    model.train()\n",
        "    total_loss = 0\n",
        "    correct = 0\n",
        "    total = 0\n",
        "\n",
        "    for images, labels in train_loader:\n",
        "        images, labels = images.to(device), labels.to(device)\n",
        "\n",
        "        outputs = model(images)\n",
        "        loss = criterion(outputs, labels)\n",
        "\n",
        "        optimizer.zero_grad()\n",
        "        loss.backward()\n",
        "        optimizer.step()\n",
        "\n",
        "        total_loss += loss.item()\n",
        "        _, preds = torch.max(outputs, 1)\n",
        "        correct += (preds == labels).sum().item()\n",
        "        total += labels.size(0)\n",
        "\n",
        "    train_acc = correct / total\n",
        "    print(f\"Epoch {epoch+1}: Loss = {total_loss:.4f}, Train Accuracy = {train_acc:.4f}\")"
      ],
      "metadata": {
        "colab": {
          "base_uri": "https://localhost:8080/"
        },
        "id": "nLmj7PIKRmS0",
        "outputId": "ed7df5d4-c897-4d3b-dca4-74b0e6c5c2e4"
      },
      "execution_count": 16,
      "outputs": [
        {
          "output_type": "stream",
          "name": "stdout",
          "text": [
            "Epoch 1: Loss = 148.4032, Train Accuracy = 0.7432\n",
            "Epoch 2: Loss = 93.7340, Train Accuracy = 0.8388\n",
            "Epoch 3: Loss = 81.7807, Train Accuracy = 0.8583\n",
            "Epoch 4: Loss = 72.8207, Train Accuracy = 0.8711\n",
            "Epoch 5: Loss = 66.6559, Train Accuracy = 0.8838\n",
            "Epoch 6: Loss = 60.3202, Train Accuracy = 0.8937\n",
            "Epoch 7: Loss = 56.1763, Train Accuracy = 0.9003\n",
            "Epoch 8: Loss = 50.8877, Train Accuracy = 0.9112\n",
            "Epoch 9: Loss = 45.7678, Train Accuracy = 0.9187\n",
            "Epoch 10: Loss = 41.6410, Train Accuracy = 0.9272\n",
            "Epoch 11: Loss = 38.5785, Train Accuracy = 0.9324\n",
            "Epoch 12: Loss = 33.7452, Train Accuracy = 0.9404\n",
            "Epoch 13: Loss = 30.8000, Train Accuracy = 0.9473\n",
            "Epoch 14: Loss = 27.3265, Train Accuracy = 0.9536\n",
            "Epoch 15: Loss = 25.5291, Train Accuracy = 0.9567\n"
          ]
        }
      ]
    },
    {
      "cell_type": "markdown",
      "source": [
        "### Валидация на тесте"
      ],
      "metadata": {
        "id": "c2NiEceo0XsR"
      }
    },
    {
      "cell_type": "code",
      "source": [
        "model.eval()\n",
        "correct = 0\n",
        "total = 0\n",
        "\n",
        "with torch.no_grad():\n",
        "    for images, labels in val_loader:\n",
        "        images, labels = images.to(device), labels.to(device)\n",
        "        outputs = model(images)\n",
        "        _, preds = torch.max(outputs, 1)\n",
        "        correct += (preds == labels).sum().item()\n",
        "        total += labels.size(0)\n",
        "\n",
        "val_acc = correct / total\n",
        "print(f\"Validation Accuracy = {val_acc:.4f}\")"
      ],
      "metadata": {
        "colab": {
          "base_uri": "https://localhost:8080/"
        },
        "id": "AF3DbBw0Rolu",
        "outputId": "187d325f-d86e-4a9f-e99d-ea7da42489c0"
      },
      "execution_count": 17,
      "outputs": [
        {
          "output_type": "stream",
          "name": "stdout",
          "text": [
            "Validation Accuracy = 0.8876\n"
          ]
        }
      ]
    },
    {
      "cell_type": "markdown",
      "source": [
        "### Вывод:\n",
        "финальная метрика `Accuracy` на тестовых данных показала `score>=0.80`, что соответствует требованию по качеству модели"
      ],
      "metadata": {
        "id": "LIyCJ_0O0d4H"
      }
    },
    {
      "cell_type": "markdown",
      "source": [
        "# Предсказание для `Submissions`"
      ],
      "metadata": {
        "id": "yr_gUqMB3NvO"
      }
    },
    {
      "cell_type": "code",
      "source": [
        "test_ids = test['Id'].values\n",
        "X_test = test.drop(columns=['Id']).values.astype(np.uint8)\n",
        "X_test = X_test.reshape(-1, 28, 28)\n",
        "\n",
        "X_test_tensor = preprocess_images(X_test)\n",
        "test_dataset = TensorDataset(X_test_tensor)\n",
        "test_loader = DataLoader(test_dataset, batch_size=64, shuffle=False)\n",
        "\n",
        "model.eval()\n",
        "all_preds = []\n",
        "\n",
        "with torch.no_grad():\n",
        "    for images_tuple in test_loader:\n",
        "        images = images_tuple[0].to(device)\n",
        "        outputs = model(images)\n",
        "        _, preds = torch.max(outputs, 1)\n",
        "        all_preds.extend(preds.cpu().numpy())\n",
        "\n",
        "submission = pd.DataFrame({\n",
        "    'Id': test_ids,\n",
        "    'label': all_preds\n",
        "})\n",
        "\n",
        "submission.to_csv('/content/drive/MyDrive/MFTI/SEM_02/Deep_learning/submission_op.csv', index=False)"
      ],
      "metadata": {
        "id": "KT6FeCVU00nW"
      },
      "execution_count": 18,
      "outputs": []
    },
    {
      "cell_type": "markdown",
      "source": [
        "![image.png](data:image/png;base64,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)"
      ],
      "metadata": {
        "id": "x9aUqm0B20vc"
      }
    },
    {
      "cell_type": "markdown",
      "source": [
        "![image.png](data:image/png;base64,iVBORw0KGgoAAAANSUhEUgAABRgAAAJRCAYAAAAu6Ns3AAAAAXNSR0IArs4c6QAAAARnQU1BAACxjwv8YQUAAAAJcEhZcwAADsMAAA7DAcdvqGQAAN1qSURBVHhe7N17XFVV/v/xNxwuggiThaMNpCaYgWXqjCVjBmMadpEpv5KVOpNpk9mUl1+TMk7qjINUgzblpfLSd4wmL2OT1ihaBlZf6KIwldBFqBRK8yTGEcEDHM7vj3MOHDb3I97w9Xw8zkPZe+372muv/dlr7e1lt9vtAgAAAAAAAAAPeBsHAAAAAAAAAEBrEWAEAAAAAAAA4DECjAAAAAAAAAA8RoARAAAAAAAAgMcIMAIAAAAAAADwGAFGAAAAAAAAAB4jwAgAAAAAAADAYwQYAQAAAAAAAHiMACMAAAAAAAAAjxFgBAAAAAAAAOAxAowAAAAAAAAAPEaAEQAAAAAAAIDHCDACAAAAAAAA8BgBRgAAAAAAAAAeI8AIAAAAAAAAwGMEGAEAAAAAAAB4jAAjAAAAAAAAAI8RYAQAAAAAAADgMQKMAAAAAAAAADxGgBEAAAAAAACAxwgwAgAAAAAAAPAYAUYAAAAAAAAAHiPACAAAAAAAAMBjXna73W4ceEExZ2rZ0p0qrjcwWH2GjdGdN0Up2FRvRIvMmSuUujNUE5PHKdo4spZZGc8u1Y7QCUoZHyWZX9fk4bO0b/xGfTh/oDHxWXPgzRe0q9AwMCRcQ+Nu1JXdfQ0jGipYN0uL3rtEE5OTNOIS41gAAAAAAAB0BLRgLC9U+vpNynKLMJ4sztSyRxI04PokZVjcE7fs5Jc7tGF9to4YR9RjVcGOTdrwkTNV5zBFR4UpsleoMeFZ9cPnuXrn00M6UTukXAeyt+uJebM1/7WiemkbE9jjMl3atbtCA41jTo05/Sk98sRbMhtHAAAAAAAA4IwjwOg06DfJSkl2/J5el66PP0xWvHmT5q/JNyZtf4EDNXtzhl7+TZhxzNkXMlBjH7hfkx+4X5MfmKGFz6Rq3vAAHdi2We+XGxPXd+nIGUpOmayr2znAWFVuUWlpuaqMIwAAAAAAAHDGEWBsykXjlHCzVLQrW462etlKHh6nyS/X70yt91I0fHiKsuoPlSy5Wjc7UcOHx2n42Flat6e5ppCNz9vy5SYlT4p3zCN+kpK3FctaL8XZ4KuIuCG6tOYL/XefJB3Wrice0yMv5sr8fy9o/mzH/+VqaTg7TZ9IUuluPTv7MT33fxWG+VVo74rH9Mjfd8sRr6yS+Z31WjL/MT0y+zE9Mn+5Xs/5wZnWsawndv0g/fCWnnBbliSp5gd98upyxzrM/pMWPbddBWV1owEAAAAAAND+CDA2w9/H/S+rjhQX60hdf2Hn4CMqKj5iCPwVKnXidG25aIyS5szSxLB8zU+M14xdTQUZG87bsmuWboxP0mv+N2n2nLmaMkx67ZE4XZ+UefaDjN71379YXmpRae5LWrTpB10S2UcDwkKk2paGpY6WhiHRigy26P3sD+u3PCz/ULtzLArtE61AVeiTFY/p0bQPVd4rVnfdMUajexzW1hXJem5PhaQQXTlyjEb3DZa6XKHRd4zRXUPDHfOpKdLrj/9JS94pVcSIMbrr5l8opHCrFiUt116CjAAAAAAAAKcNAcamWHZqyy4p+BeD5AxhtUG+dMtGbZ43QfE336apf9+olbdZtWX2UmXZjGkbYctW6uzXZb1tud5aNVMJN4/SpHnr9NaS26QvcpV3liOM32V/pO8UrshIt4H+QzRrSZJ+/8D9mjzycrcRLpdoRNwV0uf/p3eO1Q0tfef/9In3FbrxV46vwIQMiNX46X/VvHtH67pf/lLxDyRpYr8KvZ+9T1KALh30S10d7if5h+vqX/5S1/VzTFe67SVtPtZfv1+UpIk3/1LXjRij3y+crOts+7T+9a/qFggAAAAAAIB2RYDRKecfSZqT5PpN18hrp2uL/216eqYnX3UepakT3N+nGKz4KRMUbslUdmte6Zj/vjIsYZo0ZZSC3QYH37ZEH26eqUH+bgNPt9JcbX7uBa11/p5dOEtJ6T+o580TNeIit3SX9VHPFnKT77Bf6jrvImX/n6vL8w/K/qBIuuqXui5QkgLU85djFD8gwDHaalHp4UIdKJH0/aFmPupSoY8/L5KiYzQ4yG1w4C90wyBfmfP2uQ0EAAAAAABAe2ohJHThOJKXraz3XD+zIu5P1hvpSxTnHuFrNX8FGz9sEhysYBWrqPnPSzscKVKRghXs0bLbWdVRFewv1MfO3yFTP429f77m3dH2dp3y/oVu+LmvCrKy9J0kfZuld4p8NXz4L2qTlH++Xc/On6Wp90/Tb6c/pkcWrlX2MUk1auajLqUqLZGU84J+O2Vavd8T2VVSjTE9AAAAAAAA2gsBRqf4JzP0zjuu30atnDlO0e4t9NrIauwKXW2VVcEKcbyesHmmTsYhZ88lN+qx1Cf0d+cved79um1Id9V/C2PrXRkXo5Aj/6fsr6QD7/yfvguJ0YgBzpHH3tKzS7bqM/9YzfrzE1qxcqX+d+US3RdlmEkjfL0l30ET9Pennmj4e2y0MTkAAAAAAADaCQHGVgtXRF/JUlr/Qy15n7h9xbjWbmV/WH+I+f1MFeg6DWpFsExDhipe+Up/z9Ap+MDrSn1hpwocn1s+P0UO0fCLLNr734/0yacWhf58iHq6xu3/Qp/VXKLRvxmjK7sHK9BXkn6QuaTeHBrRXVf2C1bV10X6MSRYIRfV/SqPHVJlJ0/DoQAAAAAAAGgJAcZW66OYoaEqemGW5mwrlNlsVsG2JD2+vrEvQ/tr+8Lp2vClRVabVebspbp3Qa5CfzNFCcau040JvE1TfxOqnAVTlJpdLIvVKsuXOzVnyiwt+0+R/Fszj3PW5brxhnB9l/0vvXMkXCPcPwgTeYUi9IP2ZOxTaZUk6w/6LG25Nn/rPr3UOTBA+mGfPvnGotIyR8fpnvEjFVG6W088vVsHSqukqgodeOcFPZnytJZtP1x/BgAAAAAAAGg3BBjbYNDM5XpoiFkbHorXkGtjNPblUP3x0RuMySRdp9nzw7U6YbD6RfbXkHvWyDJmif4zr/UfjBk0L11rf2PVqnviNODK/hoQP13buz2ozS/d58FXrc8tIb8coohjFpl7DdFQx0egHS66UZP/53L9+M5yPTJtmn47/U967misxka7pZEUMny8butxWOsXPaZHkrc73ud4yY16bM4YRXy7WfNnP6zfTpul+Wn75Dt0uh77dff6MwAAAAAAAEC78bLb7XbjQLTAZpW12l/+LX3N2WaVpcQidQ5t+NGX1rJaZLZY5X8q8zjf1FSpvLRCVb4BCglqpntzVZWqTL7yNYTJq8osKq+SAkOCG4wDAAAAAABA+yLACAAAAAAAAMBjtO8CAAAAAAAA4DECjAAAAAAAAAA8RoARAAAAAAAAgMcIMAIAAAAAAADwGAFGAAAAAAAAAB4jwAgAAAAAAADAYwQYAQAAAAAAAHiMACMAAAAAAAAAjxFgBAAAAAAAAOAxAowAAAAAAAAAPEaAEQAAAAAAAIDHCDACAAAAAAAA8BgBRknfffedvjlwwDj4nPPNgQP67rvvjIMBAAAAAACAs8bLbrfbjQMvJFu2vq6lS/+uA+dBgFGSevbsqZkzH1HCmNuMowAAAAAAAIAz7oIPMPa+PNI46Lzw9Vf7jYMAAAAAAACAM44u0gAAAAAAAAA81uFaMO4vPD+6OgMAAAAAAODCFNmnp3HQea3DBRgBAAAAAAAAnDl0kQYAAAAAAADgMQKMAAAAAAAAADxGgBEAAAAAAACAxwgwAgAAAAAAAPAYAUYAAAAAAAAAHiPACAAAAAAAAMBjBBgBAAAAAAAAeIwAIwAAAAAAAACPEWAEAAAAAAAA4DECjAAAAAAAAAA8RoARAAAAAAAAgMcIMAIAAAAAAADwGAFGAAAAAAAAAB4jwAgAAAAAAADAYwQYAQAAAAAAAHiMACMAAAAAAAAAjxFgBAAAAAAAAOAxAowAAAAAAAAAPEaAEQAAAAAAAIDHCDACAAAAAAAA8BgBRgAAAAAAAAAeI8AIAAAAAAAAwGMEGAEAAAAAAAB4jAAjAAAAAAAAAI8RYAQAAAAAAADgMQKMAAAAAAAAADxGgBEAAAAAAACAx0wLFixYYBx4PrMeM+tYWbnKyxv5Vfqoc4CPVG6RuUyO/zfGZlb6K9ukXtHq6m8c2YKW5t0OrBazym2d5e9rHNN6VotZx6w+6ux/+taz1awWmY83sc9O5VicqnY+lmdjn7dHXnGwKOdfm/R116sVHmQcJ0lWWczHZPXprDO4eWdBS/vhTDuV/e6Y1mIsJ8vLVW6rn0+txwr14QeHpa7BCmlsQeVm5f3fJ7J07aauxvFWi8zHrPLp7K9GpmwTy540pS5br/98ZNMVw/ooxJjAyGaV5Wi51MlfPh3pcZpru9phn3qiXa6zHqqfB0JV2J7n42laZ4+dzfx7eKfWpUu9o7rK31jONLefTsc6N7e8s+Usn4M6S3WKBs7wsbFaivVFdo7MPl0VEtzYvrfKUvylsvIsuvjiro3WfayWQn2YfViduoWqs3H8Gd6eVjkd51SDsrSPvHI3aUNhNw24rLMxadudpnVuV+73HmfzXuMccKbKEusxs8q9ndeRetcYSbKqaNuzWvzi63qruKuuv6aHfKzFSn82Ratf36Xvug7TgB6nd/0AtI9ztdj3ULHWTYzRkGub+E1MU5GkorSJtf9v1Cdr9PifkrQ6xziiZS3Oux1kLYzR3WnFxsFtkrUwRkMWZhsHnx3vLWh6n53CsThV7X0s27TPywuVtS1fZuPwNmqPvCJJMu/QsrkLlbzNOa8G65etx6+N0ePv1U3SIRn3Q3trsF9bcir73TFtg3LyWrd8ajNryyMx6jckUTMen6iR1wzWyEXZsrjP5vAmTY6ZqNSdm/RYfIJSP3UfaVH6H+J17+sWZwXyFOQv1a2JK7Q3MEpRA8MUbhwvyfzpTmUVWusGFKfp7msnal07Hq4GyzhFHs2vOE13X7tAWcbhTfBoGU1qp+usJ4x5oJ3Px9OyzqfCmH/bXD54Lmf1As2fu0Z7pQblTLP7ybjO7aDZ5Z0tbTwHT51VBe/tVN7huiFtqlO0E2NZcuaOjUUZSTHqd0287n58oe4eOVj9Ri5UlvvFyJKr1MTBGjByoubPTtSAATGavL7QLYGkPSm6Pn6uNu5cqrtjpivdfXpboZYlxiv1Y7dhZ8PhfKW/V6javXwazqkGZanM2v5skuY/tbV9juWprPOZKufc7z3O4r3GueDMlCWOuoPrOlL/GiNZt83S8Ed26GSvKA3sGyZ/WZU+O07Ttp1Un+iBiuhxyrVIDzUsewE0r4MFGMM09Y39+vorx2/t7ZJuX1X799dv3NfoTWkDA+fo3c/2KSXWOAJn3IV6LMyZSn5otfYZh58toeO0dt8+vTE5zPH3ubZ+Z4pxP7S3M7pfY/W0q2x0/fatUkJwsBJuHipJMm+arRnvX6e1e/fqw3f26vM3Z8r/Hw/p8V11N5jWjzKVMWKO1iYv0RMTpYzsujsKy+tzNeOHmXqxPfbXoSIV9Z2gJ+ZN0KSbooxjJUn7/ne6kned3tuS9l5Ge8+vMe27jHa6znrCmAdO9/l4rjmD5cOgeRn6fF+y4owjcJaYlZEyXavyjMPPrPYtS1rP/K/ZmrztOq3cu08fv5Ohj/elKykwTdOW5tamyVk6XcusM/Xmvr16J2uvPn7uOu1LmqVVB+rmk5exQ91+u0RPJ6/S7Bt2Kv0jt3FLpmjdL5YrJfZsBTKc8lZrWkqmjhiHtydjWapQ3blqnz5/9TSW3611Bsu5WhfqvcZZZLzGHCkulm6epafvn6A7h4ZKMqvoGynh/y3R1HvGKaa7YQZnzLlR9gLnkw4WYGwb64GdSp2WqOFjpyt1h1uFyZypVQvXKKN2kFVFmWs0Z1K8ho+druSXc2Wx1SVviWVPmpKdy2k4rWPeydMSNTx+kmYs3amieg1NrCratlQzJsVr5KQkrcut13aokTSzlLqtuO7JpzlTy5JWKOPLXK2bnajhk92fNFfKsidNc1zz3tNw3vXW/YVsmQ3bbcnfpNRHJmnk8ERNW5SmnGN14/LWJ2nO+lwVbUvRPfFxSnY+tbIe2OmYJn6S5rycW781lNGpHgtrsdKXztI98fG655Gl2pBvWNqxfG1YOkv3xMdp7LSURveBu/r7I9PtWOVrQ1KSNuS7p87XhqQVbuteX5P7Ln+T5jy1VUXK1eqkJM1ZXzfTFvNSi3nFpVjpKUla59bazJy5QnOSNqnuGlqsLYuStG6P1bEtCxc6tq+Z9VO1RTkvJzn2d1KacppbhWbzvnN/fmqYn1v+qs3bxcVKXzpdY4cnaprh/GkqD+pYrtYtck6zaI2yap9MmpX+VJJS3W+gDmcqNWmp0g+r/n6onX++zDsc8x87e5MKrJIlN00zxsZpePwkJbuXLWomzzWzX5s/7k7WXK1rkAcl6541mpOys1WtEorSlmpL2IOaPcJfUr7WPZ+t+HmLFRfsTNDnPv15grTl37vryhhJqq50/8vB8roe+4P0xMpxCjWOa4zxXP3SlXnMyng2SXP+kSsd3qFUY55zS7M6Ryr6z2LNMZ531vp5pEE51pr929wyDOuefsDQWvBYvjYsna6xw93HNzM/I/f8unSnzNXGBE2dS80so6l82M6avM46xjZ97aqnqTxQ/3w0Z67QnGczVdTcMj3ebmeZlFus9EWTNHJ4Sm3rtebzT9PXLNf6uq+hOXNFI/m7mfKh0bzVCGuu1iUtVYZbK4y89Un1l1+eq1VJKUovlsyZazT/hfrr1iaGc65+vcZYBhvK9ibUy0vGvGItVsYLKZo2Nq7xvGQtVsYLSU0f95bWp8VzsKHm6k+tyqu18rUhabG2FEs5/0gyXKcN9Tjjdb+lssmohXK40bLEeGwabEdz53nT55U7/6h7tPKluYq/yDnA1Efxt0TJkpPjuLaV79SqNH89tOg+RZgcSYJHzNXsofl66dX655PV1sg++HSppm0boxfnDTSOaRVL/ibH9jeoy6jh9v+rsMl6rzlzhaOcK96q5KQkLct038ntdx1rWJZKeZsWav6m2sK00fpVvWW2dM41q4lysalyrslrnJquLxpPhebuPQz3Gq66XbPnlrFMOJypZe7nZktljhtXeVDgrDuOnLRUGccc3YiTJ8Vr+PBEzTCuc1PXsuKdSm6kPlH0eorm/CO3mWPU0j1hc+dxI2wW5bzsyB9jpy1V+uH6qeuuMY7jl/yfYumTNM1JStKydWs1x1XmvZxkqLs0XVbX7sc9jv04+WXnA+9mysHmy+Lmyl4ATblwA4zFazT54WyF3jZFs4dVasO0eM1wtcopL1T6+h0qKHf8aV4/VcMfe1+ht89S0n1DZfnfRN24qO6paXOK1iZowMQ0WYdNqZ12yNRNtZX2ghcSNXzqJlmGTVHSw+MU/ukCDZ9sGD97h0JumqXZ46OUP3eKUr9wW4CsykiK0/BF+Qq/fZZm3x6uvIVxut61fuWFSl+/RjN+O1c5V0xU0p2D1Mk16RfLde+8QkWNn6WHhp3US3cN1j3r665IRf9I1JC70hzrdt9QWV+dqiF3rFGBs4Jh2TVLN966VHm9xmn2nCkaWp6msfELleMcf+SjTdqQMl2TX5ZueniWYsMlFa7R2BtnKT14lGY/PEFReXN17zOGLizuTuVYlGdqflycHv80XIkPz1Jir3ylJsRrxi7nRdOSqRnxCUr9NFyJD8/V1GEWvXRXvObvMc7IoeH+eEjDE13744iy129S9iH3KY4o223d3TW777pGK/YXfRSiUEUPi1VstCM806q81GxecRcmf/Mmpb7q2ndWZW1Yqg2bVijdFXQ8sEOr1hZIYf71t6+J9ZOkrIUTtezIUE18eILCP1qosXevaTKw1XzedyzvpblT9NjnUZr48HTFnkjT2CGTtMF1g1xeqPT1m5Q6fYo2Kl5T54xR+HsLNHx4C3nwQJrGxiTqpfKhmjpnioZaN2ny9QlaVShJoYr7hbThgdnO5Vi0ZeFUbdBAxXWvWy/XcT7y0SZtWDpFM3aHaeLDszS4IEl3T5uqe+fma9B9czX7Jn+9Ni1Bya7d3Fyea2K/tnTca/lHqZtlk5Jfce/mYtZrS1OU5d94l+J6yncq+aliJcyc4EhbXqiCA1EadHX91hyDrrtB+iRPBc6//W9IUPzuJZqcNF3TnvdXwk1hkszaMG2u9ORiJbiCk81p7Fy9xXWuBit8YKxio0Kl4D4aashzDo400aFSSK+hih02UOG1r5Eq1qrfTVd2twRNnTlU1vXTdeMfMmsrxq3ev00tozxTc4bH6fH8unV//MY4JbvKEVuu5scnaLV5qKbOcY2fqg2Hm5ifkSVTM+ITtexAhCbNmaJ4bdLds7bWu9Fo+lxqYhnN5cP21Nx1tqVrVz1N5YH65+PJL3dow5ok3dPUMk9pux3LSn5gil7SKM2eeYPCW5F/mrtmnfxyhzbsKNRJt6Wc/HKHNnzUSNulxsqHJvOWcWJJ/qGyfrJCq2sDFvlKX7FJG57ZpCzXNSr7JSVvsyq4R+Pr1noWbXm06XJZB9bo1iET9ZLVWQaXp2lsTBPr7WLZqhm/2ySNmqKkO8KVtTBO1y905hVboVYlxmnyJouG3je3Ni9Nrq3PmLVhcpweez+08ePe0vq04hw0alhfqF9/ajGv1hOq/sOGKiJYCo2KVeywaHVzjXpvge5+3qyh42dpYliO5o+dWNdir6WyyagV5XCDskSnep43fl4ZBUfFKv4qt3LfWqgtW/MVHjvUkb4wT3m2gRp0ldtECtXgYX1U9GVdd+Po+DHSS3M145FJevyjcUoY6iyjp2xVwjMzFe0MTrbJnoW6MWGNzA3KXzm2/09xGr7QbfuXxOvG2ZmN5p/g8IH1yrlB4a4LaPtexxqWpc76jKvscd47PDaxiWW2eM41r8lysbFyrtlrnGrzUOrvmql/tnTvYbjXcNXtmjy3GisTfrdUG9dnO1uetlDmGLjKg2krzIq7b64Sgzdp8m+navJvN8n/9llK+l2E8hYkasa/nPu3uWtZWJj8s5dq2U73Y5Gr1X9ao9LQqKZfV9PsPWFL57GRRRl/iNfY5YWKmDBXU0dJG387S1vcMn3dNSZU/YfFamivYCk0SrHDYjXoikGKrVfmOcubFspqx36crbvn5Sh6wlwlXu3fYjnYfFncTNkLoGn2DuztWRH2XrMyjIPtB58fY+81YIH9/6rrhtVL+81q+y29x9hf+KZu3C8W59QlPlRg33foZN3fbg4+P8be65bV9oN2u91enWF/JCLW/rdP3BKUbrU/EDHI/vhHjj9PHsqz7y1wm1fBcvuNvSfa1x+x2+0ndtgfiBhkf+Qtt/GlW+0PRETYb3m+yPH3N6vtt0Q8aH+ttC6J/ZMl9utd8/hmtf2W3oPsj2e5jXdtr2EflG590N5rwAL7Xrtr3QfZH0l3m3F1lv3xARH2B/7jWJ+TpQX2//vkiNv4HfZHetdt29uzIuy9xr1kr0tx0r59eoT96lkZ9rotKrW/9kBE3T4zOuVjsdy+320bD25dbP/bf4ocyz9Zat+flee2fnb79ocj7FcvcMy/4bE07o8c+wtzV9v3ltjtdnuG/ZHeEfZH3qob7RhWf91deaylfefY7pn2t2vHt5CXWpNXDE7+50F7r+uX2PfZXfN/0P7IrEG16Y+8MtHtuBi2z7h+zvF3pLltk+HYGTWb953zu3qee8Z15BXX8XHM37DM6jz732Ij7He/4hjWMA86hl398A67+ynzf/MG2XtN31GbL/cuGGrv9cBW+5G3ZtqvHjLX/vYJV8r6++HtWRH2XvdurJtXwXL7jb1vsj9b4Bpw0v7aA27HoIU812C/tnTcjccla4H9avfz+tBL9jt6x9r/llc3eVP2LYmtfx5+s9p+S+3xcPPWTHuvesfeuV2f5NmPOPfTwTVj7L8w7OPmNHauHkkbZ+8V68yfdudymyonnN6eZcjvjZV/7uvf4v5tyLiMg8+Psfd6YGu9bd33ZKy9190bHcf5m9X2W3pPsa+vTXDSvj+vwF7qzGzG+Rk1OC6u+bsdg+bPpUaW0VI+bINTus42d+1qTIM8UD//N7nMuc5ltrDd9cr8Bhop41qRf5q7ZjW2vIPPj2myLtKgfGghbxntWxJr7/XAVkc5981q+y3Xz7Q/cnfd/tu7YFDtsuuvWyP7uan91Mpy+fon3QslQ9lucPD5MfZevcfZ/3HIbaB7Xqk+aT/ySY59f205bbfvX3FT3Tloz7A/0nuo/a9usz/yRV151dL6tOYcrKfR+kL9+lOLebWBIvsLt9SvYzS8vjnSuM71Fssmg9aUw8aypMntaPV53sh51Zx3F9uvvz7WfnW/aPsdT2bZS13LfWtmXf3VTaN59cQR+75PXOfJSfvbc4fab1lRe9Fus4PPj6lfDzhRYN/3RWndedZ7jFudoBXXZWM5dxquYw2W0dhxa2yZEXOdy2zhnDOWXQbNlYsNyrkWr3GN5CHX8ovsrbv3MKxvk+fWGkfeb7lMaL7MMTr4/Bh7r+sX2/e68nP1DkeZm16XZt+TsXXHp4Vr2ZG0cfXXP2uB/eqIB+3bm1j+2y3dE7Z4HhvkLbFfbzz+nyyxX9/MdaTetc9ub7LMa66sbqw8aqkcbGya+mVxw/UA0LwLtwVjWJjC3Z5URlzR+Du9JKn/L4bKvGa67klaoy3ZhbJc1EfR3Zt8BlQnP1c5tlBZi3YqfZvz916p/HtYtPcTR7Nt/+5Rig41Ky9zp7a8kKI5f92qApXKUu56InuD4t3fBxN8nWKH1P1p/SRHeT38Vfqe2zKKrApVtnJr23GHKezSumlq3TBUMW77IPi6WMVYcrT3gGvdb1D8jW7Nj0xDFXuzlP6eo4WUf3AfxfTxV0H2TqW/vFRzZq1WliwqLa2bROFhbt0jC5X3iRQ3KtbtCVqwYm5wvO+tNVp/LKzKyc1XxC031XaXkaTw2+Zo9s1hjuX7BytiSB/5f5mt9G1pSk2apVXvSxaL+wY4Nbo/Bmpq8n0a5Oqy0wat2nfuWspLrcgrRv6x8YovzlTWAUm5u5UxJFZ/vPkG5eXmyiqrsnZnK3yEs3VAK4V3d2th0LOPItxHGjSb953ihrnnDUdesXzk7BIlSeqjuOvclmmKUlxssLI+cuvEUC8P5ivnIynu5lFyb1gXM+ImaUdmbdesQfOWa1LOXF3/0Psa/cR8xQW6JTa6KLRuXj7+8pe/2xed/RXsPm1b8pxacdyNhozSr5Wml3Y42jWYd21Vzs/v06SmizeH8p1atsJS13qxVqksjTWoMfIPVsRVUQoNdLQUmLa6j574yygFy6qi7J1K35bdsItkrcbP1dAbblL0gUxlNbKZbWMo/yKiFe36f1v3bwOOdQ/3K1WWa/ptO1VkC5U+zHW8QypskAaHZmp+4nSlvpypvMNSRFQfBTdWbDVgVcGXxYq4JbbecYmOi62Xf1tzLtXT1nzoqWaus627dnmgsWW68l47bHe9Mq4V+af11ywPtDFvRd84RuFvZSjLJpmzd6toxETNviFKOTmO7uYZuyyKH9H663HTmiuXHWVwqK24bp9te1+lfmF13V0b0ze2/ju4ropVXHC2sj+RZPJX6FVR6laSr4xtr2vVoiQlv1oolVqcLTCjNXSoWaumT9KcF15X1pcWBfd1llctrk/rzsF6Gq0v1K8/SS3k1daqd30LU8QVrv+3omyq5xTK4ca2w6m153m986o5EWOUNGeu/jxzlCxrp+ref7i1QjthVavO5MBQRV/lOE8su+bqsbz79PT9fSSbRXmZO5Wemd9E9+LGhQ8apNDMhRo7banWZebLrD6K7hssf9f2971J8X3cJugeq/iripXxfnM71eh0Xsea0sgybc42zS2ec81ra7nYmmtco/VPmzy/92js3KpW09fl+DFufzdX5jQhOFShrvPI5Of41+2jycEhbuVJC9ey0BFjNGjPGq1z9jDP2rZVGj9B8c0tv5l7wtaexy7WwgIV9b1JcT3dBl4VW/e6HY+0VFY71SuPWlkONlaGtbUsBlDrwg0wtkHo+HX6eMtMDTqxW8seStCA/o18ma4xR80qkll572Uqs/aXr07Dxin+cn9HwfdUvAYMTtBjGzKVfSJMsaMG1QVljppVJMm/XpeNUIVcUvfXEXOxZClUdr1lWBQ5fpwGttSO28d5AXPp3KmuwtzosqVuF4XVFrpF/5qqIQNiNHllujK/DtbQ22PVv35ygyMyH6p/wZSk0IvcNqgFrT8WZh35TvI3NV1h0YFNmnx9fw353Uqlv1es4F+MUVxtjc2gif3hqTbvu5byUqPrVz+vNBB4nWKH5isz26y8jEyF3zBUoUPjFP9WhrJs2cp+K0wJN7YUmfJUC3nfxZBXgjt3qT+gXjDPOSSwuRpM43lQF4cq3FVxliQFK6y7VdbqUPXp3Uweaqu25Dm14rgbmYYq8TdhSt+2W1YV67VXchU/seV3IOY9v1jpV7jevegU2k3hsspqqGRZy61S34jGA8+2Qq2atUYRf1mguGApb2m8xq7Kk7U4TWOHp6jxDzQ2ca527eZYRhtu9Nqsrfu3Ace6l36T7TZ9pjItEbpz3EBHVxrTQC18J0Mr7whXwatJuvv6/uoXn1L/66dNamLfXBTq1k2nleeSu7bmw9PglK5dnmrv7W5F/mn9NcsDbc1bV8UqrvNuZeY6HiDFDRuo8KGx0u5sFRVnK6N4VP2HVB5rrlx2lMHmfPd9lqn8zkN154196l7hYuTjb+ja569g1yzLc5UaP1gDbp2rje9ly9I7Vjf9wj2iE6o71+3VG7MG6uR7yzUtYbD6xUzVhkK1Yn1acw4aNHo9rl9/Ov1aUTY1kr7Bdp5iOdzu53n3KMXfPEoJ9y/Rm2vHqWDxEqWXS+oWrnDbSVmN7yUstUh9whu/Xlky9fifCjV1yX2KMFmV/kiMZuw8Iut7c5voXtyEn8/XuxnLlPizAm1Jmqgh/ftr5KJsWVzb3yDvhqrbpa5gVTtoRTnU7lo855rXtnLRg2tcPY3X+9py71FfE+dKoPtxbq7MaQctXcu6j9PUm4u1ZUe+ZMvUxvXBmpTYQkC1mXvCtp7Hjef7YIWe0odaWiqrG9PWchBAeyDA2CpW+fcZp9l/X6c39+7Tx4sHKuNPa5RhTGYU0UfRCtVNDycrJdnt95dkPRQbKilb61ZaNWnjXr2xMlkpMyco/hduX8OM6KNoFarA7Qt4Ur7y3F55EX55tKRBmviXhsu4s6XY0BeF9VsL5OcoS2HqFiopeqBiGizbrH3/LVZ4WDfHR0L+N1P9F2fpnXVLlDLvPiVcH9H0E31JUoT6REkFhfWfqOZ90tQ7PBrT2mMRpsGDgpX3hetNcU7HzDI7n3gW7UhTRr9kfZixTk8nz9HU22MVYYxfuTS6PywyF1uc9wvdFB5mqDCazU1UUD3Ydy3lpVbklYZC9avbhiore4f2/leKGxrmCDoO2a3MNbnK6hyruHrvM2pPLeR9pwZ5Jed9KbybW6UgX3n1DrEzj3ZvqtoQrYFDGs7XnJerop7htfMtWDNLqUHJevlRKfnhpt8j2VZtynNqxXFvRPRNYxS+bYvSP92hLV+MUoJ70LAxTbVeDByoQVGFyni/fi7e++H7UnRUo5X7gjWztCo6WU+MCJZUrKxd0p0zZyrh/lmadFG2o3V0A02cq/k5yjKFKbzxzWwfHuzf+sIUES3p6gkNpk9JHlfXwkShirt/jlZuztLH+zZqknWNkv/VmpYljvkb9401v+4dmK09l9y1OR+eBqd07fJQu293q/JP09esbj3CpGprvZiT+VBr8oW7tuStgUq4Xcr6aJNyskcpbqgz6Fi8W+nbcpQ3NFYxzbVwabXmymVHPSD0ppkN9lnK72ObfhjyRV7t+wslSeY85RSHKbyb492Ry8onaPPeLVqZnKzZ94zSYGNEqdpfEf8zU0+vS9fH+/YqZUCm5qzJbMX6tOYcNGi0vuBefzoTWls21aU/HeVw+5znFmWtNHx8TZK6haqbrVhFJZKiBmqQabeyP3RPYNbej4oVHd3YgizKWJikginLNbWPJGUrfdsNemjeBCXMna74zOxGWnk2o3usps5brs1Ze/X55gmyrk3RhmIp/OpBCjbmXeUrJ1sKD/Nwpxq1qhxqZ60555rVdLnYUNuvcfW1x72HO+e58kl+/bL7/cz6ZUKTZc6pa/la5q+4m0ep6N87lJO5VVvCxii+pfp8M/eEbT2Pwy+Pblhml+cr70u3v9uspbK6MW0tBwG0BwKMLTJrXWJ/jX3B9ZJoq44cKpa6BivEmNQobJym3pSrZYs21XYPtOxJ0a2RcUrNl6QQhQQXq6jQ2dzAZlH6irS6C1TYGE0cmq9lKa7prSpYuUCr3D8kcv0EPXRRmpKXuL4YZ1XR+uka0H+6thi/gmj0xRolr3d+BcxaqGV/SZNuH+doQh96kxJvqr9s87bFSv1wqKbfFeVoPRAiFRTU7ZeCF5Zri2ER9YXp13cNVd6Kxdrg/IKX9csVenxtUzdDRm07FoPumKDwfy9VsutLaOX5WvbbGN3ylKNS0Sk4RPq6UAXOY2P9coWWbXObgbtG98cC3RL3kF47LEl9FH21tGXFCuWVS7Kalb50aaNfQ2z9vjuuI66WKC3lpdbklUaEDr1B0buXKjXPFUwMVcwNYdq+ZpNKbx+jQcYJ6nFbvzZrIe875a0x5JU0KeF/RtV7KrrlmZTar8hZdixWanaUJiY2UuORJIVq9PhR9fOgeaf+ujRbMb+b4KhsFK7QjBTpoT+PU8x9SzTblqJpL7TPY+fW5bk2HPfGRE3QlJ/v1MaUHSpqqUtMU60XJUlhuvN3o5SzYIqW5VudeX6WZrwcrId+G2tI69xva6L1xDxXNyR/BYdYZCmTJKus5ZKaaAHc6Ln6lzT5T5jS4vobWUoaD+s3ypP9a1hG3F0PKmR9ilJd624t1oaHBqvftNcdL/HPXqgB185Vuqs8LjfryDGpm1s/1ubWOe6OCQp13zfHduqxxTvdUrTuXHJfRov58MAmTRs7XRsaDQi3k1O5dnmoxe1uqxbzT/PXLP8+EQr/Mk3LtplllWTNX6G/rm+pUHUrH1qRt4wGDbtBBc8v1WvRrmDiQMWOyNGqNe8r5rambtLarulyOUx3ThmlnGcW1JbBOpar5IRIDV/azEmn15X6lDOv2CxKT1mqrKgJSrxKUkiIgg8Vab9rvxzbqWX/61ZmH07T2CsTtepL5/KqzTIXSaGBIa1an5bPQYNG6wvu9SfPWY61lD/qtFg2GbS2HG6uvGqgXc7zYIWczNaypAXaUOg8RuX5WvfXNBVcNUbxYZJMsZp6f7DWzZildLNVslmVt3KK5ueO0tTxDYNRlh0L9FjBfVo52TUuRCHBZpVaJFmtsprc20NZZTGbm3zlRNafBmvIH3bWdqu2HjqiUlM3x6sKBo7TpDD3vGtV3soFWuc/QVNvavo8lcXc4CvRTWqxHDoNWjrnmtV8uejgXr9s3TWuaad679HQoN8+qOgds3R3SqYKzGYVZKbogeXFdQ0Fmi1zTl1rrmX+N03QJEumUtfu1qApzvptc5q7J2zreXz9OE3qaiiz/7RY6U3UAVun5bK6MW0tB5tSr+w9E3Uk4DxGgLFFoZq0OFndXolXv8sj1fvy/hr5SjclPfdgC8EXSQpWwhMbNdW6VMOvjFTvyyM1YOIOhSev1uwoSRqo2anjtHfuYPW+PFK9+8Vr40XX1Wv1cufKdbrz64XO6fvr7qIHtXCM2yJMUZr9ynIN3jVRAyIdaYanFOvOtYuV0NK7Acfcp9hdiY7tujJeq4Ie1IvzXcEBx7o/VO1a9/4aklSoX69bpju7y7Fuf56j0H84p798sKaVDVK8cRkGoeOX6eX/KdT8uP7qfXmk+v22WA/95TZjsia08VhcNVObVw5SxkTn/u2foHXdkvXPeQMlSaHj5ispNE1jXcfmYasG32iciUsj+2N2vtv+8Ff8vCVKsKzQrf0j1fuaRGWPmKkE42yk1u27nuM0e3ye5lwTqd6P7GxFXmpFXmlMz5uUEGaRZcQNtfswfGisOpmt+vUox35qVIP1a6uW8r5Dwn2x2nGXM6/cskYhD67Wn+sFwqL00F3+eizGuU9m5Crm76s11f29LwbBty3W5gcrlXqjc74xc1Vw2zqtHB8q2Qq17JGl0qNL9FAfSaY+emjxg7I8Ncv5lelT02Kea7BfWzrujQnV6DuGKiu7UL++uYUuMZbXG2+96OTYVyFaldDfmedzFfP3jZptfBJuy1fqlDQNXp7s9r7KUI2efIO2T4vR8JiJ2vCLmbqz4X2eQ4NzNVEbL607V1sr7kHHedX78ngta9Xxavv+bbCMq2Zq87JBSnet+5VxSv5unNY+cZvjZmPoTK38n3zNGOyYf+/Bs5R323I9cbsjlNNgfkY/n69/JnfTa3c55x+zWtHzZ7qdKy2fS8ZltJgPSwq1N3e3sj93VuJPh1O5dnmoxe1us5byTwvXrKj79PTvI5TxSIz6XR6pIX/119SHm8h4aqR8aCFvNSp2jBJOWByvxHAOiom9QWZzH93Ubq2dmi+Xg29brM331ZXBvQdPVHp4stY2t+1XPKiJprkaEhmp3pGDNSPnOj29+j5HufXzmXp6XK7muPbDLZvUbZjbvLpP0BPJ3bTuFufyrozXuh5z9NzDjvKlxfVp8Rw0aqS+UK/+5Ikw3TlznPbNHazel89SemuCTy2VTUatKIeNZUmL2uk8j354i9beVqzkeOcx6p+gZab7tPklZx6QFD1ro54elqsZ1/ZX78j+uvX5ED20cbESjBtreV2PzfhBs5+vm1YaqIkPWpV6S5yGX79ARY/epzjXKPNWTbs2sck6QMyjy3TnF7Oc2xepAbPz9etlyboz1G37M53bH9lfYzeGKeWf8zWoqWBL7HQldU/T2MhIjVzZxELraakcOg1aOuea1UK5aCznWnGNa8mp3Xs0oud9+ufGOQr/aKEmj03UtA2h+uNyt/zUQplzqlp1LTMNVcLtxcrK7qOEEa0o25u7J2zreWwaqIX/TFa3rYnOfB+jVdELNLv2HbGeabGsbkxby8EGGil7z0QdCTiPedntdrtxIBpntZhlsQUr9KJmnjo2pdwi8wkpONTx4ud6bFZZSixScGiTL2e3Wsyy+oTW/2CEgafr1+K8yy0yW/2bmK9VFrNF6tzM9I2xWmQub2qeLWvbtjrXsYn927Z5tbQ/2sLDfddcXmrN8TyXNJn3MzXj8qnSqv16eoRVFrNV/l2D67/T6sAa3Rq3VQkZWzQ1zCpLiVX+TeyTRtmc0xjnewa0Oc+p5ePuzrptuvo9FaE3Mpq7CW4D175qxbIbaNP50vy5elq1Yf82roXzucm83kotHQMP5u9RPjwNzvR6nJbltZB/TssyXTw49mfEacizKrfIXO2v0MYmaOEYnPI52tL2NKZN5d/p0sJ2N3B6yuH2OQdasW6nUL+0WsyyKLh+/vp0qYZPtOjp/85v/GG2Swv5r9F5t7cW1qHdneLy2pQnWjo/W+MU8oaR1WqVv78hnyQUaeFXS+qC020+99qmpf2XtzROtxbO1efL6vf8aU5L9xAtLdPIeswsa+ApHLPGeJQXTu+xAFCHACOAc5B7gNE4zsk9wNhMi8ULitUiszlPqx6YpL13ZWnzPa14ag0AABplfX26+mWO09epjbwaBBcka3aKRk7OVsLa1XpoaKhkztaqGQ8p9aLFbQrmnTblFpmLd+jxxBR1W7lXC1vozAIA7Yku0gDOQf7qFhambs3V0kz+6hbW7Yy3PjyXWXbO1Y0Js7V34HI9N57gIgAAp+KIKVxJdxGhQR3/oTO19i99lDHN8XqLfjEPaUvwg9qcfA4EFyXlrUnUjXetkR5crdlkXQBnGC0YAQAAAAAAAHiMFowAAAAAAAAAPEaAEQAAAAAAAIDHCDACAAAAAAAA8BgBRgAAAAAAAAAeI8AIAAAAAAAAwGMEGAEAAAAAAAB4jAAjAAAAAAAAAI8RYAQAAAAAAADgMQKMAAAAAAAAADxGgBEAAAAAAACAxwgwAgAAAAAAAPAYAUYAAAAAAAAAHiPACAAAAAAAAMBjBBgBAAAAAAAAeIwAIwAAAAAAAACPEWAEAAAAAAAA4DECjAAAAAAAAAA8RoARAAAAAAAAgMcIMAIAAAAAAADwGAFGAAAAAAAAAB4jwAgAAAAAAADAYwQYAQAAAAAAAHiMACMAAAAAAAAAjxFgBAAAAAAAAOAxAowAAAAAAAAAPOZlt9vtxoEdycmTVlmOl6miwqrKqirjaAAAAAAAAKDd+fn6KiDAX8FdgtSpk79xdIfSoQOMR8xHdaL8pH4S0kWBgZ3k5+srLy8vYzIAAAAAAACg3djtdlVWVam8/KR+LD2uzoGd1C30YmOyDqPDBhgLvylWUGCAuoV2JagIAAAAAACAs8Jut+uIuURl5RXq0yvMOLpD6JABxiPmo7LbpZ9267iRYQAAAAAAAJw/vj9yVF5e6pAtGTvcR15OnrTqRPlJdQvtahwFAAAAAAAAnBXdQrvqRPlJnTxpNY4673W4AKPleJl+EtKFbtEAAAAAAAA4Z3h5eeknIV1kOV5mHHXe63ABxooKqwIDOxkHAwAAAAAAAGdVYGAnVVTQgvGcV1lVJT9fX+NgAAAAAAAA4Kzy8/VVZVWVcfB5r8MFGOVscgoAAAAAAACcSzpqzKpDBhgBAAAAAAAAnBkEGAEAAAAAAAB4jAAjAAAAAAAAAI8RYAQAAAAAAADgMQKMAAAAAAAAADxGgBEAAAAAAACAxwgwAgAAAAAAAPAYAUYAAAAAAAAAHiPACAAAAAAAAMBjBBgBAAAAAAAAeIwAIwAAAAAAAACPEWAEAAAAAAAA4DECjAAAAAAAAAA8RoARAAAAAAAAgMcIMAIAAAAAAADwGAFGAAAAAAAAAB4jwAgAAAAAAADAYwQYAQAAAAAAAHiMAOMFpLK0RCVllc4/ylRSUiLXn/BUpcpKSlTSzI99DOD0cC9/ylRpM4y2tTC+HVWWUt4BAM6cytLD2p/1tnIKTu/1DadTM/dRp6lCceDVP2rawy9qX4VxDE6HyjLqhxcaL7vdbjcOPJ/tLzygyD49jYOhD/TEjX/U3nHPaePvIlS5/Y8a8eQhTf/HWo2/zJgWrfee/hy3QG8aB7sZ+ee39Pj1xqEAcKrqlz83zN2mRaP86kbvSdXoR7erTJJ02Wks7w9q/eTJWv415R0A4DQ7vF1/nvms3jzsFrHw666RM/6mx0d3d0+Jc14z91EjFujdecOMQxtV+fUHyv7qhLpcPkyDervVgxo4qHUTJmvVt9Ktf31Lj8UYx6O9ZS+6UX/Ydbrqh5U68MF7+qass3rFXKueAcbx576OGLuiBeOF4tuD+sIm9b3McXd54OB+SRHqeVpuNi8k3TVo9GjdOnq0bh09TJFBkhSkyOtdw0ZrUA/jNADQjgL85Cdp9+735P6AODvdGVw0uQ0EAOC8VaBVM1P15uFKdb0iQTPnJWnmHRHqWnlYbz6ZpPUHjelxfnC/n3L+rmp9sPjou89r3qJkLXv3sHGUwWWa9MxzevKpNM0kuNgBHFb288mat+h5ZZuN43C2mBYsWLDAOPB8VnKsVBd3/Ylx8AVt/6upWv2vTL3/XZkqy0v01cfZ2vX+pzokkyqLv5Wp18/VK9g4FVqnq/r+MkbDfhmjYb+8XBVvbdFHP3bXXX95Qg/c7Bjet6skW4n2b1uv5cue1fItH+pIRVdF9eshv9oQf6UOvbte61au0N9eeEMfHy5VQFg/hQebJJUoe/UK/fOtL2Tq20NfrU3SvBXbdeiigRrSy0+Hdq3QvIWp2vpBmbr0H6heQfXXEEBHdVC7/5Gpr6pD1C20QmVfVKrXnSPUx1dSxdt6fvG7OnBJlPoHmHWkPERDbk9Q/xDVL29e2qnPjvqrb//e6uIMRO7fkqrVW7P140+vVuWuZM1fuF45ulyDo0NVmbtJKQsXatXOg1LY1bryp36SSrVvyxZ99KPUZ/go6a3FeiJlk94vDdSVbvNtfrlu5dyl/vromT9p/tsmjYiLVEBZgd5Y96LWvfC01u7M06GyEEP5CQC4IHy7S8vX7VWJhumPGx7T6D69deW1t+qq8kzlmMtkCx2hX/VzNGOq/PY9bfrH81qe+rLezC+RrUdP9b3ErYlTSYHeePkZLf/7Cm394LDK/Huqb88gxzO5kg+07tkNSv/MpHDfbD0zf6HeNI3QryIDGkxXeXGkruxxHjadOic46zEaopmrHtP42nuqGA3r11VqUCd5Vn99crXS91cq/MpodQuQSrJe1DNb/qsDJZWqLDuqbz8v1U9/2U8lrukuulyH1idp3oqD6nv75Sp8eb3eyf9Ux3/qvEdrtm4iSWU68MbLen7t83rmpZ36rLhMF0c6lo2WFb+zTm9+LfWJm6QbGmuoV3lY2S+/qOdXpuq5N/6rIyX+Cr/yslbs/xJlr35Om3IOqqTSph+PfqvPLd1q8835oiPGrugi3eEd1LrfTNaqJp/oXavHt/1VIykk24Grm6CxK2KZshdN0B92lUkBXdXDr0yHSiuliHuV9tw96mmSDqx7QBNeLJD8gtQjRDpqLlOlKULTVz2n8b1d8+2qyIhK7S9wdHiULtMdCUF6dUt+3SqEJGjl5t+rPy2WgAuAq2vRrzRp/H+1bn2JBv1+o/5+R1dV7vyjRiz+QEEJCRq6ZYvedOsiXa+8CarUoZJKKeRXejItSUOD6rqzREZEaH9BgXNZQRqZMER7t7ytEtfiTVF67JVndGtoXRfpriFBKil1lVFqupxrsFy3cq53pfZ/XSb1vlcbV0Vp/dhH9WqpFNS1q7rYXOXn77Rx1TjRQBwALiAVb2vebcnabZMiExZo/pQh6hnUSJfYr1/W5Kkvar9N8gsJkkrLVCkp8ndrtXb8ZVLZe/rzhAV6s1RSQJCCKstUZpO6jligl+cNU9DBlzX5Ny9qf+hliqw4qP1lUuS9a7X2joO10wV17SqVOd4tF3nvWq2dRLewtqurxzyZkaShxtFuXWz7XxWlfZ82vOe5+OXJSnzR/UbXMS+56jK9L9P+rw86h0/QAcMrXZqvm0j7nv61pm1x3sMFVdbdo6197jS9dqZjabaLtO2g1j8wWcsLJL+QrrpYDe+Rm97/SdICx7Gs1YZu9eeKjhi74vl/h3eZJv3jLT05SlJQglZmvKV331qgkXJcDN/NILh42u15Xn/eVSZdO1vbX9+oja9t1KLYIKngRa3aVSmpRJXdr9f40ffq75tf08aNrzkqKbYCvZHpfsEska79m3ZlvKW0SZdJOqhXd3XXkzve0ruvL9DIIEmludr3rdskAC4I/YdcryBJOZnvqkSV2v32B5KCNGrYwPoJzZuU8mKB1D1BK19/TRs3b3OUJ6Vva+l6VzDR4VBYora/9Za2zx+mIJXpzS2Hddcrb+ndt9Zqam9JtnzlfF5vElUOfFjb33KWSSGqK+davdwSHep2r9K2vaV3nxunHp+8p52lkrrfo+c2O8rPv997j2aOj1C9/uAAgI4v4Fea+uBAdZW0f8sCTbjtZl1/8wQ98ux27a99+lWiV//mCC7eMHujdr32mnatvUeRkvZv2a79knKe/5veLJV63PGMdm17Tdtfc9SjS3Y9p1fcL0nmEl06Za12vfWWnht/We10N8zeqO2bN2r7Zsd0+9c9r918NOQUvK0/xN2o691+f363fop9ul4bd7yldzcnOe95tug/H0g9Jq3VxnsdkT7HvW39QOV+DdTfN27Tuzv+nwa7DZdaUyfK1Zu7yiR119RnNmrjxte05al7Nel3ieprohJyykordfH1Cbr13qe05bWN2vjac5p6maSCXdp9UC3s/+4av3atpveW8z3jb513wcWOigDjBeGwDnwlqfdlulSSDu7Xl5J69eaxy5mwf+8HKpMUdPQDLU9N1RNPPq/3Sx39mHfvzZXUVZGjxuk3d0TpeObLWv7kAi15wxFYPPBt/aanva6IkJ+knhERjgHXDtdQP0lBl6lvaL2kAC4kVw/TqCBJn36ovRW5ytkjyTRE1xnii5V7/qt9kqSD+s/TqXriyVSt/9pPQZIOfZCrQ25pe/SOUJBJCro80tFSsPe1uqG7JNNlirzcLWGtII0a8ysFmSQFDdNdox3dVL759nCbljv0lgTHi7r9/KSeEbrKJOnwy3pgwsP687NbdDRqhG6NHagejTRaAQB0bD3veEpbNj+nRfcm6IYruiqo8rByXk3V5MnJyi6TVPGBcvIlaZhGOq9D6n2v1r71lt595XeKVIH2flAm6TLdemuU/OS4Zt0xIsjxTrcs97r3EN2ScJn8TJKfn2u6IH334Yt64slUPbHiAx0NkmT7QO/nuk2GNvJTUGhX9XD7XWy4xkf+/FrHdb/rrzTyWscwayu+Hh4Zm6BBoX6Sn+N91e5arpv0VGSkJB3Wqocn6JGFz+qNw1EadeuvNOhnxrmhzbpGaOT4ezU+6piy1z2rJxb+TZu/laSD+qZYEvv/vESAsaN7N1nXx03Q8gJJnz6rhLgbdf3kl3VA0puP36jE5+u3WEH7+6HE8Ui17Nt87d3zgeNXXOm4gAZJUonemPVrjZ76qOat2KLdX1WpS1depAigDUwDNXJEkKQ87dv0X+21SUGjR2uo4XUJR0uPOv5Tsr+uPPq8RF1Cu6rHT061stZVF7u9RiYowFGOHS096vlyu47Won8kafxVl8mvJF9vvvqi/vzoZI1ITFU2rUUA4MJSUaaSkhKV+F2mGyb9Xoue26jt29I08ypJpW9r+aaDUkmZvpMk+cnP/RpY+/+jclbN643vEtLSu9tc05XpUJ7zOrbnAx2yOQJiQbye6BQM0+MbN2qj22+6M4h4OrVcN+mqW1PStOiOKPUMKFFO5hYtT31UE25L1NIsWjCeMvN2/eG2X2vCo8lasuVdfVPRVRfX61nJ/j8fEWDs4CrDRmjRg8PUQ1LkrbO1aF6Spl8fJClK4+clac4oWjGebldcESVJ6jF6Qd2FM22tnlubpo2/v1Y6uF2v5lZKoQla+fpGbXzur5oa01IlBwDq6z96tHqoTDs3bdchBWnUDYbmi5J6XBGtIEm6+nda6yqPXknT2lVp2vhUwim+0/Cgsve4+qiVae+njlYgPbr38Hy5FWUqq7hIQ2c+py3b3tKujQt0a6ikku16c48xMQCgQ9vzjBLGJirh4Zd1wNV6za+7evV0PNCqrKyUfhahq4IkKV/7XO0obLla9fAf9cSzb+uQIhUdJUkHtS/P9c7gEu3d47hmXdq9qa8Xu6brqlsX1AXC0tY+p7VpZyYghvbVYt3EVqmysjJ1GfL/tHbzNr27Y6OeHN1VspXo1bc/NM4ObXRo+yZlVzpeVbB980atTJmsWPdbYPb/eYkAYwfn1/ta3RBxsY4rSFf9arRuGPEr9TCVSb2v1R0jfqVBvZtpOYJ20XXUaN1gkg5tWaA/rN6u3W+8qD/c9Wsl3JaoP79bKQUFqYskleRpd+YHyn7jRS3f0uRXeQCgcVeM0MjuUllZmRQ0QiN/bkwg6erRuqO7pD3P6oEnN2n3rk1aOvnXGv3rmzV53amXO/tWP6BHFqbqiUcf0BN7HB+CuWNEd8+X+/mLunfqo3pk5h+16o23lf1Brr4okaQo9e9nTAwA6NB+PkK3hjg/4jLhYf35yVTNm3yzHnnD0XV56JAISQM1/p4ISYe17rGHtXzTJi2fvlDrPv1AbxyWLlZXjRr/K3WVtPvph/XndZu0/vGHtTTf8eGQ8SOaujfqqtjR10oq0foFj2rVG2/rzdWPatyvEzV6bDKt6k/Je/pzYqIS3X+Pbqn3+pTm+Ac5Asz7tz+rJ57cov3GBE1psW6Sp1WTH9Ajcx7WvNXbtfvdD5TjfNlnf2cDErTO7lTD8X32g9rjduiTXdqd9YHeXP2sNterEra0/4PkmMVBvfp0qp7YQs/McwEBxgtAydf7VabLFNlTkg463sd4ec+mW4ygfQWN1uPP/U43hJYp++VUzUt9Wdll3XXDg3/TnOv9pK4JmvW7CPnZCrR+0R/1hxfzNTyBl9QCaKsIxY5wtLzoceto9TeOliRThKYu/6vG95YObH9e8xY9r1e/lSLv+KueuedUW7Rfpqlzx6kya7ve2HNY8rtM41OSHS0OPV3uwN/rmd9fqx4VuVqXmqx5qVu03+8yjf/rAt3Be2cB4MIScK0ee26B7ujtp8rD+Xpz+3bt/rpSCrhM4/+6VjOdDfd7jP+b/n7HZQoqzdf6Fc9r/Rdl6vrze7Vy7q/kJ8kvJslxbdFBvfni81r+7mH5XTZai577vfo309U5aPR8pT14rXqUOa5Jf345V2Wh12rm0v+noXw08xRUqsxcokPuv6Ou1qUt6zr6Xk26zE86nKs3tm/X3tZ+8LKluolpoGYu/b1u6F7puIdb5HhHY+Qdf9VTd9DbrC0qSw3Ht7RKXRP+n6Zf4ScVbNG8P/5Ry74YprGxbhO1uP+7atS949TTTzqUu11vvFH/nd44O7zsdrvdOPB81hE/9Y2Oo7KsRGWVfgrqGtTgRcOqLFNJmRofBwDtraJMJRVSUEhQ/fdUtYPKskr5BTVRknm43MrSEpWZgtS1qfkCAC4ctkqVlZZJAV0V1FRwz5UmqKsav3RUqqykhXk0yjFdpR/XpHNKZaUqTYZ3b7ZWS3UT13ju09pdZVmJytTCudTC/q+sqJRfQGNjzm0dMXZFgBEAAAAAAAA4Qzpi7Iou0gAAAAAAAAA8RoARAAAAAAAAgMcIMAIAAAAAAADwGAFGAAAAAAAAAB4jwAgAAAAAAADAYwQYAQAAAAAAAHiMACMAAAAAAAAAjxFgBAAAAAAAAOAxAowAAAAAAAAAPEaAEQAAAAAAAIDHCDACAAAAAAAA8BgBRgAAAAAAAAAeI8AIAAAAAAAAwGMEGAEAAAAAAAB4jAAjAAAAAAAAAI8RYAQAAAAAAADgMQKMAAAAAAAAADxGgBEAAAAAAACAxwgwAgAAAAAAAPAYAUYAAAAAAAAAHiPACAAAAAAAAMBjBBgBAAAAAAAAeIwAIwAAAAAAAACPEWAEAAAAAAAA4DECjAAAAAAAAAA85mW32+3Ggeez/YUHjIMAAAAAAACAc0Zkn57GQee1Dhlg7GgHCQAAAAAAAB1DR4xd0UUaAAAAAAAAgMcIMAIAAAAAAADwGAFGAAAAAAAAAB4jwAgAAAAAAADAYwQYAQAAAAAAAHiMACMAAAAAAAAAjxFgBAAAAAAAAOAxAowAAAAAAAAAPEaAEQAAAAAAAIDHCDACAAAAAAAA8BgBRgAAAAAAAAAeI8AIAAAAAAAAwGMEGAEAAAAAAAB4jAAjAAAAAAAAAI8RYAQAAAAAAADgMS+73W43Djyf7S88oMg+PY2DAQC4INntdlXbbKqutqmmpkY1NTWyS4rZfqcig3uqZ1CYLu8Spit+0lvXX/pzBfp0Ms4CAAAAQDvqiLErAowAAHRAtpoaVVZWqaq62jhKknT167cZB+kiv2Dd13ecftvvDgX5BhhHAwAAAGgHHTF2RYARAIAO5qS1UpVVVbV/+5hMMplM8vExydvLS15eXiqxluqzY4X67Mev9PmPX2mP+VN9U/atJOkivxA90G+8ftPv1+pk8nebMwAAAIBT1RFjVwQYAQDoIGw1NTpptcpmq5Ek+fn6yNfXVybvll+5bJddW755W09/+r+1gca+wb308q/+ptCArsbkAAAAADzUEWNXBBgBAOgAqm02VZy0ym63y+TtrU7+/jKZHIFFm82miooKVVZWqrq6WjabTZKcrRp95Ofnp4CAAJlMJtnsNfpX4Q499clq/WA9psuDwrV+xBJ1C7zYsEQAAAAAnuiIsauWmzQAAIBzmq2mpja46Ovjo86BATKZvFVdXa0ff/xRR44c0fHjx2W1WmuDi3IGHq1Wq44fP64jR47oxx9/lN1WozsjRuu1m5are8Al+qqsSHfumilzRUm9ZQIAAACACwFGAADOcyetdcHFgE6OdyaWl5fLbDaroqLCmLxJFRUVMpvNKi8vV1jn7vrXyGfUPeASfV1WrMRdM2U+SZARAAAAQEMEGAEAOI+dtFbKZquRydu7NrhYVlam0tJSY1LZ7XbZbDZVVlbWdpeuqXG8r9FdaWmpysrKaoOMPwv8qb4+XqTHP3rWmBQAAAAACDACAHC+stXU1H4tupN/XcvF48ePG1I6gosWi0X5+fk6cOCAvvjiC33wwQf65ptvVF1dbUyu48eP17ZkfOraP0iSdnz7jorLvjcmBQAAAHCBI8AIAMB5qrLSEVz08/WpfediUy0XDx8+rICAAF133XXq27evLr74YkVEROjEiRPKzc2t925Gl9LSUlVXVyum+0D1v6ivaux2vfj5ZmMyAAAAABc4AowXGptVFrNZlnLjCHjMapHZbJHVOPwMsR47teNptZhltrT/2lstp7ZeAJpnt9tV5Wx56OvrKzm7Rjfm+++/11dffaWjR4/q4MGD2rlzp3JyclReXq5OnTrVtlZsjGueM6/6rSTpla//o/Lqk4ZUAAC0D+uxQmVl5quotfXTcrPyMjOVV9x0fdx6zCzzMbexVovMZrPh55recb/UcLyhzsx91QXHanHPJzjtWnmOWY+Z1driAqcXAcYLiPXAJs24vr8GXBuju9OKjaPhqfcWaMi1C5RlHH5GFGvdxFM7nlkLYzRkYbZx8CnLWnhq6wWgedXOFoc+JpNM3t6y2Wz1Pujiet/i119/rdDQUA0bNkyffvqpiouL1bNnT/Xp00fh4eG1AcbPPvvMbe51KioqZLPZNOJn12lSnwSlDn5MPjIZkwEAcGpsZm15JEb9hiRqxuMTNfKawRq5KFsWY7paFuUsTVS//jG6O2mh7h45WP1ikpThPoG1WBseiVG/wTEaMjFNRc7BRS9P1JBrYww/V30+W483GOf8OevM3FddYGyOvDbgGvd8gtOp9eeY43748feMw3E2EGC8UOQu1fU3LpVl+nLNjjKOBACcb6qrHQFGk8kR7HMPLtbU1Oi7777TwYMHZbPZdPjwYRUVFamyslKXXHKJ+vbtq6uvvlpBQUHq0aOHLr30Un311Vf68ccfZbfba+fj4pr3H695UL/sNli26oYfhgEA4FSYN83WjPev09q9e/XhO3v1+Zsz5f+Ph/T4riaaJu1ZqgeetWrS5r36OCtDH+/bq5VDMzV52iaZJUm5So2LU+rxB7VyZv0bIMtRi3T7Kn391X633xLFSZJi9XS94fv19b5VSggOVsLNQ7mvuuCYteWBGI3dFq2VybcZR+J04Bw7bxFgvGCE6aH/ZGjtPVFyfAYAp0XxTiUnrVCGo1ZTq+j1FM35R66jOb21WBkvpGja2DiNnDRLqduK3ZrZ52tDUpI2fGpRzstJuic+XvckpSmn6Ue3rWLZk6bkaYkaPna6kl/OlaXBq9YqZdmTpjmT4jVyUpLW7TEu0KqibUs1Y1J8I+tsHJ+kdbnG6R3bnb50lmObHlmq9APOOVhztS4pSRvyDcn3rNGclJ21T5oB1Of6+rOPjyPAWFlZWTv8yJEj+slPfqLIyEjV1NTIx8dHfn5+CggIUHl5uSoqKmS322W321VeXq7OnTurR48e+uqrr+otw8U1b9eyGvvyNAAAnsvXuuezFT9vseKCnYP63Kc/T5C2/Ht3o11SM15Nk/m26Uoa6JzAFKz4Rx/UoOzX9bazLh42PV3vrp2gaMMN0JHDxYqICK8/sBlFaUu1JexBzR7hz33VBccq/xHL9HH6fMWFGsfh9GjmHLNZlPOy41567LSlSj/cWOmAs4UA44Vi4DhN6tvg9ER7CwuTf/ZSLdvpHmHM1eo/rVFpaJT8bYValRinyZssGnrfXM2+PVx5C+M0eb0r/RFlr9+k1N9N1LIjQzXx4QkK/2ihxt69xuNAW9HaBA2YmCbrsClKum+oLP+bqCFTXU92nb5YrnvnFSpq/Cw9NOykXrprsO6pXSerMpLiNHxRvsJvn1W7ztcvyq2dvOCFRA2fvUMhN83S7PFRyp87Ralf1I6WyjM1Z3icHs8PV+LDs5TYK1+P3xin5D2S/KPUzbJJya+4d9M267WlKcryD1Prq37AhcUV5PP28pKk2i9B2+12HTlyRJ988omSk5P14YcfKisrS+vXr9eXX36pr7/+Wl988YU+//xzff7557JarQoMDFRJSYm+/fbbRlswuubtWhYBRgBAuyovVMGBKA26uv79yqDrbpA+yVNBvaFOVkk+fvWHmfzVSdnKzZOkgbrznj4NAxQqVsEXUnB1odYtStKcpCSl/quw6a7Y5TuV/FSxEmZOcNRLua+6wIQpfnysgnk7zJnT5DlmUcYf4jV2eaEiJszV1FHSxt/O0pYmT16caQQYgXYVpUlTBipny466AF72Vr12YpQSYh1PPH+9aKPe3JKsSTePUvztM5X02z7Kej2zXsAvfPpqrZ15m+JvnqCU1XMUnb9V6c29eqIptkylLrbooY3pWnjPKMf8Ni9R3LspWrbHLV3xIM3+z3xNunmUEu5fos1LRikrZYVyJOlAmlI3DdTT6as0+3bHOq9d/aA6rV2qDWZHpSv1qWIlLNtSt4yNExXuFmAsSluqDYOW6K1VM5Vw8yglzFylF+/316qlm2SWv+LvmSC9vlNZrpaVh3doY3aYEm6iTTzQFFcY0MsZ9HN9BdpkMik6Olq/+MUv9Oijj2r8+PG66qqr5Ovrq++++07vvfeeduzYoS+++EJHjx7V559/rq+++kr+/v61gUQj17xdy2oYggQA4BSYj6hIIQoONAz3kVRcpCOGwZIUM2KUtHWTNhxzDbEqZ80KZUk62aC3jjuLLCVS3qtpyu82VFGhpUr/U7xunJ3ZaJAx7/nFSr/C1XoRwFmTv0bz/x2qpFfc7kufipXFk/tknBYEGIF2FjpqnGL2rNE6Z5ffrG1bpfETFB/oeKoaelWUupXkK2Pb61q1KEnJrxZKpRa5f5M1vLtb+/uefRQhSc1WlJqQn6scW6isRTuVvs35e69U/j0s2vuJW0l8w1DFuD2VC74uVjGWHO09IFk/yVFeD3+Vvuc2jyKrQl1PhwvzlGe7QfGxbpWu4OsUO8T1h1U5ufkK9ytVlmv6bTtVZAuVPszVPkkaOka/Vppe2uFo4m7etVU5P79Pk4gvAh4xmUzy8fGRl5eXfHx81KdPH91///2aPn26Ro4cqYCAAOXn5ys3N1fvv/++PvvsM33//feyWulmAgA4W0rb9CVY/5sXa+2YXM0ZMli3Tpule+IG6wHzOE3ta0xpFKXZWfv1ecY6pdx/mybNXK4335ipbv+erVT3B/ByPEhftsJS13oRwFljLSxQUd+bFNfTbeBVsXWvVcBZR4ARaG+hYzTx5mJt2ZEv2TK1cX2wJiUOdYwrz1Vq/GANuHWuNr6XLUvvWN30iz7GObSfo2YVyay89zKVWfvLV6dh4xR/uVtA0Ni9pHMnucrpI+ZiyVKo7HrzsChy/DgN7OZahuRfr9tAqEIucf3frCPfSaXfZLtNn6lMS4TuHDdQ3SRJA5X4mzClb9stq4r12iu5ip84TrzmBGiaoy2ho0u03D720hgvLy+ZTCb99Kc/1bXXXqu+ffvqmmuuUc+ePdW/f39dccUVOnnyZJNdn13zdi3LtWwAANpFaDeFyyrjcy5ruVXqG9FEcC9YcakZ+vDVVD10W7ymPJOhd5+M0JEvoxQdYUzbgj5jlBBl0d6c+k2haL0InDuOmIslH3/Daw+CFdq93gCcRQQYgXbnr/jbb1PRv3coJ3OrtoSNUfxVzlHZL2lZ+QRt3rtFK5OTNfueURrceI2pfUT0UbRCddPDyUpJdvv9JVkPxbqF774orP+Ox/wcZSlM3UKl8MujJQ3SxL80nMedUa5lFKrgQL0ZKK/2FY1hioiWdPWEBtOnJI9TtDNV9B0TFL1ti9I/3aEtX4xSAhU5oFne3o5LeI0z6Ofj42NI0ZCrRWNUVJRKS0tltVpVVlYms9msXr166bvvvjNOIrnN27Us17IBAGgXgQM1KKpQGe/X/1Li3g/fl6KjHL15DMyZKzRnbb6Cr4pV/M2jFHdVqPw/zFZGWKxi3Fs4GR3L1rIGH2W0yGKRwnu41Y9pvQicU8Ivj5a+yFOBe8++8nzlfen2N84q7hCA0yF2nCZZMpW6drcGTZlQG0RTSIiCDxVpv+sFL8d2atn/FtZN5yFrqVlmc/2fxSopbJym3pSrZYs2qcj5RNiyJ0W3RsYp1f2rzV+sUfJ655ehrYVa9pc06fZxjm7d10/QQxelKXmJ6+vTVhWtn64B/adryzFJYWM0cWi+lqW4lmFVwcoFWnWobvZxdz2okPUpSnV9ndparA0PDVa/aa/Xveum5xgl/nynNqbsUJGrSzmAJrmCfNXVjlqWn5+hJXITvL29demll8pmsyk4OFheXl6qrKzUwYMHVVVV1ehHXlzzdi2LACMAoH2F6c7fjVLOgilalm+VZJV52yzNeDlYD/021pHkwCZNGztdG5wPtUO7WZW1aLoe22aWVZL1wCZNm5Gm/g+61b0bc1G4/D9ZqscWOuuuNotynpqrZZbblOj2gJvWi8A55vpxmtT1daU+5bwvtVmU/qfFSm+6Ew/OMO4QgNPBNFSJ91iUld1HCSPcnoT+fKaeHperOYMj1fvySPW+ZZO6DTv1Fw0WrEzUkGtj6v0ef0+SgpXwxEZNtS7V8CsdyxwwcYfCk1drtvtix9yn2F2J6nd5pHpfGa9VQQ/qxfmxjubnpijNfmW5Bu+aqAGRkep9eX8NTynWnWsXK+EiSQrVnSvX6c6vFzqX0V93Fz2ohWPc5n/VTG1eNkjpEwc7tvvKOCV/N05rn7ittiu2FKo7J45SVnahfn2zs0s5gCb5+DhqU64PsAQEBBhSNM3b21udOnWSr6+vrFarLrnkEnXp0kW9evWq/ZCLO9e8XctyLRsAgPYSfNtibX4wRKsS+qv35f01ZHauYv6+UbNdPYFKCrU3d7eyP3c+NY+aqc1/v045s2PU7/JI9bsxRZbxG7VyfEsv2QnT1NXLNbrAWXeNHKy7t4U5PoToesBteZ3Wi8C5xjRQC/+ZrG5bEx33pZExWhW9QLOvMCbE2eJlb6ypwnlsf+EBRfZprk08cA4ot8h8QgoODTa8Q+I0asUyrRazrD6hDb/g52S1mGWxBSv0osbn0NL0klUWs0Xq3FwaAK1ht9t1/ES5JKlzYIBM3t768ccfVVFRYUzaQE1NjXbs2CGz2azAwEBdfPHFKi8vV0lJie655556LRQDAgL0k5/8RLaaGp0od8y7S+fARgORAACcMptVlhKr/Jups9ZnlcVslX/XYMM7wVuh3CJztb9Cg1u3JADnBusxs6yBoTqfT92OGLuiBSNwNgQGK7TVlaZ20opl+gc3H/jzDw5tMrioVkwv+Ss4tKU0AFrDy8tLvs53I1ZVVUmSgoKCDKkastvtOnnypC677DJFR0fLZrPVBhd9fX2NyWvn6VqGr/Pr1AAAnBYm/2YfiDfkTN/W4KKc9ePzOUIBXKD8Lzq/g4sdFQFGAADOU35+joBgZVW1bLYa+fj4KCQkxJisHrvdrqKiInXr1k1VVVX6yU9+Im9vb4WEhDToZh0SEiIfHx/ZbDWqrKqW3JYJAAAAAC4EGAEAOE+ZvL3l52x1eNLqeCdVYGCgunTpYkhZn81mk5+fn3x9fdW1a1dZrVbV1NSotLS0Nk2XLl0UGOhobuyat5+vr0x84AUAAACAAXcJAACcxzr5+8lk8patpkYVJx2BwKCgoGZbMl5yySUKCQlRSEiIAgMD1a1bN/Xo0UNlZWWSs+Wiq2t0xUmrbDU1Mpm81cm/dV+qBgAAAHBhIcAIAMB5rpO/v7y8vFRVXV0bZAwMDFRoaGi9bs92u13l5eXq3r27unTpoh49eqhz584qKytTbm6uRo0apZ/+9Ke1LRcrTlpVVV0tLy8vdfLnRTcAAAAAGsdXpAEA6ACqbTZVnLTKbrfL5O2tTv7+MpkczxFtNpsqKipUUVGhTz/9VNdcc43sdrvsdrtqamp07NgxhYaGqmvXrs70NTppdbRc9PLyUkAnf/mYPHl7PgAAAACjjhi7IsAIAEAHYatxBgZtNZIkP18f+bbhvYm2mhpVVVXVftDF0S3av9XTAwAAAGhZR4xdcccAAEAHYfL2VueAgNoPv1RWVetEeYXKK07KWlklW02N3J8r2u122WpqZK2sUnnFSZ0or6j7WrSvrzoHBBBcBAAAANAi7hoAAOhgOvn7qXNggHx9fCRn92lrZaVOlFfo+IlyWcpOyFJ2QsdPlOtEeYWslZWqttkkSb4+PuocGMAHXQAAAAC0GgFGAAA6IJO3twI6+atL50AFdPKXr4+PTN7e8nJL4+VM5+vjUy8trRYBAAAAtAV3EAAAdGBeXl61AcTOgQHqEtRZwc5fl6DO6hwYUBuA9PJyDz8CAAAAQOsQYAQAAAAAAADgMQKMAAAAAAAAADxGgBEAAAAAAACAxwgwAgAAAAAAAPAYAUYAAAAAAAAAHiPACAAAAAAAAMBjBBgBAAAAAAAAeIwAIwAAAAAAAACPEWAEAAAAAAAA4DECjAAAAAAAAAA8RoARAAAAAAAAgMcIMAIAAAAAAADwGAFGAAAAAAAAAB4jwAgAAAAAAADAYwQYAQAAAAAAAHjMy263240Dz2f7Cw8YBwEAAAAAAADnjMg+PY2DzmsdMsDY0Q4SAAAAAAAAOoaOGLuiizQAAAAAAAAAjxFgBAAAAAAAAOAxAowAAAAAAAAAPEaAEQAAAAAAAIDHCDACAAAAAAAA8BgBRgAAAAAAAAAeI8AIAAAAAAAAwGMEGAEAAAAAAAB4jAAjAAAAAAAAAI8RYAQAAAAAAADgMQKMAAAAAAAAADxGgBEAAAAAAACAxwgwAgAAAAAAAPAYAUYAAAAAAAAAHiPACAAAAAAAAMBjXna73W4ceD7bX3hAkX16GgcDAHBBstvtqrbZVF1tU01NjWpqamSXFLP9TkUG91TPoDBd3iVMV/ykt66/9OcK9OlknAUAAACAdtQRY1cEGAEA6IBsNTWqrKxSVXW1cZQk6erXbzMO0kV+wbqv7zj9tt8dCvINMI4GAAAA0A46YuyKACMAAB3MSWulKquqav/2MZlkMpnk42OSt5eXvLy8VGIt1WfHCvXZj1/p8x+/0h7zp/qm7FtJ0kV+IXqg33j9pt+v1cnk7zZnAAAAAKeqI8auCDACANBB2GpqdNJqlc1WI0ny8/WRr6+vTN4tv3LZLru2fPO2nv70f2sDjX2De+nlX/1NoQFdjckBAAAAeKgjxq4IMAIA0AFU22yqOGmV3W6Xydtbnfz9ZTI5Aos1NTZZKytlq66SzeZ4F6Ndkre3t3xMJvn4+MrPz0/e3ibZ7DX6V+EOPfXJav1gPabLg8K1fsQSdQu82LhIAAAAAB7oiLGrlps0AACAc5qtpqY2uOjr46POgQEymbxls1Xr+HGLjh0r0cmKclVVV6umpkZe3t7y9vaW3W5XVXW1yk+Wq6T0mI6XWaSaGt0ZMVqv3bRc3QMu0VdlRbpz10yZK0qMiwUAAAAAiQAjAADnv5PWuuBiQCfHOxO/+eYbrV+/Qe+8866+/97saLlos8lut8tul+zykt0u1djsstlq9P3h77U7M1Ob/7VRRQcPKKxzd/1r5DPqHnCJvi4rVuKumTKfJMgIAAAAoCG6SAMAcB5zfdDF5O2tzoGOLz9/9lm+Hnlkhmw2m7p27arrhl6nPhERCg4Olq+vr+x2u7ycH3uprqySxWJRQeF+fZCdpfKyMnmbfJXyxBO6MipaxScO6863Zurb8u81OuwGrbx+vnEVAAAAALRBR4xd0YIRAIDzlK2mpvZr0Z38HS0XS0t/1Msv/1PfffedfvjhB3388cd6c+ebKvhyv1RjV0Cnzio7fkInjh9XYCd/2WuqVLD/c72ZvkOffJKnbw8d0dfffKP1/0yTpfSYwjp311PX/kGStOPbd1Rc9n29dQAAAAAAAowAAJynKisdwUU/Xx/nOxdt+vbbYh08WKyKigpVVFSoU6dO6tu3r/r376/u3bvL5O0lk8lbXt7ekrz00+49dNXVA9S33xXy8/fXifJynago18HiYn37bbFsNTbFdB+o/hf1VY3drhc/32xcDQAAAAAXOAKMF5JyiwqyM5VXbJHVOA7twmoxqyB7p7K+NMtyru3k/E2asz6/9v/z/11oTFHHapHZ3Eg+sVpkNp+D2wZcgFwfaJEkX19fSVJFxQl17txZXboESZICAwM1cuRIJSYmqm/fvvL19ZXJx6TgkGAFB4fIx8dHvr6+6t27t/7nf8Zp5MiRCggIlL1GCuwcpIDAzqooL5ckzbzqt5KkV77+j8qrT9auBwAAbdbW+5Jys/IyW0jf4jytshTnKyO7UBbHpa2hFuchWS3FLa8LOg6bVZYvs5XxaTH3QO2tFfvWesws8zHXSKss3Iue0wgwXiAK1iaqX/8YjX1soe4eOVj9Ri5UlsWYCh6zFWrD1Bj1uyZGI6ct0LSEGA3oH6PJLxeeOxWPKyIU/Px03fPILN0zfYX8w/sYU9R5b4GGXLtAWfUGWrRlxmANmbJVR3zqjQBwFlTbbJIkH5NJJm9H68XKykp16tRJV119lbr9tJt++ctfKjExUT/72c/k5eWlk1arysvLVVZ2QuUVFSqvqNCJ8nJ5eXnp0ksv1f/8z//ol7/8pbr9tJuioqPVKSBA1kqrbDU2jfjZdZrUJ0Gpgx+Tj0zG1QEAoFXMr8/SkAGDNXa2475kQHxKM/clFuUsddzH3J3kvI+JSVKGIX2L87Rkak5Mfw24dYrmz0501NPX13/Y3vL9kkVZC+PV75p43f14E8tBx1K4RmP799eQu5I0/7fxGtA/XvOzOeDtoqV9ay3Whkdi1G9wjIZMTFORJClbj18bo8ffq0uGcwsBxgtB/lJNXmTVQ+l79fE7Gfp4316tjNqqe5J2njvBr/OaRRl/mKg538RqZcY+ff3fLH382T59+NxNKloQrxmvnyMXIdNAJb2VrpXz5mrlfzKU9HNjguYVvDBRM7Jv08qX7lMEsQXgrKuudgQYTSbHCVlZaZVddvn4+Kj35b018JoBuvXWWxQcHCxJOn78uI4eParjZWW13afLTpzQjz/+qPLycnmbvPSTn4TolltG65oB16jnZb3kY/KRl5dUaXVcLf54zYP6ZbfBslXXuK0JAACtdHiTZsx6XzHP7dXHWRn6eF+6Zvuv0bSFmY3fl+xZqgeetWrSZlf6vVo5NFOTp22S2ZWmxXlalZ40Vdt/sVwf783SO1l79Xn6BB1JmqJUZ+eeVt0vZS/VtDR/Jb25z5nGuZylua4U6FDylTolRdYH0/Xx3gy9s3efPv57lF6bNFfpTbWARSu1tG9zlRoXp9TjD2rlzCjjxDiHEWC8AFgPmaXYcUro6/gAgEzBih9zg/RNkY4YE6PtclfosX+HaeFLyYrv6dzH8lfoiPl6+sEwpT+/yfnERZKsKtq2VDMmxWvkpFlK3VZcV2kxZ2pZ0gplFBcrfel0jR2eqGlLd6rIrbaVtz5Jc5LcfyuU4apdHcvVukXO6RalKedY3XTmzBWa82ymzCZ/BYeGKjhQKvh3Sl2X6ZZ8ulSTU8xKSF2g+GBJ1lytS0rSBsPk1j1rNCdlp4pc67o+X5Y9aZozKV4jJyVp3R73YGu+NhjnYcnWKvdtklkZzxq32TBNa7bbLbk5c0Xddrv2uVuCgn+naM5Tr6vAud8te9KUPC1Rw8dOV/IL2TI7YjrAWVdT4wjy+fg4AoxVVVXyklft+H79+ik0NFQ1NTUqLi7WO++8o//85z/Kz8tXVVW1rFar8vL2afv27crMzFRx8bey1djUrVuorriir7y8vOSaXXW1412PrmW5lg0AQFvkvbJCWTfO1RMjHA+/ZOqjqX+aIG3dpIxGgjYZr6bJfNt0JQ10pQ9W/KMPalD263rbWX9reZ7FKjoWpjvHjVKw8yG5f98xSogqVtEhx9+tuV8q+ixHlivGKN7VCcjUR/G3RMmSk+NW10eHYT0isy1Wibf3kesOL/jmMYqzFavI/eYCbdeKfRs2PV3vrp2gaFcCd9UW5bycpHvi43VPUppyzpH2PCDAeEHwH5Gsd9ZOULjbsKzM3VKvcHVzGwbPFLyfKfNNE3Vnd+MYKXpmhr5+4z7nvrcqIylOwxflK/z2WZp9e7jyFsbp+kXOp57lhUpfv0mp06doo+I1dc4Yhb+3QMOHL1SOM6h15KNN2lAQrNhhsc7fQIV3lnRgjW4dMlEvWYdq6pwpGlqeprExU7XhsGO6k1/u0IYdhap9a9qnSzV59hpt+KgVIWZLpmZMWaHgOS/paVfFzT9K3SyblPxKtltCs15bmqIs/zCFu9Y1ba7unVeoqPGz9NCwk3rprsG6Z73rinxE2es3KdtZsZMs2vLYJCWv36GC2gqmVQU7Nml/sGt7g7XffZq2brdrmGu7ywuV7rY8y65Zunv2Vp0cdIMi/KWifyRqyF1psgyboqT7hsr66lQNuWONCggy4hzgCvJ5ezmigK4gYHl5uUqOHlWPHj1UUnJUP/xwRP/973+1adMmvfvOOyo7flwRfS5X376RqrJW6r1339P6DRv10Ycf6QfzDyopOaZLL/2Zjh07pvITJyS7VO1816NrWQQYAQBtZ1XBl8WKHjiwNqggSRo4VHG2fOU19npwqyQfv/rDTP7qpGzl5jkStDzPPpr6coaShrmNP5yp9Pwwhfdw/Nma+6Xw62IV/sVWpbvW01ao9P/kK/qWm+pNhw7CP1Yp76zSpDC3Ydm7lWEKU3io2zC0XYv7dqDuvKcu+GiUtXCilh0ZqokPT1D4Rws19u41BPnPEQQYL0CWXbM0Y32YkmaOavKkResVFRRKgV1a3pcH0pS6aaCeTl+l2bePUvztM7V29YPqtHapNtQ+BSuWf+JLWjvzNsXfPEFJG1frocA0pW5ye0wWfp3ibx7l/A1VRKCU8UyKLPdv1Jt/maD4m0dpUvJGPR2bqeTnG+myYSvUsrlpCo5yL9Ebs1MzhsdpyPCp2tJzvl683/2djf6Kv2eC9PpOZbmCbYd3aGN2mBJucmvGXjxIs/8zX5NuHqWE+5do85JRykpZoZy6FLUsOxbo8aIoRdcbWqC8fCn8F67tva5eBa5N292SwjW6+4HX1c0VSLVlKnVRoeKXbVTKPaMUf/MELfzPKk06kKLUHY124gHOKLvzXy9X0M9eI7vdrpKSYzp69Af5+vnKarWqtNQiLy+7evT4qQYMuEq/+lWsevXqpd49eyr2hlgNGHCNuoV2V43Nrh9/LNXJk1b5+fvphx9+0NGjJbLb7aqxO5bmWpZr2QAAtJ5ZR4qkkGBDrdnk52hl2Mhz75gRo6Stm7ShtoeKVTlrVihL0kmbPJqnbIVa9buFKrp9vqY20fuy0fulqJl6+ck+eimhvwYMj9OA/gl66erl+ud9LdWp0SFYMjVjRprCH52l+EDjSJySNu7b8Omra++XU1bPUXT+VqUfMKbC2UCA8UJTuEZ3P/C+Yp57SVOb+cYH2p/1kxzl9fBX6Xs7lb7N+SuyKrT2Cawk9VHcdW6PxExRiosNVtZHtQkaka+cj6RQW3HdfLe9r1K/sEa7bBS8MEur+izWn8c4WyM2KUp3zpmrP/9ulIJzN+k141PlIaP0a6XpJWewzbxrq3J+fp8muVfUbhiqGLf3NQZfF6sYS472Gi8Alp16/LFCTf37dEUYRkl9FNHLOEyt325LnjJqx+9URp6xDb1FeZlrNO3uFB0Zs0r/dAVS83OVY7tB8Te67SfTUMXeLKW/595yEzg3eHk5vix97NiPslpPylZdrZKSY5Ls+tnPfqZrrx2iwYMHKjw8TD4mb3l7m9Tj0kt1zTUDde2QaxUeHi4vLy+VlBxTVVW1Tp48qZKSY7JL8iKkCABoJ6XlrX9Q63/zYq0dk6s5Qwbr1mmzdE/cYD1gHqepfeuna/08He9OT9Yc/fPJWDVaG27qfqlwjab94X2Fjp+jp59I1tPzxsn/X7N07z+MlWR0OLZCrZo4VVnD3O4V0D482Lfh3d3ul3v2aeT+EWcLAcYLSeEmTb47RXrUrasrTlnEFVFSUXG99/zVslpkNltklXTEXCxZCpX9XqYya38WRY4fp4G1fdX95W/4QrN/YEvH6ojMhyRzvvt8M5XfeajuvLGPOrmltBau0IwlYfrzX0ap5Zb9YRp68yjFT1usp8eYlTzL0DXYNFSJvwlT+rbdsqpYr72Sq/iJ4+rP19ilpXOnRipyFqX/aa5y7lmsh/oY0kuN7hOHVm63YZ9nf2MMMBYr4/k0ZVmkbleE163fUbOKJPkbPmjT7aIwR3cd4CxzvW3R7mxd6Oq+XFZWJvMRs8rKyvT111/peNlx2WzV8vP3U3DIT1RSUqJPP/1Un376qY4ePargLsEKCOwku+w6fvy4vvxyv46XlemI+YgsFotkt8vb5KguuJZV96ZHAABaK1TdwiWr88NhtcqPy9rkA+VgxaVm6MNXU/XQbfGa8kyG3n0yQke+jFJ0hNo4T4uyFiZq8nvXaW1THy1s8n7JqvSlKbLct1yb501Q3NChirtnvt5cO04Fi5fw0Y+OzFaoDVNbCErDM+zbDocA44XCkqkZdyfpyG/TtbmVTwbQOuHDYhW+Z43WfWocI2UtitOQGTtkkRR+ebSkQZr4l2SlJLv9/pKsO2tb/eUrr8B9Dmbt+2+xwrs397bMCPWJkkJvmtlgvim/j60L+FXnadmsFQpfslgJbSq9gxX35Go9ZEnR3X/IlHt4LvqmMQrftkXpn+7Qli9GKWGEoXvKF4X1W1Dm5yhLYermFoW0bFugxz+ZoJWzGumjUlyoAoUouNGm8q3c7rAxSnIbn3SLsRtLlB56JUMfb3xQlpSJmpPprKBGD1SMClVQr7Wl83iENXc8gDPD29txCXd1Xzb5+EpeXjKZTCr+9luVWo7raMlRffPN1/r+yGFVV1fJZqvRa1tf16K//lWLFi3Sq6++KluN48nBkSNHVFhYqKNHf5CltFTfffud/Pz8JC8v+Zh86y3LtWwAAFrPX4MGRqkgI7v+g/mPc5RlilJ0IwFGc+YKzVmbr+CrYhV/8yjFXRUq/w+zlREWq5ieatM8C16YqHu2RWll+hLFNVYXbvZ+yayib6TgroZH9N1C1Y2PfnRgjhavc45O0JsbmwhKw0Ps246IO4QLgSVb88dOVXr0fD39P8GymM0ym821LetwiqJm6unJVi1LTFRyZqEsVslqKVTG0qmasd5fU2c6W/VdP0EPXZSm5CW5stjk+KL0+uka0H+6trh9+XjLMym1X0K27Fis1OwoTUxsJPhWK0x3ThmlnGcWaMMB5xE9lqvkhEgNX+r2ueUvX9eWSxfridsaq1G1wBSl2avnqNvW2Xp8h1uIMWqCpvx8pzam7FDR+AkN35nxxRolr3d+KdtaqGV/SZNuH1cvXca/c3XnMzMVbbyolFuU9++tyus5UP0bbW7Zyu1uratmau2cUG14bK4yLJJCb1LiTflalrLJ+SVvq8zbFiv1w6GafldzxwM4M1xBvupqR4DQ18dXXpJCQoJVVnZCR3/4QVbrSX355Zfa/+V+1dhq1DkwQIcPHdIXX3yhzz7LV3FxsQICOslmq9Lnn3+h/PzPVFlp1Q8/mFVeXq6QkBB5eXnJx8cRYHQtiwAjAMAT4eOnKD53oe5dmS+rTbKad2rGjDSF3D9FcSZJBzZp2tjp2uB8wBvazaqsRdP12DazrJKsBzZp2ow09X9wQu17u1ucp6SC9VN1d4pVU1PnanC1617ILIur5WGL90thihkRprw1i7Wh0FnvLC/UhqVpKujpCnaiY3G2eN0RrYVLxinE4pZvuIk+Rezbjoo7hAtA0foUrSuUrJkLNfLaGA2p/S1QljExPDJoXro2zwxV+rR4DbgyUv2uide0rX6aujFdST93JjJFafYryzV410QNiIxU78v7a3hKse5cu1gJF7nmFKWH7vLXYzGR6n15pAbMyFXM31draguVluDbFmvzfZVKvbG/el8eqd6DJyo9PFlrH3YLhJlG6eknbvO86Xmf+/TiX6K15aGJWlX7qplQjb5jqLKyC/Xrm4fWTy9JY+5T7K5E9bs8Ur2vjNeqoAf14vzYeh/ECZ+2XLOvchvgVJQ2UbeusGpq8n2GD7/UadV2t0HE/S9p7bD3NXniGhXYgpXwxEY9VL1Uw690HK8hSYX69bpljX4xHDjTfHwcd002myPo5+fXSV5eXgoNvUSXhIbq66+/UVBQFx0+9L2++vqAvj9iVqdOAbosPEw/69FD3br9VD/t1l1+fn76/vsj+uabr3XkyPcKDg5WcVGxunXrpp/+tJu8JPn6Ol5f4FqWa9kAALRJ8G16YuODCnk+Qf0iI9Xv2lnKGbZEm109WUoKtTd3t7I/d0YZomZq89+vU87sGPW7PFL9bkyRZfxGrRzv9vS5pXkqU8uSMmVWoVZNcr8XitHdacVSK++Xoh/eorW3FSs53lnv7B+v5KIxWvvqzCbrqjiPHdik5H8USuWZmj+yfr55/D1jYrQJ+7bD8rK7XqjUQewvPKDIPi1EY4DTyHrMLKt/aBPdeh2sFrMstmCFXuQWajuwRrfGbVVCxhZNDbPKUmKVf2hwy1+ndmezylJikYJDZfyY3uli3TZd/Z6K0BsZ9StXGbMjNVmr9HVqrKwWs6w+ze+TU3K6t7vcIrPVv/7xAs4yu92u4yccTS86BwbI5O2tsrLjOlF+Qjt2vqm1q9eoe/ef6tixH1Vy7Ji6BHdRdFSUaqqrlPV/Waqy1egXvxiizp0D9fnnn8tiKdVPLvqJul50sY4cOaLf/GaSRo+OV+fOndW5cxfZamp0orxCktSlc2DtF6UBAPCE9ZhZ1sDW1t2sspit8u8a3OD92O7aNk9PWWUxn8Z6J4ALQkeMXdGCEWhn/he1HEjzDw5tPlhl8ldwW4OLck13hio7VovMxdlKXbFTg6bUdVNpjH9wy/vklJzu7Q40BIOBc4CXl5d8fRxfQKqqqpIkBQQEys/PT0OGDNE11wzQ/v0FKis7rpMny/X94e/18X8/1neHDiuy7xWKurKfSo6alZe3T2azWZWVlTpx4oS+/PJLRUdH67rrrpWfn68CAhwnr2sZvj4+BBcBAKfM/6K21N2cdeNmgotq8zw9dZrrnQBwniLACJwrTP7qFtatxYrTucKyc65uTJitvQOX6zn3bipO/heFKZygHHBa+fk53o1YWVUtm61GJpNJgQGB6nbJJbrrrrt01VVX6Ycfjqrs+AnZ7Xb5+vrKZqtRQeHXKij8Sna7Y5qamhqVlZ3QD+YfdPXVV+vue+5SaGioAgI6y9vbJJutRpVV1fWWCQAAAAAudJEGAOA8dtJaqcqqKpm8vdU5MMAx7GSFystP6NChw3rzzbe0detWfffdd7LZatS5c5B8fX3k5S1VV1XqxIlyeXt762c/u1S33HKLRo0apR49eigwsLM6dXLM70R5hWw1NfLz9VUnf8f7GAEAAAB4piPGrggwAgBwnjtRUSGbrUa+Pj4K6ORoOWyttKq8/ISsVqtKjpaooKBAH320V5988rGKiovl7e2ly8LDNGDAAA0aNEh9+vTRxRdfLP9O/goM6Cw/P8d8Kk5aVVVdLZPJW50DHAFHAAAAAJ7riLErAowAAJznbDU1Kq846egG7RZkrKmxqaKiQpVVVtXU1KjGVqOqqipVnDwpu91LgYGd5OvrK5O3t7y8vOTn56+AgAB5ezve1eAKLnp5eSkwoJNM3rxZBQAAADhVHTF2RYARAIAOoNpmU8VJq+x2u0ze3urk7y+TyREQrKmpUVVVpapt1aqx2VRjtzs/1OIlk7eXTD4+8vP1l7czgGiz1eik1SpbTY28vLwU0MlfPqbz5AWxAAAAwDmuI8auaIoAAEAH4GMyOVoZmrxlq6nRiYqK2iCht7e3/P07qXNgkLp0CVFI8E8U3CVEwV2C1blzF3XyD5C3t2O6k1aro8t1TY1MJm8FBnQiuAgAAACgWQQYAQDoIEzejvck+vnWfV36RHmFyitOylpZJVtNjdw7LtjtdtlqamStrFJ5xUmdKK+o+1q0r686BwTQLRoAAABAi7hrAACgg+nk76fOgQHy9fGRnN2nrZWVOlFeoeMnymUpOyFL2QkdP1GuE+UVslZWqtpmkyT5+vioc2AAX4sGAAAA0GoEGAEA6IBM3t4K6OSvLp0DFdDJX74+Po6Pubil8XKmc30YxpWWVosAAAAA2oI7CAAAOjAvL6/aAGLnwAB1CeqsYOevS1BndQ4MqA1AOj78AgAAAABtQ4ARAAAAAAAAgMcIMAIAAAAAAADwGAFGAAAAAAAAAB4jwAgAAAAAAADAYwQYAQAAAAAAAHiMACMAAAAAAAAAjxFgBAAAAAAAAOAxAowAAAAAAAAAPEaAEQAAAAAAAIDHCDACAAAAAAAA8BgBRgAAAAAAAAAeI8AIAAAAAAAAwGMEGAEAAAAAAAB4jAAjAAAAAAAAAI8RYAQAAAAAAADgMS+73W43Djyf7S88YBwEAAAAAAAAnDMi+/Q0DjqvdbgAIwAAAAAAAIAzhy7SAAAAAAAAADxGgBEAAAAAAACAx85oF+mSxERVffmlcTAAAAAAAAAADwXNnKnOv/mNcfAZc0YDjD/cequq/vtf42AAAAAAAAAAHuryxz8qaNo04+Azhi7SAAAAAAAAADxGgBEAAAAAAACAx85qF+muGzfKt2/femlaYlxdu90ueXnJq97QhukAAAAAAACAM8HLq36kyi5JdnuD4ca/W6ts6VKd+Mc/av8+212kz2qA8ZI33pDvNdfUS9Mc16ranQfE/e/GNDUcAAAAAAAAOB2aChq6hrtiWu5/t9Xxv/5VZStX1v5NgLEVAUbjKtrt9no/eXlJjaQBAAAAAAAAzrQGQUNn7MrLy6ver36S1gcaCTB6GGB0b63o+n9NTY3jb8eIBtMAAAAAAAAAZ1qDYKHz9X5eXl7y9nZ8EsU9yNhYwLE5BBjbGGA0BhZramokSTabTTU1NaqpqVHxt9+qR/fuBBUBAAAAAABwTvHy8pKXt7e8ncFFb29vmUwmSZK3t3eDQGNrEGBsQ4DRfdVcwUS73S5bTY1s1dXa/c47+ve/t+ijj/bIYrFIkna++ZYi+/R0mwsAAAAAAABw9tTU1KiyslKVlZX63nxMYT/7qUzO4KIr6OjSmiDjuRZgrFv7c5Sr5aIr2GirqVFVVZXeztytF15YrV273q4NLgIAAAAAAADnGm9vb3Xq1ElBQUGSpKqqKtmcvXSNsa/z0TkbYHTtVC+3r0XXOFsuVlqt2rplqz755FPDVAAAAAAAAMC5ydVSsdJqla26uvZVgHa3r0qfj4HGczbA6OL+7kXX/w8cOKCPPtpjTAoAAAAAAACc8yorKxuNeZ2vzukAo2vHuu9wW02NLr7kErpFAwAAAAAA4LxU6ewibQwunq9BxnM6wChX92gvL9kl2Z3dpM/XnQ0AAAAAAADUtlx0xrvcY2Dno3M6wFi7S+322p+9pkY1BBgBAAAAAABwnqpxxrj+f3v3Hh9VeeB//HNmJpkkwHCRIGpSREBZoCKwBUkRk1UgtSp1KWgVaIvSFvGnCNs2ZFWgdYGuC7hblG0RtiJuQbQtat2AtUldN7EqSVUSFRMQEhEyKmbIbSZzzvn9MZdMBgJkRCTh+369ziuZ5zznMme4nPOd5xKbeRGbhXUyZ2XA2F4Lxc7eH11ERERERERERIST5FztlZ+tzsqA8YRiZpUWERERERERERHpbDpzd+jjOasDRgWJIiIiIiIiIiJyruisWdhZHTAS01y0s15gERERERERERGR9nSF7OusDxjjdeaLLSIiIiIiIiIiQhfLuDpdwCgiIiIiIiIiIiJnDwWMIiIiIiIiIiIikjAFjCIiIiIiIiIiIpIwBYwiIiIiIiIiIiKSMAWMIiIiXZht27QEgzQ1+2lobOJofQO++gZGbLuem3bMZ8H/reA/3nqCHQdeoTHYHL+5iIiIiIjISSlgFBER6YJMy6Kp2c/Rhkaamv20BIOYlkVknrr6YCNln77DHw68yOry/+KH//cAX99+C2vffpL6lqa4vYmIiIiIiLRPAaOIiEgX0+wP0NDYREswCIDL6cSdnEy3tFR6dEvD070bpf/4e57M+TfuG3Un3x6Yy8XdL+JIwMe/7d7AVc/eyq/Kt9Js+uN3LSIiIiIicgwFjCIiIl2EaVk0NDURaGkBIDnJRbe0VNJSU3AnJ+F0ODAMA4A+7p58vf9o7hj6bf7typ9QeMMmHh7/z+GgsY4Vb/2KGwvm4W36NO4oIiIiIiIibSlgFBER6QKCpkljUzOmaeF0OOiWmkqK243T4aC5uZkPP/yQiooK3njjDUpKSigpKaG0tJQ9e/bw0UcfEfAH+NbF1/DS9Y/zi6/9mL7u3uzxfcDNf7qX2sZP4g8nIiIiIiISpYBRRESkk4uMt2jbNkmuUKtFp9OB3+9n37597N69mw8//JC6ujoCgQC2bYcmf2lpwefzcfDgQcrLy/nggw8IBlq4efA3+MOUR+if2pe99dXc/NK9askoIiIiIiLtUsAoIiLSyTX7W8PF1BQ3AB9//DEVFRUcOXIE27ZpaGjg4MGD1NTUcODAASoqKti/fz8NDQ1YloVhGNTV1bFnzx4+/fRTMrr15+lJ/0H/1L7sq69hxkv34m1WyCgiIiIiIsdSwCgiItKJNfsD0W7RkXDx8OHD1NTUYBgGtm1z+PBh/vznP7NlyxY2bdrEb37zG5577jl27NhBSUkJH3/8MbYdml/aNE3279/PoUOHoiHjRWnns+9oNQ+8/su4o4uIiIiIiChgFBER6bRMy4pO6JLiDoWLn3zyCYcOHcLhCP0X//HHH/Pqq6/y1ltvUVtby+HDh6mrq+Ozzz7jyJEj7N69m9dff52PP/6YYDAYbc3o9XqjLRkfGvcTAHZ8+DI19YdjzkBEREREREQBo4iISKcVCLTOFh0Zc7G6uhoA27ZpbGykoqKCvXv3YhgGLpeLQYMGMWLECC688EIMwyAQCFBZWcn7779PY2MjAIZhYBgGBw8eJBAIkNV/FCN6X4pl2/zXu8+0OQcREREREREFjOeSRh+VJTsp3uPDb8avlNPB7/NSWbKTwrdr8IWe09uuP+LF6/Xi88evOT38vtD+W5cEPmu/L7Ttkc9xkqYfX+T48evCKrfMZ9rsRyk9znUSkZOzbZuWYBCApKQkAD766CNs28ayLFpaWvjoo494++23CQaD9OvXj29+85t8//vf55ZbbuGGG25gyJAhuN1uGhoa2Lt3L5988gktLS3R7tIAXq8XgHu/+j0AfrvvjzQGm6PrRUREEufHV1NBYUnVce+djxWuX1RBdXs31I1eyouKKK9p/z40qtF3/Pvl8L1s++cUvtdt7xykSwo9a53CnyvpmEYflSWn+HdWzmoKGM8RlRtnMHTEGKYtWsGCGWMYmjWXrVXxtSRhvjLWz81i6BVZTLptPnOm5jByxAgmPViEL3rDUsOmWVmMHZfFA6+03fx0KV4W2n/rMoahQ8dw/YMl+OIrt+eVpaFtZ20m1A7qZPxUvrKTghdKqIzchNVs5tZxWYwdt5TiuNohVRT8Zielr6zhqdfi14nIqQiaoX9cXE4nToeDlpYW6uvrITyOYkNDA5WVlRw+fBiHw8FFF13E2LFjueyyyxgwYACXXnopQ4YMwePx0NLSwuHDh6mtraWxsRHLsrBtG8MwOHr0KC0tLVxz0ZXMHjSVVWN+igtn3NmIiIh0kK+MVTPGMHLSLJYsmsHIkVnM2XKCBxRfCUsmjQjVf2AWk64Yw6Q297g+StfMYOiILG7NX8atk8YwNCufwnZvgmtY/50xjB03i001raX+/dtYcNUIRo7L4tbNMSti+IuWce24LMYuK4lfJV2RGfqzNfKKEz3fSCJCOUUW034a/js7aRnF7f6dlbOdAsZzQdlKbn3Qz10Fu3mzuJDX/raLjRPKyXtgG6F2KfK5mFWsnzWD5S95wTOM3Fumc/MN48l0+6ncOJdr7y8649/EZE6Yzs3h80jHR/nG2czb8kV92l4KV85n3l0rKTzlQwzirt9uZ+OThSzLjl8nIqciGAwFjE5nKOxramoiOTkZl8uF0+mkubmZ6upqWlpaSElJ4YILLiA9PR2n04nT6SQ5OZkePXqQnJyMbdv4fD6OHDlCMNwqMsLhcNDQ0ADAP19xJ1/vNwYzaLWpIyIi0lGla+az1n8vL+7excvFu3jzP69kd/5C1u+PrxlS/NBdbErLC9V/eRfvvngv7sfvYtUb4QpvrOFHv/Qz+5ldvFlcyJu7d7FufBFz5h3/mce7JZ9VDGN4bGHZGq66dg2++Y+waFjsihhmGct/WkS/r2bEr5Euycv2H2Ux7YXhrFt+Q/xK+Twq1jDnQT93FezizZfDf2eHPctt+TvP+POznB4KGM8B/j5X87NNq5l7aWgCAPCQc92V8FoZu+PqSsd5f7+S5W8DA27nmb9uZ93y5az89028/Hwew53g3bKMtRXxW4WZPkqfzOe23Fxuy99Mqa+Crfn55OVvozxS50gFW9cs5LbcHCbNXsiqpytiWkUe3+jvLmdl+Dz+tCKU4BX/9tloi0T//iLWPzifaRNzue2eNWytOMnXRDHnMG3eSja9EanvpfCXK9heA1DD9ofyydty/Ddb+fuV5OXns+TXJfjwUrh5Mzuee5Q/VADeItbm55P3yyK8h3ayat4MJk6bz6oXatr+55LAtRDpqiwrFPK5XKGA0e/3t2l5GAgE+Oyzz3C5XCQlJZGamorP56Ourg6/309TUxPBYBCHw4HD4SAYDNLY2BidHCbSTdrpdNISnkgmcqzIsUVERBLSuJP1m93c9eDtDA43ivdcs5hF4yt44nfHu5esofwtH8O/OSVan0FTmHqZj11vhVoZFv5uM94b5pM/yhNa7/SQ++M7GV3yHH+OTxh9z/HA/XXctXo+g9usyOCuPxay8bZhRJ6c4pWvXsgfrlzKz74ZPo50cX7c16zlzYIl5KTHr5PPw/+RF7KnMzWSUzg95N54NXxQTS0AoWfjrW97KXhwNpMmzmDB01X48VH65EKmTcxh0uyVFBxqu1/58ihgPAe4B4wnd8Kg1v8kTR8Fz/4FpmST1baqdJif4peKAMj64e2Mjr0TGXQ7i24EqKHwleN1r/BR+JNcpt2/jeI9VRRvWca0WYt5Yss2tm4pCf2j6itiQe5U8n75HLt9UPfWc6z9yVSu/UnRKXd59vTuEfolEsRVbWDatXNZvnEn5Q1edj33KHnXj+H6X7fTJSXuHCqLNrBkRqS+n8odOyn3Afgof2EbW18P/XcQq/LXU5m0aANbX2om+5bxePBTuWMbW7dso+QjoLGKgi3b2PrHjSyYOp+1O8qoLtvJ2rtymBNpeXkaroVIVxIJ+RyGARANC10uF4Zh0NTURCAQwOVykZaWhmEY7N69m927d7Nnzx7effddPvzwQyzLioaKke7QEZHw0Qx3x44cSwGjiIh8LlXllJujGP3V2MJ0xkwYRPWequO0XsogKzuD8j/uoDJ6T7uD7e8NY+o14ZaEfsCVHLsRON2kUEJZ9Jt7AB/bf7qQ8h+s4K5BcfVHTWd2tFHGcby9hnm/HsbPfj4ZZU3nigxyb8nGo9FhTjv3Nct5eeNMMmPKiov+Ahdn0g+AWkq2bGPVDxdRNHAmi+4dTeXiWcybewc/LR/N3LyF5LqeZd7UlZTG7EO+PAoYzyU1m5kzMYexY8bwgLmUl1dNbvebOTlVXmrDzQLT04+9zRh8WahvRfl7lfGroGIDS37vBecw8l98n317d/PitbS2XAT8R9yMvmU6c1cVhLq373qEqYD3989SfCot9xqr2Pr0X0K/XzaITLxsWrySchNy/3UX7+4KdS8ZDpQ/tJqC4wxkXfzQIrZ7Q/XfLC7kzb8+wlRPpH4Gc58vJH8YwDDyC99n36q2fZ5rX1rIrSsrIP0GNr64mpwTfdm7p5rBq3aFrsW9oWsXaXn5ua+FSBcTmYbFCId+pmliGAZJSUnRgNEwDCzLokePHqSkpJCUlERTUxO1tbUcOnSIlpYWevXqRVpaGi6XC5/PRyAQwLbtaAtGwzDa/B57bBERkYTUVlPt6UnPuGK30w3VteHWS20Nv/sJHr54M9ePGMPEiWMYOnUzY9Y+wdwBofVZ10yGZ7ex9UhkCz+lGx6lGGiOuVf07VjKA6UzeXhhe32g22FWsXbxo2T+fClTT3Q/KyIJ8b20kAVbMsi/t21OMWLhWlbeNpncm/J4eKGHwups1i2fSe51N7Bo7WJyvSXsamdoBTmzFDCeS/qM5468xfzsx7czpHQx05ap5dcZc5wk1/tWWajL8rV3MHsQgJvBt8xs06rUPWA8s394L1N7V7FpTT55d62mAIAqqo/XKDJs+9whDLxkCANH5JK3wwfuUSy7OxsaX6XkDYAbmHpT+M5o0HRmjQfMnRQcM051BSV/8QEeqotCXZzzVhbh7R2qX3TSCVqeI+9Hz+FlEIueOEm4CMAosid4QtfixhtDY+KEbwgTvRYi55JIC0aXy4XD4cAwjOgM0r169eL8888nIyODiy66iD59+nDeeedx/vnn07t3b1JSUiDcOjHS1ZqYUFFEROS0avBTF192ApUb5rPg1XRm37eKlb9YRf5NbrYuuIP14U447utWsPHGMvLGjuH6eQu5LWcMP/JOZ+6lMTtpLGL5A6/yjV/kMbqDLdKqH1/IWmceK285tlGBiHxOVRu49UevkvWfTzB3UNtVnt6tD5Fupxtc7tbH67Qex3vUli+JAsZzSdogsq6bTO5teTz5uzwytyxj/fGGOJEOyGDwZaHfKqviUy4/pWWhCzx8cNvRXQCaG8O3VLH/KPbp2ba7xRsrGTsyi+vnLGTV70upTu4Xbi5+YtFJXm6Zzty89bz8t6eYPQD4tDY6DqM7elOVTs++rdu2VYv3IwAf1aUlFL8SWqrNDDIzMvC44usfhwlQxabffM7JbhK8FiJdVST2iwSBDocDp9MZHXOxe/fuJCcn43Q66dWrFxdeeCHnnXceffr0oW/fvmRmZnLRRReRkZFBt27dcDgceDweXC4Xtm1HQ8bImI6xx1LkKCIin0u/TDLNZvxxvVB8dT4YlNmmyySExmxc9ZCPuf/5FPm3ZZM1PpvZPy9g47erWL4mMiGEh5xVhbz2u1XcdUMud/xHIf/7r4Op3TOM4eFb8dKH8vnD8Du5Y7gPr9eL13sUP358Xi++4/TkiTq0jbwVfmb/+EZSvN7QtnV+8B/F6/V9vntckXNd1Tbm3LoSfvwED19z0hYpchZTwHgOqPz9MvKejEsS0/uRSQ3e4/U/kA7JumYyAOWPrmBrzACzvpcW8y87AEYx47pjZ5nLvCQ8Z91Lf4l28fX9qYDCmDqFv92A14Scfy3mzZcLeHL1TEbHrG9PdJKX5cvJ/0E2mZEEM2M0YzwAZZS+HS4zSyj5C0AGmRdEdxE2nFFjQ+tufqSQl18OLS8+/xTPv1hI/oT4+vGyWVm4mlxnaKa+n76UeJvZRK+FSFcVGTfRCod+ycmhcaQiQWOvXr34yle+QmpqKvX19bhcLnr06EG3bt1ITk4mLS2N3r1706dPH5qbmwkEAvTv35/k5OQ24aJlWdGZqiPHihxbREQkIcNGMdr5F0ra9Ibxsuv1GoYPP07XZW811aaH9D5ti/tdmB6dEMJb9Ch5GyvwfDWb3Osmk/PVdNyvlVCYkU3WAIAadr3uxV+0jEnjshg7Loux4xZSQBVrZ2Rx6+b4xgIxyksoNqtYPzuyXRbT1lXBCwsZO24pxfH1ReTU+IpYcGs+td8r4JkfxDVdlE5HTwjngEx3LVuXLmZViTf07ZrfS+GDq9mePp0pY+NrS0e5r1vBxpvSwbeTvKvGMHZiDhOzxjBy7nN4geF5K5jdP34r4KqZ3DUA8G3mtjFTmTdvKlcte7VNE++entA3OLuLtlFYVMSm+1ezPWZ9x43ijruHATWs/eFslj+5meUzFrHJB4y/k9nH3M+l841bJgM1rJ8/l1W/38n2NXO5akwWI8ctpLARwI2nJ0AFT9wfP4t0D/oNuIFfrJ4MeNmev5TCBDPG038tRDq3SMgXDLY2/6ivr8fn81FfX4/T6eSiiy7C4XBw8OBBmpqaaGpq4rPPPuPTTz/F5/PR0tLCp59+Sn19PYZh4HaH/gWKdJOOLJHwMnIsBYwiIvK5OLOZ+wMPmxYspMDrB9NP+bo7WFI2mbm3hL6Y97+xhmnT1lDaCAwYT86ACtY/tI3KcEtDf9U2Vv2misxrxpMJpPfzU/zgfH76QuiZx79/G/MWbGbEnTNDw+6Qwdzn32ff3thlPVPD44g//4NjGwREXbM6brv3eTlvGNy0nn17V5MTX19ETs5XwpJpcykYvoSHv+3BF2kdrFbBnZaeEM4B7utW8+LSDLbPyWLoJUMY+HdZzCsZz7rty8lJi68tHech518LeCZvMpkuH96aGqoP+cAzjNlrC9v/JsY5jEXbnyJ/yiAyPT7KawfxsyeWthmDcfS9q7i5P3hfWMmcOXfxRNpM5h4TAnZM5pwneHLOMDzeEtbfv4z1ZV7Sr8njmXXTjzsbnueG1bz488lkHili7aL5LPhlEb6MySx7akX4z08637r3Tga7ofqVbWz9bUm0G3brPlaw7gYPeJ9jwf07Exr784u4FiKdmcsValUYmeE5LS2NgwcPcvDgQT799FNM06RPnz706dOHw4cPc+DAAZxOJ6mpqfTo0YNevXrhcrnYvXs3Pp+PPn364PP5OHLkCMFgEMuyME2TYDBIWlroP4vIsSLHFhERSdTwhU/x8IQyFowbwcAhI7j+Vz2566kV0QlUfB9UUPrWDoo/ABjGot+t51vVK5k0IjTW+NDclVTfsJ7n7w7fEA67l2f+/UpKF4WeeYZeuxLfLU+xTmMmipyVqresZFMVca2Ks9QquBMz7MiASmfAx9dfT8vf/hZ93ff550m64oo2dYgZ4ynSNSvykGOaJk3NzdT5fEy6dkr8ZgDsfPFPDBkUnkpMjuE/4sXvTsejYPEL06Fr7PdR7YPM9PCd1KHNTMtaRqlnJs/8bUm0C3CH9nmqTD++T33gScdzSiPj+vF5ffjdHtLb2cDf6Meddvx1p8sXci1EOiHbtjnaEGrG0S0tFafDwa5duzh8+DBJSUm4XC78fj979uxhz549DBs2jCuvvBKPx4Nt2zQ3N1NdXU1JSQmGYXDJJZfgdrtJTU2lT58+0Vmnzz//fC688EJMy6KhsQmAHt3SNPmLiIicHn4f3kY36b1P8R7S78PrA0+6p53JHfz4vH7cfTwxY46LiJxd3q/aj2GY9PR4SE1Jwel04nQ6cTgc0ckaOcmEi0f/5V+oX7cu+rrHP/8z3efNa1PnTFILxnOMu7eCmS/aKV9jfxF548YwcVwu0/I3sP3JNcyZtYxSIP2mG9uML3jK++wIpxtP+qmGi4S6QqentxsuAl94uMgXdS1EOiHDMEhyhWZaamlpAeCyyy4jEAi0WXr16sWYMWMYNmwY3bp1i84y7XQ6qa+vJzk5mYEDB5KRkUH//v3xeDzRLtCGYdC3b2gWqMgxklyuE97oiIiIdIjbc+rhIuH67YaLhO9ZFS6KiJxpChhFvizubFYWPMLsUX7Kt6xkwf2PUugdRG7eU/zpvlHxtUVEjpGcnARAoCWIaVp0796dCRMm4Pf7sW2bpKQkevXqRWZmJv3796dbt26kpKTgdrtxOp0kJSXRs2dPunfvHp2BOvLNqWEYZGZmkpycjGlaBFqCbY4pIiIiIiISoYBR5MvUfzLLntnFu5EBo/9WwLofjMKjb1xF5BQ4HQ6Sk0KBX7M/NBx23759GTlyJEeOHMHlchEMhoJBwzDadLuwbZvk5GRSUlKor6+noaEB0zSj6zMyMjjvvPPa7Ds5KQmnJngREREREZE4ekoQERHpxFLcyTidDkzLoqk5FAQOGjSIUaNG0b17d9xuN83NzdTU1FBXV0dzczN+v5+GhgaOHj2KbdvR1z6fj0AgwCWXXMIFF1wAQFOzH9OycDodpLhDs0mLiIiIiIjEUsAoIiLSyaW43RiGQUswGA0Zhw4dyqhRoxg0aBB9+/bF4XBw+PBhDh8+jNfrpa6uDtM0o12mU1JSGDx4MF//+tfp168fhMPFlmAQwzBIcbc/2pWIiIiIiJzbFDCKiIh0ck6Hg9SU1pCxobEJ07RISUlh6NChjBw5kiFDhtC7d28CgQDNzc04HA769OnDgAEDGDduHNdeey3Dhg0jJSUF0wzNGB0JF1NT3OoaLSIiIiIi7dLTgoiISBfgcjpJS02JdpduaGqi2R/q3pyamkpGRgaXX345X//615kwYQLZ2dl84xvfIDs7OzrDtGlZNPv9NDQ1RbtFp6Wm4HJqYFgREREREWmfAkYREZEuwulw0C01NTrxS6Al1JqxsakZf6AF07KwbTta37ZtTMvCH2ihsamZhsam1tmik5LolpqqlosiIiIiInJSemoQERHpYlLcyXRLSyXJ5QIgaJr4AwEaGps42tCIr74BX30DRxsaaWhswh8IEDRNAJJcLrqlpWpCFxEREREROWUKGEVERLqgyLiMPbqlkZriJsnlwulwYMTUMcL1klyuNnXValFERERERDpCTxAiIiJdmGEY0QCxW1oqPbp3wxNeenTvRre01GgAaRix8aOIiIiIiMipUcAoIiIiIiIiIiIiCVPAKCIiIiIiIiIiIglTwCgiIiIiIiIiIiIJU8AoIiIiIiIiIiIiCVPAKCIiIiIiIiIiIglTwCgiIiIiIiIiIiIJU8AoIiIiIiIiIiIiCVPAKCIiIiIiIiIiIglTwCgiIiIiIiIiIiIJU8AoIiIiIiIiIiIiCVPAKCIiIiIiIiIiIglTwCgiIiIiIiIiIiIJU8AoIiIiIiIiIiIiCVPAKCIiIiIiIiIiIglTwCgiIiIiIiIiIiIJM2zbtuMLvygfX389LX/7W/R13+efJ+mKK9rUAYickm3bWJaFZVmYpolpmjQ1N1Pn8zHp2inxmwGwb+/78UUd8n7V/vgiERERERERERGRqCGDBsQXdUjl3r309HhITUnB6XTidDpxOBw4HA4MwwCI/jyeo//yL9SvWxd93eOf/5nu8+a1qXMmKWAUERERERERERE5g7pawKgu0iIiIiIiIiIiIpIwBYwiIiIiIiIiIiKSMAWMIiIiIiIiIiIikjAFjCIiIiIiIiIiIpIwBYwiIiIiIiIiIiKSsC91FmlH3744zjuvTZ14sTNKA1i2jWWafPDBB3E1Qy699NL4IhERERERERERkbNGIBDA4XTiiJsx+kQzR8eyPvkE6+OPo6+/7Fmkv9SAUURERERERERERD6fLztgVBdpERERERERERERSZgCRhEREREREREREUnYGe0ibX38MdYnn8QXHyN23EXbtrEsC8uyME0Tv9/P0YYG5t7xw/jNANhR8Mf4IhERERERERERkbPGgZoaenTrhtvtxul04nA4cDgcGIbR4fEYARznnYejb9/44jPmjAaMpyo2YIwNF03TpKm5mTqfj0nXTonfDIB9e9+PLxIRERERERERETlrVO7dS0+Ph9SUFJxO5zEhIx0MGL9s6iItIiIiIiIiIiIiCVPAKCIiIiIiIiIiIglTwCgiIiIiIiIiIiIJU8AoIiIiIiIiIiIiCVPAKCIiIiIiIiIiIglTwCgiIiIiIiIiIiIJU8AoIiIiIiIiIiIiCVPAKCIiIiIiIiIiIglTwCinh+nH5/Xi88evCPEf8eJtb+VpFzoX7zGLD78J4KP06c0UH4rf7jTy+45z/PA5xNf9ovl9X85xRUREREREROScoIBRTg+nn8IHshg5Zxve+HVvLOOqMTPYtN8dv+YLUsID47IYe8wyi001gHcHaxcvY/kLNfEbnjLv2zsprjpBZPfK0uMcP4ux45ZSHF+3PYcqKHil6vMHg68s7dhxRUREREREREQ6QAGjnCYepi5ZTtZr+TzwnK+12Kxg1Y83w3dXs+irsfW/eFPXv8++vbHLduYOANKns3H3bp6fkxG/ySnb/Zv5LH/pmCg1zg1sbHP899m3dzU58dXaU/4Y81YWURtfLiIiIiIiIiJyFlHAKKdP/+msXDyMgvuXUtgYKqp+fDFrG6fzix+PClfyU/3CGhbMzmXS7IWserqKmDiS8i355G2piCkJla0tCoV53qJHyftlEZVvbGbBtBzmPJlIK8QKti5bxtbwYdrd55EKtq6Zz7SJudx2zxoK9vsBL4W/zOexUqj+4wry8h+l8GQ543FVsDU/n61v+yh9Mp/bcnO5LX8zpeGL4S16lLzHy6DmWZbnh9+/t4i1+Y9SuKeMTYtmMHHOZqprdrL8OOdQ/dxK8h4v+/ytH0VERERERERETkIBo5xWmd9dzaKM5/jpQ2VwaBt5K2qY+rM8ctIA/BTen8PEZRVk3rSQRTdlUr46l2sXFUVDxtrXt7H19bZt9mpf30bBnlBU1rxnB1s3LOLW+0oZPnMxMy5PpNt1LSVbtlHyUejVcfdplrEkdyqPecczN28hMy6u4IFr57L1kIfMUdkMT4eeF48ne8IoMrvF7/9UhM5h1Q9nsbZ2PLPunknm68uYdusGqgFP5iiyh6WDZxDjJ2QzOtMDjVUUbNnAgu8tpvSyWeTfPJqUjAzcJWtYuzM2YSzjsfs3UJc+jESujoiIiIiIiIhIRyhgPAOslgaCn7xB8MMXCFT9hsCeNfjfvg9/+VICex+hpWYLwdqXMH27sa1O3ubMOYi7VtxJyuMrmHP/SoqvXcrPpnhC6/ZvZtWT6Sz67/UsumkyuTfdy8bfLSHz98tY37bR4kncyMN/XM3cmyaT+9X0+JVRpY/nk5cfs/yy6NjxIaPi9llTyi5vNnfkzST3uslMvXct/719Cd/o7WbwhMmMzwTP8GxyrxvP4LT4fUXsZMHEHCbGLg+WtKmROf8xNt57A7nXzWTlY3kMr3iWghpwDxpP7tcywDOcnOsmkzWoNSr81qoCHv7BDeROGUY6w5h9xyhKt+9ofW8lz/KHhslMzVa8KCIiIiIiIiJfPAWMX5DAR6/Q+LdVNL8yh8Cfc7H/9k9Q+W84Dz6J01uAq6GUpMZduI68iNP7FI6P1mHvW0bL27Pwv38f/g+fxDz6dvxuO4ev3svD362hsGg4K5fcQDhexP9WKeWXTiF3UEzd/tnkfrWGwlc70NU5I4NMZ3zh5xS/z4zRjEkvYsmM+ax6sojyQzB42CA8HcrshnFz3mLyY5epg9vUyOwfE5AOGMRgADOmwjEyyLiwbUn6NTcy+o0NbAqHtMUvPAu3zCS33eBTREREREREROT0UcB4mjVXv4Rv53SCry3EdfBpXE17SEpy4HAYOBxODIcDh8uJw+nAcDgwHAaG08BwOnAmOUlyu0gy9+Gq/x+CHz5E096lmA3vxB/mrDd6wpVw2dVk9W8tq/XWgMsd1203nX4XAsE2hafF6O8uZ+XymOX/ZdN+e8c4zlEse7mQdf+YSeXv8rn1qhEMzV1JceyAkSeVwfjrJpMbu5ygxWXC+k9n7nU1bN9RAWYRT23xMHvG+Nb17n5kZvRTd2kRERERERER+UIoYDxNAp++y2d/nE7LX39Mqn8fyUkGDqeBYTgwjHC4aDhwRELFaLgYEzQ6Qr87XE4cLhfJbhfJHCB48CGaD/wbVuCT+MN2KpmXj8bzXjmVbVroVVBaApkZoeCtX/8MCAZi1nupPRTz8oxKJ+cHeax7ppg3dz/FbP8Glj/dgZaWZ4ybnOsmU/37HZQWPcv2jBvJjZ2xe0IeL7+cR1ZMkYiIiIiIiIjI6aKA8TTwH3yDhhfnkNRUSUoSobDQcIbCRAMMwwgHiEZ4CyNmcYBhgMMBjshPRyh4dDpCQWNqEi7eJ/DRcqyWg3FH70RGTWd2xnOseqgMnwmYfsrXLWWTeyZzp4Ta1w0ePgxeeIS1FX7Aj/eFNax6LX5HZ0DJMkaOW0zBkfDrRi+1R6BfTB9p36ftj+gY4sfn9eJts/g6NrOzz4v3hF2mQ9xTZjLbV8SqjX9h9B0zGR6zzv/GGqZNW0NpeGZvEREREREREZHTSQHj59RcVURDwQ9w00CSww61QjScoUCRcItFwxEKE207FCbagB0JG2kNG43YsDE2aHTiTHKRlNRM4OBDmE3vx2zbiTiHsei3jzCmaBYjhwxh4JARTHsqg5X/vYTR4fEP3VOW8vCNPtZeP4KBl4xhWslkFt0Yv6MzYPy9rPt2BQvGDGHgJUMYOGYh5Tc8wi9uCrW0zLkzj/THZzDwklzWVsVvHLGTBeOyGNtmWUpxfLX2ZM8nv/9mpg0ZwqR17R4kxDmeqTfVUFwyiKnXtO2G7fuggtK3dlD8QZtiEREREREREZHTwrBt244v/LJFTsm2bSzLwrIsTNPENE2ampup8/mYdO2U+M0A2Lf3zIVv/oNv4nvuDtK6teByWziTXBguVzQUNJwuMJzgbA0McTrDZQY4wuuczvDigiRnuG7kZ+tiY2DbNi0BF0n9foIjOWaAw07G7/Piw0N6x2ZNOfNMP75PfeBJ7+AEL2de+Zocrq9azLtrJ2u8RREREREREZGzWOXevfT0eEhNScHpdOJ0hnrChhqqhRqlRX52BmrBmCDLX0/d//wEt8vC6TRwOsNjKBIed9ERbrVoxLZWDLdixA63YowsdtsFI9yS8XitGV0kpVgEj2yIO6POxe1JP/vDRQCnG0/6WR4uNvrw7tnG2sd9zL5N4aKIiIiIiIiInFkKGBP02R8fILnlSKhxYmScRUK9nOk5AvvCqZA5HXqNCbVGxNHaNTo2WLQILSZg2thWH/BMg/PmQ6/vQ9pEcCRFWzUarlDLSJfTS8uR38aflpyDyjfM4NrvbIA7H2NRzOTRIiIiIiIiIiJngrpIJ6CpspiG5xeSnGqRlGqR5Lawk8DqM4bksT/DSLug7QbBeti3AQ4VhLtIh8dbdDjCPw1aAmBfOIPkr3w7nFLGsI7A0d8AH4W6VlsWdtDCCrZg9PoJjuSMtvVFREREREREROSspS7SQtNr/43LYeAwInmfQaBvDu6rf3VsuAjg6g5D7oEBs8GyQ60VLRtMC0yb5qNBzIw7SR4w49hwEcDRG3r+P3AMAjMUvkZmp7Ya/hRfW0RERERERERE5Iw5TpolJxI49D7Wh2UYRihgtG1ocqTTbcIv2oSDn378MS88/Tv+/Mf/oaG+PlT4le9Ar7Fgh4JFgjYtTUGCfb5BSuY/AOD77DNeeu55Xtz+HEfr6qL7Axf0mAMBNwSCYFoYgKP5dazgkZh6IiIiIiIiIiIiZ44Cxg5qfOMPoWAPMHDQErQxLvkWOFzROu+8+Ta33/BtHl3+b6x+4OfMnTod76HDoZUXXBcdbxEL/A0B3AOvB6B63z5+eNN01j74C9at+FfmTbuFmg8+iO4XkiB5FLS0QEsQwwpNCmMd/b+YOiIiIiIiIiIiImeOAsYOCu5/EwehiVocBvgD4Oz71TZ1nlj3GE0NzQRNCzNoceTjIzyz6b9DK3tc2tpFOmhhWt1I6nERAFvW/xf1RxsxTYtg0MJX5+OpDY+32Teur4DfbBMyGoH32tYRERERERERERE5QxQwdoDZ8BnmpwfANnAYBrZph4ZEdKW1qfdx7cfRcDFoWgRNG++h2tDKpG6ts0ZbYDhSott5az+O2Sa0fW1ku6hUCLZA0AKzBYImhr8qro6IiIiIiIiIiMiZoYCxA/x7XsewDQwgNI+PAyybwJGaNvXGTZzQGhQGbUzTYnzORADs+o9CAzdaoVaMDv/HYJmh7a6aEN4mEk7aXJl9dZt9E6iFFhOCQWgxMawgtDRjN3/xs2efkOnH5/XhD72VVn4f3uOVN4bL44qP0d5+zzF+nxev76RX69Q1+vAeOY37Ow6/z4uvMb60Y077+/48/G2v2Vl1biIiIiIiIiJfIgWMHWB+XA02YBtgGzgNBy6HQcP7L7WpN/NH3+emWbfQo2cv+l90Id/7fz/i2hu+AYB98H/D4WJoSXY6aNr3CgDTvnsrN9/+Xfqk96Vnn/O45fbv8q3bZrTZN5+8Gg0XCVoQDIWNdvPBtvXONGcFqyaN4adxk1pXbpzB2HFj+GlR2/LyR6Yy9oG/tC08nprN3DpuFpvaZrhnMT+Vr+yk/FB8eQc0VlH8QgXemKLiZVmMXVYSU/L5VG+exdhZm6mOX3EaFS/L4tbNn++DO93v+3N5ZWmba3ZWnZuIiIiIiIjIl0gBYweY9XXRcBHbwLAh2enCPvS/NH5YEa3nTknh7vv+iWf/+id++9J2Zt95OwB2oB6j5vlQuBhuxZic5MB+77dgBQG4fcGdbPnzH3nqLy/w/XvmRfcJQN078Omb0GKBGQyHixaYFgRjZ5z+Mowi+xoofLUspszLrleqyMzIoLS09fpADcV/qWH4qFG4Y0q7Bi+FK+ezvjy+vAO8RSy/6zF2x5eLiIiIiIiIiJyFFDB2gNV4NBQuYoAFtmXgdjrokWxQ+8I/0eKLbXPWlh3001Lycwz/Z6FWkJFWjKZBWrCa5v9dRWjF8dkNH8E7q8E0w0s4ZIz8HvTFb3LGZWVPxvdSEdFsrfFVikqGMWvmKKr/UtLaWs5bQlFFBjnjM0Kv/TUUrFnIbbm53HbPGgr2n7jbqe+NzSyfN4OJ0+az/NdFVMdVb7u+BG9M92pv0aPk/bKIyrLNLJiWw6TZayg8AhzayfLZuUycOIMFT5bR9mr6qX5hDQtm5zJp9kJWvVDTTtfuCrbmr2B7DZQ+nk9e/rbWa3GkjE0PzmfaxBnMe3ADxe21cKzYRt5Dz1JNGY/l55O3JTaYDeB7YzN5s3OZNDufTWVxn3kHr2O8NtftyTJ8bbql+6ku2hBanzubBWt2xl332Gt0nHM7pk7cdfQWsTb/UQr3lLFp0QwmzoltXRn3vt84dt8n+swBfBXbWHXPbCZNnMG8BzdTeqR1XfmWfPK2lFH9wkpuy81heahBMf79O0Pb5M4m75g/EyIiIiIiIiISoYCxA6zGemzLwDYNbMsAy8CBQVqSk16OWg5tncFnf/sDVqApZiMT/wfF+F+6m+Smt1ozRDvcitG2wIaUI/9LYMdPCX74Zpug0fbXY1b+EeOvi6DpUwiGZp8OtVy0W4PGwJfdghHco0YzvKaI4kiv2JJCCjKyybppPFkVf6E4kr++VUKxJ5ucrwKNReRNzOGBikxm3L2QGRdX8MC1OSx/I2bHMaofn8HY72zGN+EO8m8fj/93dzFxxgYqw4HSsevnMvYfW9c379nB1g35zHvUS87ti5nh2cac781lzve24b5pIfk/HEz50hkseDpysn4K83OY+GAFmTctZNFNmZQvy+GqB2NbakakM2LCeAZ7IH1YNtkThtMPYP9mpmXN4InG8czNu4Px/m3MuWoq6483N0+f4WR/bRA9SWf4hGyyh6e3rntlKbf+ysv4WxYyK6OUJdNmsX5/eF0Hr2O86o1TGTlrM/7wdfP9ZgZj526LdtOu/PUMJs7dFrqud08n8+2lTJwTt37RDnpOWciiW4ZRsfgOVrWZ3Pwk17GxioItG1jwvcWUXjaL/JtHE53+6L1H+P59VQy7ZSF3TWjmie+M4bYtrWH+yT5z30sLufb6NZRfPJ1FeXcwvnEz03KXURpeX/v6NraunM+cJ2HK3QvJzgSqNjDt2oUUeCaz6O6ZDCtfzPf/43gfmIiIiIiIiIgYtm2332zuSxI5Jdu2sSwLy7IwTRPTNGlqbqbO52PStVPiNwNg394vbrKT2v/8CXb1LpJTbJJSTJJTbJwpJg63hemyacHEb5n4m1w4un0FZ3IqruYPSfMYuJJdYEW6VwN2aIKY6GtCYztaAZugmQQ9MzGsRlzWxxjJNjgNcEUWR2hxhueZAeh9FY6Bd7c94TOuglUTp1L5492su8FN+UM53Nq4mjeXpLP++hzK/9/7PDwFSpeNYZpvFftWZVP966lMLLuDN9fdgCe8l/KHcrj+b3fy2pPTSd+/getznmVq4XbmZhSxYOgiWFvIw1PCtc0y1t9fypgf385oz/HWl7BkzGxql+9m3XXu0PE2j+eZwjxGOwFzJwuGzId1oXOLHv/QEvatyob9G7j+2lLm7nqEqZETfHsNE6eWMf+vm7g5Jv8LqQm913vf5+FrQiWFi4awIPgI//vvk6Pvsfj+Mdx2ZAXvrp18bDfx/Ru4PqecRXtXkxMuKlw0hDnVS3jtqZmEDhk6zvYbC3n+Bxknv47RnYdU/3oqE5+9kZefv51Ms4gFQ5eR+btCFn01XMH3HPPGLKXfb3ex7O/Bf6iC8oZBjB4UPtuqR5k06VXu+Osmbu62k3kjF+P+z2Ievia83vcc88YspPrHofM76XVs3MD1OY8y5sldLBsfXh953y/N5MldS8hyRnY9n5H39+OZvy1htHnyz9zvq2LXfg9ZXw1fBXMnC4YspudTofd27LX1U3DXCH7qXs9rq7LDn4+P7fPGsKA6L3TNIufG+tCfExEREREREZEOqNy7l54eD6kpKTidTpxOJw6HA4fDgWGEphaO/OwM1IKxA5xpPbGt0KTPtuXAtgDLwA4aOIHUZIOe3V2kn+/gPM9H9E7bj+c8cCUZodaKkSTRNkK/2zF/UCwjNKu000Fykkly0z6SgrUYhhWdcbrtYoUWM7w401r39aUZRs41HgqKSqLjLGaNHgZkkHV1Rnh8xiqKS3zkZo8H/JSWVZCZXEfxCzspCC/VZjq8VnbsGIQVZZSaV5N7bSShApyjmLv8dkb3bm/9eLKvg4JXYibj8KSTHg6rcCaHfrpiVvds3d7/VinlF7ipe6X1/Aqq/aRTQtkpjbNYQenrkHNda7gIkHXNFNhRRHFM2UllZsQEhRkMvizyewevY7yKMkrNdPzVMe/xlTrcF/jY9VaoOaq7/zCGp3spL9rJ9l+vJO9fnqWSutAs0VXllJtXk5sdE5V6riR7bOvLU7uOGWRc2LpN1NXjo+EigOfKbLJ8pezaf2qfudsziKxBbipLdlLw5BryFj5GMT7qYhv9trm2VZS/BTmTI+EigIesq2OSTxERERERERGJUsDYAY5UT6h7tEl4McB0hMLB8E/DNnAYFg7D5uOjDj5rjASLMYthh8ZxNMKvbVp/WvCxz+ZIfTiUjF2s0MQwWGY0XLQtK7TO2SP+dL8UoydcDa+XUe4toahiPNlXhiKa4aNHhcZn9JZSsidS7qX2INR9UELRK0Wti28wN08fFepeHOsTL9WAOyZsaqOd9f16Z9DOoIknVeutAV8VJbHn94qPIbdMZ9QxJ3g8tXg/ahtgAnBeOplmc1xhojp4HeN94qUaL+Vt3mMFKROmk3uJOxRgPpTLyDFT+enWIkoaMsiePJrBbbaPv+7p9Ozb+upzXUdXOASO6JbSGtYe99htP/Pqp+cydmQWc9YVULTPw/ibshnRtnqc439m6b1j3hDg7p1BZu9j2p+KiIiIiIiInHMUMHaAo5sHyzKwbQPLNDBNAytogGmACXbQgGBobMZ3D7i4a1135v86hYJdZsy4ipFQMbZnerglowFb32jmzi0WP/wN7P84XB4JIAmP2WiFx16MhIzBIDh7xuzvSzQ+h9yaIoqfK6F42NVkRZqFjc8ht6aMXTtjyzMYPBy4fCYrly9vXX6+nJXLpzO87Z5h+CiyqKIyMu4gAD68Nb5QlnTc9V52/62GzIyTpVjHl3nJcGA0s34ec37hc7x5WHzt4xnOqLFQWRUZmDLEW15G9YDMk4d/p6SD1zHe4EEMJ50pdx/7Hu/KTgdK2LTOz+yndvH8uuWsvHcmuV8LT9AT3T7+uldQHjNM5ee6ju9VxUz4AlSUUkwG/dJP5TOvoeA3RYxYUczLm1az8r7bmXrV4DatSY81mEHDjv3Myt9qO+5m1n2FvHyfWjWKiIiIiIiIKGDsAGe/AaF8LxgKGK2gI9yi0YHd4oBguNu0CTW1LqwWB0G/k42FqSzdEmTPwWDM3sIBowEYNn/b30LetmZ+V5aEEXRgtxgcjsx0a1jhTcIBYyRotC3sSGvG1Mzonr9UaVeSPb6CJ35TRubV44meVdqVZI8v4bFftS3P+c6d9NyyklWRmYH9NWy9awxD5z137Ky96VOYMaWCtSu3hWcw9uN9YSnfzLmLPxxqb/0KVr02nvnfOVmK1Y6rZnJX780sXx2ZVdlP9Zb5jBwxn+0xMxHH8x2JnH0637hlMuWPrmBreFZnv3cn/7KmhKwfzjxB+HeU2mMuQPs6dB3jZUxn7pQy1j4YuW7ge2Ml1w/JYVUFQE96emqorgrvyfRR8OhmKqPb38is8W2ve+W6paz/KFIh8esIwHsbWL4lPOO0v4q1P98MN00nN+1UPnM3np5QWVkVbtDop/LXj7A97hBtZfCt74xv+5nteZQHNsYGjn5KH5rBtIfKEm0cKyIiIiIiItJlKGDsgNThX8OMhotgBSEY6SodHo+RcIvGa0c2MOzCIJbfAS0u3qnuzn2/dfPdtUHu+62fX7/UzCM7msnf2sxtj/pZ/kcn+7yp2AEnlt/BuEsMxl5mRRs3Ytuh36MzT9vR7tG27cLRs/2o6sxKJ+vqYVTX+MjJiQ312in/6r08s3Y0BbPGMPCSIQz8uxyWH5zOxl+0TlbSysPUXzzFXcE1TPy7IQy8ZARjF1XwrU1rubl/O+vzq2LWJ8A5jEW/fYQxL81i5JDQPieurOHmjSuY2ju+MkAGN987nd2LxzDwkoUUmOC5YQXP3Blg1bUjGHjJEIZmLabyhk2suyV+6pWwAdNZdEs5eVcMYeA9O+PXHl+HrmO80HWb649ctyGMnLWDzOWPsWgYwCgWrZrOrsXhfQ/N5aneV8aEo+ncvG4TN+9bFr3ut1bfybIbYw7R4esY48bbyX5pBkMvGcLAv8tlffc7+a8lkfERT/aZp3Pzz/JIfzy8/SVjmFc/mtz4Y8RJv2UtT367iiU54c/sezXc9fMbYmr4eP+dMkpfKmkNWkVERERERETOUZpFuoMOrrgT21tJktsmyW3jclskp1i43BaGy8JIsSDJxkiyIMlgQ0FP/mdXCobTxnDa4ATDEXPJbbBtIzyeI1hBB9OzLG7JDoLDCEXARjhcdAEOO1xuYGFhGzZ2n9G4Ll8ee5qdkB+f1wfd0vGcynw1jT68fjfp7Y2Bd7L1CfD7vPhMT+L7NP34PvXj7uM5ZszA06eD1zFeow9vA3jSPcfObm368X3qA086nmNWhvh9XvyuEx870et40n2f8DNP8Lr4fXgb29uniIiIiIiISGK62izSChg76NPfrae+6GmS3aFQMckNSSkWSUk2TreJkWxDsgXJFkaSAS6bA7UpvFSWStn7SXx4xIERCQyJ9HY2GJBu8/eDLf5htEX/PuH1kTqOcLBo2OA0wGGHgkUjHDJe8iOSBvxjzFmKiIiIiIiIiMjZSgHjGXA2B4zmkY858MCtJLkgOdyC0ZVkk5xikZRih1oxukMBI0lguCItD52Ag0OfJPNxXej30DCMBv3Ps+nrCc8iHf2zE55l2gEYBjjC3aUNwuFiaLFc3XB+fSsOV0qb8xQRERERERERkbNTVwsYNQZjBzl79yX18omYtoEZNDBbQj+DQQct/vCELwEHBBzQYkCQ0GKFJmXp36eFEQMDjBjoZ8SgFkZc0kLfnmZoIhcjPIGLEdNiERsMM2bcRRvbtrAtC8s0sS/4hsJFERERERERERH50ihgTECfSTMwSaLFdoYmfQkamIFw0Og3sIOhhSDhn+Gg0bTBDoammcYmPDNMOFgM/3RYrYEi4dd2aBZp27awMbEtE8syCQaDuAZ8J/70REREREREREREzhgFjAlIvvhSul/+D5iWG7+VRItpEAyElpYWg6DfgRVwYPud0GJgBwzslnDAaNmhgNEOgm2Gw0QzHDCGQ0fDDAeNVqjlIza2HcS2TWw7iBkMhYvOwXfgcPeMPz0REREREREREZEzRgFjgvrNWYiz58XYdCdopRGwXbS0ODEjIWPAwAoYWH4DOxDqJm23EG7NaIdCxUjISLiLdOR3Wn+3I4tttQkXrR4jSb70u/GnJSIiIiIiIiIickYpYPwcLpj7T+DsT9DqiWX2oMVKJRBMpiXgJBAwCPgNgs3h1ozNoaDRbrFCIWOLEWqdaJnhJdx12g4tth3Etkxs08SygpimSUsgSEuzRZB+pI5fEX86IiIiIiIiIiIiZ5wCxs8h6aIMLpi3EFxfIRhMJxjsQ9DqRUuwO4FAKv6WZAItLlr8DlqaHVj+8NIMVouN3RJq1WibFrZpYpst2FYQKxgKFk0zSDBo09JsEWi0CTS4sBwD6D5lPY5kT/zpiIiIiIiIiIiInHEKGD8n98UXk/mTf8KROhCz5UICgfMJtvTDbEkn6O9F0O+huak7AX8azY1uAo1JBJqctDS5aGl0EfQbmH4nZrODYHMoiAwGDPzNEGhyhpaGZAL13XB0H0W3GzfiSE2PPw0REREREREREZEvhWHbth1f+GWLnJJt21iWhWVZmKaJaZo0NTdT5/Mx6dop8ZsBsG/v+/FFZ8xnT/wB35v7wGjE6azHcDbhdDbhcAVwOPwYrhYcDhOHqwXDYWEkWeAMTeKCEzAAHNiAjRMz6ADThe30kDb6OlLG3hx/SBERERERERER6WQq9+6lp8dDakoKTqcTp9OJw+HA4XBgGAZA9GdnoIDxNDPr6qn7zQvUf3AUw9WE09mI4WjC4WwGhx+nK4jDCIIjtBgOwjNGg20YGBjYloFlubCNZFL/bjhpk2bjcKfFH0pERERERERERDohBYxnQGcOGCPMjz+jsXAXzRW1+I/aOAhiOJvBaMbhDIeLkRmjHeFWjDjACUnp3XD/3aWkfG0ijm494nctIiIiIiIiIiKdmALGM6ArBIzxml5+HetoE1ZjE4Y/iB1owTZMjNRkXN3cGN3cGN274R779/GbioiIiIiIiIhIF6KA8QzoigGjiIiIiIiIiIgIXTBg1CzSIiIiIiIiIiIikjAFjCIiIiIiIiIiIpIwBYwiIiIiIiIiIiKSMAWMIiIiIiIiIiIikjAFjCIiIiIiIiIiIpIwBYwiIiIiIiIiIiKSMAWMIiIiIiIiIiIikjAFjCIiIiIiIiIiIpIwBYwiIiIiIiIiIiKSMAWMIiIiIiIiIiIikjAFjCIiIiIiIiIiIpIwBYwiIiIiIiIiIiKSsE4XMBqGEV8kIiIiIiIiIiLSqXSljOusDxgNw4guIiIiIiIiIiIiXUlXyL7O6oCxM19YERERERERERGRjuisWdhZHTAejwHU1tbi8XjiV4mIiIiIiIiIiJzVTNPE4XDQOaPE4zsrA8b20tpIc9ELzj+f0aNHxa8WERERERERERE5q9XV1WHY9gm7RbdXfrY6KwPGCDvyi2FEF8PhwOVy8Q//kMPll3+17QYiIiIiIiIiIiJnKcuyqPV+jMvlwnA42mRexGZhncxZHTASTnOxbYxw92iHw0Gy283YcWO56aapXH31RHWXFhERERERERGRs1YoWPRS8c47GA6DZLc72k3aoG0G1hkZtn12nnnktGzbxrKs6BIMBgkEAvj9fuqOHqWpoZFmvx/TNKPbiIiIiIiIiIiInA0Mw8DpdJLidpPaLY2ePXrgdrtJTk7G5XLhcDiiS6RrdGfrIn3WB4yEU17btjFNE9M0CQaDmKZJIBCg2e8n2NKCadsKGEVERERERERE5KxiGAZOw8CVlERKOFh0Op24XC6cTidOpxPDMHA4WjsaK2A8jeyY0DAaMlpWKGgMBrEsC9OysMNlGIZCRhEREREREREROStEuj07nU4MhwNnuKWiMxIuhlstRsLFE038cjY76wPGiEgXadu2sWwbK9wl2gp3oSYSRsZ9CGfx2xMRERERERERkS7kmHAwMrZiOER0hANEh9PZ+ns4dIw4Zh+dwFkdMBI3FqMdCRNjWjRalhWaYUddpEVERERERERE5CwTCRgjkxfHtliMvI6Eip0xXKQzBIzEdZWO/T0SMkYCxvhtREREREREREREzrRjgsJwwNhed+jO2jU6otMEjPGvYxeOM413/DYiIiIiIiIiIiJnwjFhYTi7igSJxwsU4193Jp0iYIyIbcVoxEzo0t5baK9cRERERERERETki9BeUBjbWjGSbcWWd2adKmDkOKFhpAVj/EcRX09ERERERERERORMiA8NI8P7xZfHv+6sOl3AGNFJT1tERERERERERM5xXSVYjOi0AeOJdMG3JCIiIiIiIiIinUhXCxFPpEsGjCIiIiIiIiIiInJmdLmA8f2q/fFFIiIiIiIiIiIiZ40hgwbEF3VqXTJg7GofkoiIiIiIiIiIdA1dMbtyxBeIiIiIiIiIiIiInCoFjCIiIiIiIiIiIpIwBYwiIiIiIiIiIiKSMAWMIiIiIiIiIiIikjAFjCIiIiIiIiIiIpIwBYwiIiIiIiIiIiKSMAWMIiIiIiIiIiIikjAFjCIiIiIiIiIiIpIwBYwiIiIiIiIiIiKSMAWMIiIiIiIiIiIikjAFjCIiIiIiIiIiIpIwBYwiIiIiIiIiIiKSMAWMIiIiIiIiIiIikjAFjCIiIiIiIiIiIpIwBYwiIiIiIiIiIiKSMMO2bTu+sDN7v2o/QwYNiC8WERE5J9m2TdA0CQZNLMvCsixsIOt/bmaIZwADumdwSY8MLus1kKsu/HvSXCnxuxARERERkdOoK2ZXChhFRES6INOyCARaaAkG41cBcPlzN8QX0TvZw+2XTud7Q/+R7kmp8atFREREROQ06IrZlQJGERGRLqbZHyDQ0hJ97XI6cTqduFxOHIaBYRh86q/jnSNVvPPZXt79bC9veN/mg/oPAeid3JMfDb2F7w79FilOd8yeRURERETk8+qK2ZUCRhERkS7CtCya/X5M0wIgOclFUlISTsfJh1y2sdn+wZ95+O3fRIPGSz0X8+Q//BvpqX3iq4uIiIiISIK6YnalgFFERKQLCJomTc1+bNvG6XCQ4nbjdIaCRdM0aWpqIhAIEAwGMU0TINyq0UVycjKpqak4nU5M2+Lpqh089NZjfOw/wiXdM9lyzWr6pZ0Xd0QREREREUlEV8yuTt6kQURERM5qpmVFw8Ukl4tuaak4nQ6CwSCfffYZtbW1HD16FL/fHw0XCQePfr+fo0ePUltby2effYZtWtw8+Bv8Ycoj9E/ty976am5+6V68TZ+2OaaIiIiIiEiEAkYREZFOrtnfGi6mpoTGTGxsbMTr9dLU1BRfvV1NTU14vV4aGxvJ6Nafpyf9B/1T+7KvvoYZL92Lt1kho4iIiIiIHEsBo4iISCfW7A9gmhZOhyMaLtbX11NXVxdfFdu2MU2TQCAQ7S5tWaHxGmPV1dVRX18fDRkvSjuffUereeD1X8ZXFRERERERUcAoIiLSWZmWFZ0tOsXd2nLx6NGjcTVD4aLP56OiooL9+/fz3nvv8de//pUPPviAYDAYX52jR49GWzI+NO4nAOz48GVq6g/HVxURERERkXOcAkYREZFOKhAIhYvJSa7omIvttVw8dOgQqampXHnllVx66aWcd955DB48mIaGBsrKytqMzRhRV1dHMBgkq/8oRvS+FMu2+a93n4mvJiIiIiIi5zgFjOeiRh9erw//sc+SctbyUfr0ZooPxZefi/z4vF58/vjyVr6ybWx6xRtfLNKl2LZNS7jlYVJSEoS7Rh/P4cOH2bt3L5988gkHDhxg586dlJaW0tjYSEpKSrS14vFE9nnvV78HwG/3/ZHGYHNcLRERkVPnP1JFcVEF1Se6oYvh99VQXlREeY2P42/hx1dTQeGJ9tnoo7JkJ8V7TuE56ATPS6FzKaHySDvHka7F9OPbU0Lh2zUnfP6Qz8fv84b+zsWXH/Hijf5dO/lzoHy5FDCec2pY/50xjB03i0018evkrOXdwdrFy1j+gj40KOGBcVk88Ep8eYSX//llPkseepbq+FUiXUgw3OLQ5XTidDgwTbPNhC6R8Rb37dtHeno6EyZM4O2336ampoYBAwYwaNAgMjMzowHjO++8E7P3Vk1NTZimyTUXXcnsQVNZNeanuHDGVxMRETk508v2e7IYOnYGCx6YxaQrxjDpwRJ88fWifBQvy2XoFbnc+sAybp00hpG5KymO3cBXwpJJIxg5aRZL2tln5cYZDB0xhmmLVrBgxhiGZs1la1VMhTbae17yUZifxdAxU/n+A4uYNnYEY+dso/I4IaR0EVUbmDZiBGO/k8+S7+UyckQuS0ra/9MqCTB9lK6Zwcgrshg7binFkXJ/DVvvyWLomCzGztocfq472XOgfNkUMJ5jvFvyWcUwhsevkLNb+nQ27t7N83My4tfIMdK5ef1u3v3d7WTGrxLpQoLB0BON0xkK+2LDRcuyOHjwIAcOHMA0TQ4dOkR1dTWBQIC+ffty6aWXcvnll9O9e3cuuOACLrzwQvbu3ctnn32GbdvR/URE9v3PV9zJ1/uNwQweOzGMiIjIyXi3LWLBq1eycdcuXnt5F+++eC/ux+/igZfaaZJUsoZ5m93kv7ibN18u5M3dBSxyb2DemrJoleKH7mJTWh4v7t7FyzH7XPVGuELZSm590M9dBbt5s7iQ1/62i40Tysl7YBvH6+/S3vOS/4XFzHnhSta9tovXXi7mzd0FzK7NZ85/VMTVlK6hglV3rMR/ZwFv7irk5V27efPfh/GH2YspOH6nD+kwL9t/lMW0F4azbvkNMeVlrMrJYdXRO1l377CYcjnbKWA8l/ie44H767hr9XwGx6+ThHmLHiXvl0VUlm1mwbQcJs1eQ+ER4NBOls/OZeLEGSx4sqztN7NHKti6ZiG35eYwbd5KNr3Ruja6vzdC+5vzZA1QwdZly9gavn8p35JP3pYKfG9sJm92LpNm57OprO23ab6Kbay6ZzaTJs5g3oObKT3SZvUxfBXbWDVvBhNzZ7NgzU6q29zn+al+YQ0LZucyafZCVr1QE9N8vYKt+flsfdtLwYOh4y14ugo/PkqfXMi0iTlMmr2Sgpju3ZHzj1W+JZ+1Ra23eSc+HyDoo/TJfG7LzeW2/M2Uxrz98m3LWLIttP/I9azevzO0v2nzWbUj7nbyBJ+HyNkqMvuzyxUKGAOBQLS8traWXr16MWTIECzLwuVykZycTGpqKo2NjTQ1NWHbNrZt09jYSLdu3bjgggvYu3dvm2NERPYdOdbxZp4WERE5sQo2/aqE3PtWkOMJFw26nZ/NhO2//8sxXSMBqt8pxXfZjeQOChc4B5H7zWH4SkvDLZpqKH/Lx/BvTmFwpHH9oClMvczHrrdCzQ/9fa7mZ5tWM/fS0GRo4CHnuivhtTJ2h0uiTvC8VH3oKJnfnk5u73CBexBTbxxGdU1tXE3pEvy1eM1sZtw0iOifnOtuJMesofp4ybQkwI/7mrW8WbCEnPS2azLmF/C/G2cyPHLxY53gOVC+XAoYzxk+tv90IeU/WMFdg5LjV8rn0LxnB1s35DPvUS85ty9mhmcbc743lznf24b7poXk/3Aw5UtnsODp8P9EviIW5E5l1duZzLh7MXMn+HjiO7ksCX/LGtrfIm69r5ThMxcz43I3UEvJlm2UfBSqU/v6NrauuYNbf+Vl/C0LmZVRypJps1i/P3yIlxZy7fVrKL94Oovy7mB842am5S6jtL0uHG8s49qpG/BOuIP8u6eT+fZSJs6JfKvrpzA/h4kPVpB500IW3ZRJ+bIcrnow8s1x6NxW/XARRQNnsuje0VQunsW8uXfw0/LRzM1bSK7rWeZNXUlpZIvXt7H19bY3Y7Wvb6NgT/jW8oTnE1K8bBZra8cz6+6ZZL6+jGm3boh2iY7df+Tzue3uEtJvuINFEwJsnZfLgsg35Sf5PETOVpGQz2EYANGZoG3bpra2lrfeeovly5fz2muvUVxczJYtW9izZw/79u3jvffe49133+Xdd9/F7/eTlpbGp59+yocffnjcFoyRfUeOpYBRREQ6rLGKyv3DGH1528Rg9JVXw1vlVLYpDcm8MpvM956lINKd2ayi4I8VDP/mlHBPlQyysjMo/+OO1q7KVTvY/t4wpl4T6vnjHjCe3AmtIRGmj4Jn/wJTssmKlMFJn5cGz9nEy/eNjynxUvinCjIz+sWUSZfhzmbly+uZHduBrOQvFDozyIwLwyRRGeTeko3nmJF3RnHzbTF/Z+Oc6DlQvmR2F7On8oP4IrFtu67gXvvysUvtXUHbtu1C+56BN9q/1qU6LQ786kb74qtWhK+tbdvBHfY9Awfb9xS01tn9r9n2xQsLQy+a6+z3i8vt2tbV9v/cPdi+fGmpbUf2N3Kp/X+R/dl2+DMbbN/zp9CrPy8cbF88/YmYfVTbv/7mYPubG6pt27bt5rpK+//eijlCcId9z8DR9gOvtxbFOvCrG+2Lv/+UXRcpaKi0d79XZzfbtm1/8Jj9zcF32n+IrrRt+63V9lUDZ9lbau3ouX1/W2uF9x+dYl885RH7/UhBw7P2j2L+zP154eDW6xH254WD7W/+KnT+Jzyf8PH+cXPM+/vgMfub7ez/eNfzzwsH2xcvPrXPQ+RsVXe03q47Wh99ffDgwehSXV1tHzhwwP7www/tAwcO2C+//LJ9//3327fffrt9xx132Pfcc4+9fv16+9lnn7W3bt1qb9682X7sscfsRx55xK6pqWmzr8jS3nFFREROyQeP2d+M3j/G+NO99sUD77X/HFccceB399pXDR9uX35Vtn350OH2VfftsOti75OD1fYf7s62Lxs62r7qqtH2ZcOz7QcKYm9cw6qfsL9/Vbb9tZGD7a/Nf9Y+ELqxjOro89L7v7rRvnjsvfafj3Mo6YLqCu17xg62v/mryvg1cjq08+/AgV/daF/8zcfsA7Z9Ss+BnUlXzK7UgvFc0FjE8gde5Ru/yGP0Md8OyGnhSSc9cm2d4W88XTGre0b6gQBuD4PHDsK9p4SCFzazKn8h618Fn6+utU5GBpkn+6wyM2j98iyDwZcBoUZGuD2DyBrkprJkJwVPriFv4WMU46Mu5hCxMkePJr1oGdPmrWFTUQVeBjH8Ug9uwP9WKeUXuKl7ZScFL4SXaj/plFBW3roPT+/W9+h2usHlbv3WKa1Hu99AHc+Jzidap3/MV4cDBh3TjaWNuOs5+LJhRPvhnMrnIdLJOJ1OXC4XhmHgcrkYNGgQP/jBD5g/fz6TJk0iNTWViooKysrKePXVV3nnnXc4fPgwfv/xOqiJiIicLnUdmwG2agPzfvIq6bfk8fAvlvPwfdNxP72Q7z/eOkNL5Yb5LHg1ndn3rWLlL1aRf5ObrQvuYH38JC59xnNH3mJ+9uPbGVK6mGnLilqHMOrg85LvpYXc+hDk//fq1u7e0nWZVayfNZfiCev57x9E+uvLl6VDz4FyRilgPAeUPpTPH4bfyR3DfXi9Xrzeo/gjU7xrgNozb/825lw1grE/XEfBKzV4vnYjOfGjSH9O1U/PZezILOasK6Bon4fxN2UzIr5SrL9fwv8WrmXGRZVsz5/F2BEjorPv1XprwFdFyStFFEUXH0Numc6oL6pHyAnO57Q7A5+HyBch1Fk51CWamMlejscwDJxOJ+effz7jxo3j0ksv5YorrmDAgAGMGDGCyy67jObm5na7Pkf2HTlW5NgiIiKnLL0fmfiJ/y7L3+iHSwcfZ3I+PwVrVuK7/RGeuW8mOePHk3PbEl7cOJ3KFatDE2007mTVQz7m/udT5N+WTdb4bGb/vICN365i+Zqdbcd1TBtE1nWTyb0tjyd/l0fmlmWsDw8J3pHnJV/JMqb96FWy/vMJ5ipr6vrMKrbOncVy8vjvf81GebJI+xQwdnk17Hrdi79oGZPGZTF2XBZjxy2kgCrWzsji1s2hwY/lzKnesZnCoct5rXATDy/PY+5N2QzuEV/r86ih4DdFjFhRzMubVrPyvtuZetXgk/9n2D+bufc9wjPFu3j3mZn4N65kaw1kXjIcGM2sny9n5fKY5efLuTnBSb369c+AYGjSiBAvtTGTwED753O6ffGfh8gXw+EI/RduhUM/lyum2XQ7Ii0ahw0bRl1dHX6/n/r6erxeLxdffDEHDx6M3wRi9h05VuTYIiIipyxtFKOHVVH4atsZMna99ioMH3acVkheqj8AT5+4Ae/6pdMvMtGGt5pq00N6n7gqF6bDB9XUApW/X0bek3EzPaf3I5MavLV07HmpagO3zt7B8LUFPHzNSe+updPzUfiTWeR9MpMXn7q9dSIhETkuPSF0eRnMff599u2NXdYzlWHkF77P8z+IHbVWzoQUT0/YV0Vl+CtV/55HWftCfK3Pw42nJ1RWVoW/tfVT+etH2B5fLUbx/WMY+5Od+MKDY/s/qqXO2Q+PG7hqJnf13szy1WXh9X6qt8xn5Ij5bD/JzNTtGTx8GLzwCGsr/IAf7wtrWPVa6/oTns9p9sV/HiJfjEjIFwyG/qIkJx87IP3xOBwOLrzwQkzTxOPxYBgGgUCAAwcO0NLSctxJXiL7jhxLAaOIiHRcBjf/cDKlS++IuQdcyIInPdz1vexQlf3bmDdtPlv3h+pnXZNB+YYVbK0K36g1VrF1zWYqB2STNQAYMJ6cARWsf2gbleGWhv6qbaz6TRWZ14wnE8h017J16WJWlXhD98Z+L4UPrmZ7+nSmjA0d55Sel6q2MefWlfi/u4p/Hu0Pt3T04j3SkT7f0nn4KF42gzk7hrNs9XR6+sKft9fbsW7+IucQPSGInGHp05eQn76ZaX83hIGXDGHk3X7GXBtf6/NI5+af5ZH++AyGXjKEgZeMYV79aHLjq8XI+vFabn5vISOHhM9pUQXfWrucm9MB5zAW/fYRxrw0K7x+BBNX1nDzxhVM7R2/p1PjnrKUh2/0sfb6EQy8ZAzTSiaz6MbW9Sc8n9Psi/88RL4YLlfoa3TTDIV+qampcTXa53A4SElJISkpCb/fT9++fenRowcXX3wxRnim6FiRfUeOFTm2iIhIR3huWMEzd/Zk/dQRDLxkBGMXlZH170+x6KvhCp9WsavsL5S8G0pwht+9nY031LA8dwQDLxnCwBG5LK++kY2/u5fQiDbDWPS79XyreiWTRoTu5YbmrqT6hvU8f3eoq437utW8uDSD7XOyQvfGf5fFvJLxrNu+nJy06KmdVOGj+RR6oXLj7HArx/Aya7NmsO2K9m9j+eNV0FjEkkkxn/e4LB54Jb6yiAAY9vGaKnRi71ftZ8igAfHFImcdv8+Lz/SQ3vsLaJYHgB+f1wfd0vGc6s1Tow9vA3jS206oEvHFn3Ock5zP6XTG35vI52TbNkcbQs01uqWl4nQ4+Oyzz2hqaoqvegzLstixYwder5e0tDTOO+88Ghsb+fTTT7ntttvatFBMTU2lV69emJZFQ2No3z26pR03iBQRETklph/fp37cp3yPF76v9aS336PF7yNUpf19+o948bs7cG8sIvIF6YrZlVowinxJ3J70LzjMcuNJ7+ANVJqH9BPclH3x5xznJOdzOp3x9ybyORmGQVJ4bMSWlhYAunfvHlfrWLZt09zczFe+8hWGDx+OaZrRcDEpKSm+enSfkWMkhWenFhERSZjTfcIg8Fjh+9oTbeA++X2ju3cH741FROSUKWAUERHppJKTQ4FgoCWIaVq4XC569uwZX60N27aprq6mX79+tLS00KtXLxwOBz179jymm3XPnj1xuVyYpkWgJQgxxxQREREREYlQwCgiItJJOR0OksOtDpv9ofGq0tLS6NHjxFOhm6ZJcnIySUlJ9OnTB7/fj2VZ1NXVRev06NGDtLRQM4/IvpOTknBqghcREREREYmjpwQREZFOLMWdjNPpwLQsmppDQWD37t1P2JKxb9++9OzZk549e5KWlka/fv244IILqK+vh3DLxUjX6KZmP6Zl4XQ6SHGf2kzVIiIiIiJyblHAKCIi0smluN0YhkFLMBgNGdPS0khPT2/T7dm2bRobG+nfvz89evTgggsuoFu3btTX11NWVsbkyZM5//zzoy0Xm5r9tASDGIZBivtEo1qJiIiIiMi5TLNIi4iIdAFB06Sp2Y9t2zgdDlLcbpzO0PeIpmnS1NREU1MTb7/9NldccQW2bWPbNpZlceTIEdLT0+nTp0+4vkWzP9Ry0TAMUlPcuJzOuCOKiIiIiEgiumJ2pYBRRESkizCtcDBoWgAkJ7lI6sC4iaZl0dLSEp3QJdQt2n3K24uIiIiIyMl1xexKTwwiIiJdhNPhoFtqanTil0BLkIbGJhqbmvEHWjAti9jvFW3bxrQs/IEWGpuaaWhsap0tOimJbqmpChdFREREROSk9NQgIiLSxaS4k+mWlkqSywXh7tP+QICGxiaONjTiq2/AV9/A0YZGGhqb8AcCBE0TgCSXi25pqZrQRURERERETpkCRhERkS7I6XCQmuKmR7c0UlPcJLlcOB0OjJg6RrheksvVpq5aLYqIiIiISEfoCUJERKQLMwwjGiB2S0ulR/dueMJLj+7d6JaWGg0gDSM2fhQRERERETk1ChhFREREREREREQkYQoYRUREREREREREJGEKGEVERERERERERCRhChhFREREREREREQkYQoYRUREREREREREJGEKGEVERERERERERCRhChhFREREREREREQkYQoYRUREREREREREJGEKGEVERERERERERCRhChhFREREREREREQkYQoYRUREREREREREJGEKGEVERERERERERCRhChhFREREREREREQkYQoYRUREREREREREJGEKGEVERERERERERCRhhm3bdnxhZ/Z+1f74IhERERERERERkbPGkEED4os6tS4XMIqIiIiIiIiIiMiZoy7SIiIiIiIiIiIikjAFjCIiIiIiIiIiIpIwBYwiIiIiIiIiIiKSMAWMIiIiIiIiIiIikjAFjCIiIiIiIiIiIpIwBYwiIiIiIiIiIiKSMAWMIiIiIiIiIiIikjAFjCIiIiIiIiIiIpIwBYwiIiIiIiIiIiKSMAWMIiIiIiIiIiIikjAFjCIiIiIiIiIiIpIwBYwiIiIiIiIiIiKSMAWMIiIiIiIiIiIikjAFjCIiIiIiIiIiIpIwBYwiIiIiIiIiIiKSMAWMIiIiIiIiIiIikjAFjCIiIiIiIiIiIpIwBYwiIiIiIiIiIiKSMAWMIiIiIiIiIiIikjAFjCIiIiIiIiIiIpIwBYwiIiIiIiIiIiKSMAWMIiIiIiIiIiIikjAFjCIiIiIiIiIiIpIwBYwiIiIiIiIiIiKSMAWMIiIiIiIiIiIikjAFjCIiIiIiIiIiIpIwBYwiIiIiIiIiIiKSMAWMIiIiIiIiIiIikjAFjCIiIiIiIiIiIpIwBYwiIiIiIiIiIiKSMAWMIiIiIiIiIiIikjAFjCIiIiIiIiIiIpIwBYwiIiIiIiIiIiKSsP8PdrZJuDxR07UAAAAASUVORK5CYII=)"
      ],
      "metadata": {
        "id": "dbeJ4ZsI3CX-"
      }
    },
    {
      "cell_type": "code",
      "source": [],
      "metadata": {
        "id": "VRyNZixN21YA"
      },
      "execution_count": null,
      "outputs": []
    }
  ]
}